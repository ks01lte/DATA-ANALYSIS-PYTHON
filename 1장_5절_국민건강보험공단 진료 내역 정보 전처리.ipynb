{
 "cells": [
  {
   "cell_type": "code",
   "execution_count": null,
   "metadata": {},
   "outputs": [],
   "source": [
    "!pip install pandas==1.3.4"
   ]
  },
  {
   "cell_type": "code",
   "execution_count": null,
   "metadata": {},
   "outputs": [],
   "source": [
    "import pandas as pd"
   ]
  },
  {
   "cell_type": "code",
   "execution_count": null,
   "metadata": {
    "colab": {
     "base_uri": "https://localhost:8080/"
    },
    "executionInfo": {
     "elapsed": 5345,
     "status": "ok",
     "timestamp": 1698298870966,
     "user": {
      "displayName": "안윤경",
      "userId": "08326209251813559422"
     },
     "user_tz": -540
    },
    "id": "MWyaJb4BQzuG",
    "outputId": "5171d8fe-6a00-41ff-eeb2-e1abfdd75b40"
   },
   "outputs": [],
   "source": [
    "import pandas as pd\n",
    "\n",
    "# 시각화 툴\n",
    "import matplotlib.pyplot as plt\n",
    "%matplotlib inline\n",
    "\n",
    "# 한글이 출력되도록 설정합니다.\n",
    "plt.rc('font', family='Malgun Gothic')\n",
    "\n",
    "# 선명한 그래픽\n",
    "from IPython.display import set_matplotlib_formats\n",
    "set_matplotlib_formats('retina')"
   ]
  },
  {
   "cell_type": "code",
   "execution_count": null,
   "metadata": {
    "colab": {
     "base_uri": "https://localhost:8080/",
     "height": 129
    },
    "executionInfo": {
     "elapsed": 47401,
     "status": "ok",
     "timestamp": 1698298920449,
     "user": {
      "displayName": "안윤경",
      "userId": "08326209251813559422"
     },
     "user_tz": -540
    },
    "id": "eOVhpOgLQ9q6",
    "outputId": "5b6d0f24-f9b7-42b2-b6a1-1cfeb3af5910"
   },
   "outputs": [],
   "source": [
    "# 경기도 진료내역정보 파일 불러오기\n",
    "filepath = './data'\n",
    "doctor_data_1 = pd.read_csv(filepath + \"/HP_T20_2020_1.CSV\", encoding='cp949')  # ①\n",
    "doctor_data_2 = pd.read_csv(filepath + \"/HP_T20_2020_2.CSV\", encoding='cp949')\n",
    "doctor_data_3 = pd.read_csv(filepath + \"/HP_T20_2020_3.CSV\", encoding='cp949')\n",
    "\n",
    "doctor_data_1.head(2)"
   ]
  },
  {
   "cell_type": "code",
   "execution_count": null,
   "metadata": {
    "colab": {
     "base_uri": "https://localhost:8080/",
     "height": 131
    },
    "executionInfo": {
     "elapsed": 7113,
     "status": "ok",
     "timestamp": 1698298932359,
     "user": {
      "displayName": "안윤경",
      "userId": "08326209251813559422"
     },
     "user_tz": -540
    },
    "id": "xnGyrUezREH3",
    "outputId": "56f2ab18-2c7d-4953-9abf-52a733433ee6"
   },
   "outputs": [],
   "source": [
    "doctor_data = pd.concat([doctor_data_1, doctor_data_2, doctor_data_3]) #①\n",
    "target_cols = ['성별코드','연령대코드','진료과목코드','주상병코드','부상병코드']\n",
    "doctor_data_short = doctor_data[target_cols] #②\n",
    "\n",
    "print(\"2020년 진료행위 총 :\",doctor_data_short.shape[0], \"회\") #③\n",
    "doctor_data_short.head(2)"
   ]
  },
  {
   "cell_type": "code",
   "execution_count": 6,
   "metadata": {
    "executionInfo": {
     "elapsed": 719,
     "status": "ok",
     "timestamp": 1698298940068,
     "user": {
      "displayName": "안윤경",
      "userId": "08326209251813559422"
     },
     "user_tz": -540
    },
    "id": "MjAab3yARVgm"
   },
   "outputs": [],
   "source": [
    "# 진료과목코드정보 파일 불러오기\n",
    "# 앞에서 드라이브 경로를 설정(본인의 환경에 맞게 수정)했으므로 data 폴더 경로는 추가하지 않습니다.\n",
    "\n",
    "treat_code = pd.read_excel(filepath + \"/진료과목코드정보.xlsx\")"
   ]
  },
  {
   "cell_type": "code",
   "execution_count": 7,
   "metadata": {
    "executionInfo": {
     "elapsed": 443,
     "status": "ok",
     "timestamp": 1698298942145,
     "user": {
      "displayName": "안윤경",
      "userId": "08326209251813559422"
     },
     "user_tz": -540
    },
    "id": "DEHZpS23FN0J"
   },
   "outputs": [],
   "source": [
    "treat_code.dropna(inplace=True)"
   ]
  },
  {
   "cell_type": "code",
   "execution_count": null,
   "metadata": {
    "colab": {
     "base_uri": "https://localhost:8080/",
     "height": 112
    },
    "executionInfo": {
     "elapsed": 4,
     "status": "ok",
     "timestamp": 1698298943511,
     "user": {
      "displayName": "안윤경",
      "userId": "08326209251813559422"
     },
     "user_tz": -540
    },
    "id": "LfCxqViyUII5",
    "outputId": "c8814cb6-8a88-427e-edd8-08b68f3c49b3"
   },
   "outputs": [],
   "source": [
    "treat_code.head(2)"
   ]
  },
  {
   "cell_type": "code",
   "execution_count": 9,
   "metadata": {
    "executionInfo": {
     "elapsed": 2,
     "status": "ok",
     "timestamp": 1698298946027,
     "user": {
      "displayName": "안윤경",
      "userId": "08326209251813559422"
     },
     "user_tz": -540
    },
    "id": "2rEUPSNOVBt6"
   },
   "outputs": [],
   "source": [
    "treat_code = treat_code[['코드','명칭']]"
   ]
  },
  {
   "cell_type": "code",
   "execution_count": 10,
   "metadata": {
    "executionInfo": {
     "elapsed": 727,
     "status": "ok",
     "timestamp": 1698298948755,
     "user": {
      "displayName": "안윤경",
      "userId": "08326209251813559422"
     },
     "user_tz": -540
    },
    "id": "uWVO6-loVXjv"
   },
   "outputs": [],
   "source": [
    "treat_code.rename(columns={'코드':'진료과목코드_str', \"명칭\":\"진료과목\"}, inplace=True)"
   ]
  },
  {
   "cell_type": "code",
   "execution_count": null,
   "metadata": {
    "colab": {
     "base_uri": "https://localhost:8080/",
     "height": 143
    },
    "executionInfo": {
     "elapsed": 499,
     "status": "ok",
     "timestamp": 1698298950466,
     "user": {
      "displayName": "안윤경",
      "userId": "08326209251813559422"
     },
     "user_tz": -540
    },
    "id": "C4_xG2dCVo1s",
    "outputId": "5af551f9-3cad-49b4-ac1f-4490d9e7afde"
   },
   "outputs": [],
   "source": [
    "treat_code.head(3)"
   ]
  },
  {
   "cell_type": "code",
   "execution_count": null,
   "metadata": {
    "colab": {
     "base_uri": "https://localhost:8080/"
    },
    "executionInfo": {
     "elapsed": 2,
     "status": "ok",
     "timestamp": 1698298952152,
     "user": {
      "displayName": "안윤경",
      "userId": "08326209251813559422"
     },
     "user_tz": -540
    },
    "id": "wnshbCuNFh8E",
    "outputId": "d0157b5e-7e4f-411a-ddb0-7369ccb46a8d"
   },
   "outputs": [],
   "source": [
    "code = '1'\n",
    "print(\"zfill()에 2로 지정하면 \",code.zfill(2))\n",
    "print(\"zfill()에 3로 지정하면 \",code.zfill(3))"
   ]
  },
  {
   "cell_type": "code",
   "execution_count": 13,
   "metadata": {
    "executionInfo": {
     "elapsed": 1,
     "status": "ok",
     "timestamp": 1698298954385,
     "user": {
      "displayName": "안윤경",
      "userId": "08326209251813559422"
     },
     "user_tz": -540
    },
    "id": "eQTpMvQRVvge"
   },
   "outputs": [],
   "source": [
    "treat_code['진료과목코드_str'] = treat_code['진료과목코드_str'].apply(lambda x:str(x).zfill(2))"
   ]
  },
  {
   "cell_type": "code",
   "execution_count": null,
   "metadata": {
    "colab": {
     "base_uri": "https://localhost:8080/",
     "height": 143
    },
    "executionInfo": {
     "elapsed": 512,
     "status": "ok",
     "timestamp": 1698298956254,
     "user": {
      "displayName": "안윤경",
      "userId": "08326209251813559422"
     },
     "user_tz": -540
    },
    "id": "LE-WV8RiWDTq",
    "outputId": "e16cdc26-35b9-49c1-c9ae-37f40f94b40c"
   },
   "outputs": [],
   "source": [
    "treat_code.head(3)"
   ]
  },
  {
   "cell_type": "code",
   "execution_count": null,
   "metadata": {
    "colab": {
     "base_uri": "https://localhost:8080/"
    },
    "executionInfo": {
     "elapsed": 7523,
     "status": "ok",
     "timestamp": 1698298965620,
     "user": {
      "displayName": "안윤경",
      "userId": "08326209251813559422"
     },
     "user_tz": -540
    },
    "id": "33LuZA4MWFT6",
    "outputId": "2dd9ada9-7df6-4bc7-b94c-c6f656983f09"
   },
   "outputs": [],
   "source": [
    "doctor_data_short['진료과목코드_str']=doctor_data_short['진료과목코드'].apply(lambda x:str(x).zfill(2))"
   ]
  },
  {
   "cell_type": "code",
   "execution_count": null,
   "metadata": {
    "colab": {
     "base_uri": "https://localhost:8080/",
     "height": 81
    },
    "executionInfo": {
     "elapsed": 4,
     "status": "ok",
     "timestamp": 1698298967050,
     "user": {
      "displayName": "안윤경",
      "userId": "08326209251813559422"
     },
     "user_tz": -540
    },
    "id": "hMmPutLoWL9A",
    "outputId": "a581d908-65ea-45f6-d631-814a89207f72"
   },
   "outputs": [],
   "source": [
    "doctor_data_short.reset_index(drop=True, inplace=True) #①\n",
    "doctor_data_short.head(1)"
   ]
  },
  {
   "cell_type": "code",
   "execution_count": 17,
   "metadata": {
    "executionInfo": {
     "elapsed": 3887,
     "status": "ok",
     "timestamp": 1698298972852,
     "user": {
      "displayName": "안윤경",
      "userId": "08326209251813559422"
     },
     "user_tz": -540
    },
    "id": "Hmk06X58WVgo"
   },
   "outputs": [],
   "source": [
    "doctor_data_short = pd.merge(doctor_data_short, treat_code, how='left', on='진료과목코드_str')"
   ]
  },
  {
   "cell_type": "code",
   "execution_count": null,
   "metadata": {
    "colab": {
     "base_uri": "https://localhost:8080/",
     "height": 112
    },
    "executionInfo": {
     "elapsed": 605,
     "status": "ok",
     "timestamp": 1698298975604,
     "user": {
      "displayName": "안윤경",
      "userId": "08326209251813559422"
     },
     "user_tz": -540
    },
    "id": "_NKPlN5AhRpm",
    "outputId": "48fb7f5d-b2cd-4eaa-e5f9-0510891a2e95"
   },
   "outputs": [],
   "source": [
    "doctor_data_short.head(2)"
   ]
  },
  {
   "cell_type": "code",
   "execution_count": null,
   "metadata": {
    "colab": {
     "base_uri": "https://localhost:8080/"
    },
    "executionInfo": {
     "elapsed": 1028,
     "status": "ok",
     "timestamp": 1698298978083,
     "user": {
      "displayName": "안윤경",
      "userId": "08326209251813559422"
     },
     "user_tz": -540
    },
    "id": "6AQwwZ8VWgkP",
    "outputId": "d4faa2f3-89b2-4b01-e1a7-c54577760a76"
   },
   "outputs": [],
   "source": [
    "print(\"2020년 진료과목별 진료횟수 Top20\")\n",
    "doctor_data_short['진료과목'].value_counts()[:20]"
   ]
  },
  {
   "cell_type": "code",
   "execution_count": null,
   "metadata": {
    "colab": {
     "base_uri": "https://localhost:8080/",
     "height": 868
    },
    "executionInfo": {
     "elapsed": 2121,
     "status": "ok",
     "timestamp": 1698298982959,
     "user": {
      "displayName": "안윤경",
      "userId": "08326209251813559422"
     },
     "user_tz": -540
    },
    "id": "vgncPRx4WxZr",
    "outputId": "2b21c0ac-2c83-446a-d612-e2e07d98bf3b"
   },
   "outputs": [],
   "source": [
    "x_hospitals = list(doctor_data_short['진료과목'].value_counts().index) #①\n",
    "y_hos_values = doctor_data_short['진료과목'].value_counts().values #②\n",
    "\n",
    "plt.figure(figsize=(6, 10))\n",
    "plt.barh(x_hospitals, y_hos_values)"
   ]
  },
  {
   "cell_type": "code",
   "execution_count": null,
   "metadata": {
    "colab": {
     "base_uri": "https://localhost:8080/",
     "height": 112
    },
    "executionInfo": {
     "elapsed": 1067,
     "status": "ok",
     "timestamp": 1698298406684,
     "user": {
      "displayName": "안윤경",
      "userId": "08326209251813559422"
     },
     "user_tz": -540
    },
    "id": "9zUNm_gHW1ZY",
    "outputId": "69364ab3-5d37-4623-c7ab-6d5bef2420fb"
   },
   "outputs": [],
   "source": [
    "# 건강보험심사평가원 파일 불러오기\n",
    "# 앞에서 드라이브 경로를 설정(본인의 환경에 맞게 수정)했으므로 data 폴더 경로는 추가하지 않습니다.\n",
    "\n",
    "disease_code = pd.read_csv (filepath + \"/건강보험심사평가원_상병마스터.csv\", encoding = 'cp949')\n",
    "disease_code.head(2)"
   ]
  },
  {
   "cell_type": "code",
   "execution_count": 22,
   "metadata": {
    "executionInfo": {
     "elapsed": 569,
     "status": "ok",
     "timestamp": 1698298414663,
     "user": {
      "displayName": "안윤경",
      "userId": "08326209251813559422"
     },
     "user_tz": -540
    },
    "id": "Ypst08SvXU5O"
   },
   "outputs": [],
   "source": [
    "disease_code = disease_code.iloc[:,:2] #①\n",
    "disease_code.rename(columns={\"상병기호\":\"주상병코드\"}, inplace=True)"
   ]
  },
  {
   "cell_type": "code",
   "execution_count": null,
   "metadata": {
    "colab": {
     "base_uri": "https://localhost:8080/",
     "height": 112
    },
    "executionInfo": {
     "elapsed": 6,
     "status": "ok",
     "timestamp": 1698298415266,
     "user": {
      "displayName": "안윤경",
      "userId": "08326209251813559422"
     },
     "user_tz": -540
    },
    "id": "4cfYcUhHXbaY",
    "outputId": "13049fd6-40ba-40f3-9d8d-839476a0a60a"
   },
   "outputs": [],
   "source": [
    "disease_code.head(2)"
   ]
  },
  {
   "cell_type": "code",
   "execution_count": null,
   "metadata": {
    "colab": {
     "base_uri": "https://localhost:8080/",
     "height": 81
    },
    "executionInfo": {
     "elapsed": 5,
     "status": "ok",
     "timestamp": 1698298415266,
     "user": {
      "displayName": "안윤경",
      "userId": "08326209251813559422"
     },
     "user_tz": -540
    },
    "id": "br6DX6CJXglj",
    "outputId": "3ab9808f-cee0-4753-eccc-c4173b9bcff3"
   },
   "outputs": [],
   "source": [
    "doctor_data_short.head(1)"
   ]
  },
  {
   "cell_type": "code",
   "execution_count": 25,
   "metadata": {
    "executionInfo": {
     "elapsed": 15647,
     "status": "ok",
     "timestamp": 1698298430909,
     "user": {
      "displayName": "안윤경",
      "userId": "08326209251813559422"
     },
     "user_tz": -540
    },
    "id": "ydJW0hR5Xnt5"
   },
   "outputs": [],
   "source": [
    "doctor_data_short = pd.merge(doctor_data_short, disease_code, on='주상병코드', how='left')"
   ]
  },
  {
   "cell_type": "code",
   "execution_count": null,
   "metadata": {
    "colab": {
     "base_uri": "https://localhost:8080/",
     "height": 112
    },
    "executionInfo": {
     "elapsed": 4,
     "status": "ok",
     "timestamp": 1698298430909,
     "user": {
      "displayName": "안윤경",
      "userId": "08326209251813559422"
     },
     "user_tz": -540
    },
    "id": "HFwOVfQal8DH",
    "outputId": "bdeb3dab-f7ed-4d70-d18a-8a1370a09f70"
   },
   "outputs": [],
   "source": [
    "doctor_data_short.head(2)"
   ]
  },
  {
   "cell_type": "code",
   "execution_count": 27,
   "metadata": {
    "executionInfo": {
     "elapsed": 3,
     "status": "ok",
     "timestamp": 1698298430909,
     "user": {
      "displayName": "안윤경",
      "userId": "08326209251813559422"
     },
     "user_tz": -540
    },
    "id": "ATTmXhxoYJAE"
   },
   "outputs": [],
   "source": [
    "def findSex(num):\n",
    "    \"\"\"성별코드를 해석하는 함수\"\"\"\n",
    "    if num==1:\n",
    "        return \"남\"\n",
    "    else:\n",
    "        return \"여\"\n",
    "\n",
    "def ageCode(num):\n",
    "    \"\"\"연령대 분류하는 함수\"\"\"\n",
    "    if (num == 1) or (num == 2):\n",
    "        return \"9세미만\"\n",
    "    elif (num == 3) or (num == 4):\n",
    "        return \"10대\"\n",
    "    elif (num == 5) or (num == 6):\n",
    "        return \"20대\"\n",
    "    elif (num == 7) or (num == 8):\n",
    "        return \"30대\"\n",
    "    elif (num == 9) or (num == 10):\n",
    "        return \"40대\"\n",
    "    elif (num == 11) or (num == 12):\n",
    "        return \"50대\"\n",
    "    elif (num == 13) or (num == 14):\n",
    "        return \"60대\"\n",
    "    elif (num == 15) or (num == 16):\n",
    "        return \"70대\"\n",
    "    elif num == 17:\n",
    "        return \"80대\"\n",
    "    else:\n",
    "        return \"80대이상\"\n"
   ]
  },
  {
   "cell_type": "code",
   "execution_count": null,
   "metadata": {
    "colab": {
     "base_uri": "https://localhost:8080/",
     "height": 143
    },
    "executionInfo": {
     "elapsed": 27337,
     "status": "ok",
     "timestamp": 1698298503632,
     "user": {
      "displayName": "안윤경",
      "userId": "08326209251813559422"
     },
     "user_tz": -540
    },
    "id": "HjWhdLRDYSiR",
    "outputId": "a6ad92f8-a428-414f-ba4a-91d5d1b1437c"
   },
   "outputs": [],
   "source": [
    "doctor_data_short['성별']=doctor_data_short['성별코드'].apply(lambda x:findSex(num=x)) #①\n",
    "doctor_data_short['연령대']=doctor_data_short['연령대코드'].apply(lambda x:ageCode(num=x))\n",
    "doctor_data_short.head(3)"
   ]
  },
  {
   "cell_type": "code",
   "execution_count": 29,
   "metadata": {
    "executionInfo": {
     "elapsed": 180061,
     "status": "ok",
     "timestamp": 1698298822187,
     "user": {
      "displayName": "안윤경",
      "userId": "08326209251813559422"
     },
     "user_tz": -540
    },
    "id": "wOO_CTL8YWbi"
   },
   "outputs": [],
   "source": [
    "# 2020년 진료정보 파일 저장하기\n",
    "# 앞에서 드라이브 경로를 설정(본인의 환경에 맞게 수정)했으므로 data 폴더 경로는 추가하지 않습니다.\n",
    "\n",
    "doctor_data_short.to_csv(filepath + \"/2020년_진료정보.csv\", index=False)"
   ]
  }
 ],
 "metadata": {
  "colab": {
   "provenance": [
    {
     "file_id": "1hPX1-0FFcvbc6Pd4uG9Fwm_GkDM3ZXYy",
     "timestamp": 1698298995581
    }
   ]
  },
  "kernelspec": {
   "display_name": "Python 3 (ipykernel)",
   "language": "python",
   "name": "python3"
  },
  "language_info": {
   "codemirror_mode": {
    "name": "ipython",
    "version": 3
   },
   "file_extension": ".py",
   "mimetype": "text/x-python",
   "name": "python",
   "nbconvert_exporter": "python",
   "pygments_lexer": "ipython3",
   "version": "3.9.12"
  }
 },
 "nbformat": 4,
 "nbformat_minor": 1
}
