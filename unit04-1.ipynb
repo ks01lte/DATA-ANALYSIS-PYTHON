{
 "cells": [
  {
   "cell_type": "code",
   "execution_count": null,
   "metadata": {},
   "outputs": [],
   "source": [
    "import matplotlib.pyplot as plt # 앞으로는 plt라는 별명을 사용해 임포트\n",
    "plt.plot([10,20,30,40])\n",
    "plt.show()"
   ]
  },
  {
   "cell_type": "code",
   "execution_count": null,
   "metadata": {},
   "outputs": [],
   "source": [
    "import matplotlib.pyplot as plt\n",
    "plt.plot([1,2,3,4], [12,43,25,15])\n",
    "plt.show()"
   ]
  },
  {
   "cell_type": "code",
   "execution_count": null,
   "metadata": {},
   "outputs": [],
   "source": [
    "import matplotlib.pyplot as plt\n",
    "plt.title('plotting')\n",
    "plt.plot([1,2,3,4], [12,43,25,15])\n",
    "plt.show()"
   ]
  },
  {
   "cell_type": "code",
   "execution_count": null,
   "metadata": {},
   "outputs": [],
   "source": [
    "import matplotlib.pyplot as plt\n",
    "plt.title('legend')\n",
    "plt.plot([10,20,30,40], label = 'asc') #증가를 의미하는 asc 범례\n",
    "plt.plot([40,30,20,10], label = 'desc') #감소를 의미하는 dec 범례\n",
    "plt.legend()\n",
    "plt.show()"
   ]
  },
  {
   "cell_type": "code",
   "execution_count": null,
   "metadata": {},
   "outputs": [],
   "source": [
    "import matplotlib.pyplot as plt\n",
    "plt.title('color') #제목설정\n",
    "#그래프그리기\n",
    "plt.plot([10,20,30,40], color='skyblue', label = 'skyblue') #증가를 의미하는 asc 범례\n",
    "plt.plot([40,30,20,10], 'pink',label = 'pink') #감소를 의미하는 dec 범례\n",
    "plt.legend() #범례표시\n",
    "plt.show()"
   ]
  },
  {
   "cell_type": "code",
   "execution_count": null,
   "metadata": {},
   "outputs": [],
   "source": [
    "import matplotlib.pyplot as plt\n",
    "plt.title('linestyle') #제목설정\n",
    "#빨간색 dashed 그래프\n",
    "plt.plot([10,20,30,40], color='r', linestyle='--',label='dashed')\n",
    "#초록색 dotted 그래프\n",
    "plt.plot([40,30,20,10], color='g',ls=':',label='dotted')\n",
    "plt.legend() #범례표시\n",
    "plt.show()"
   ]
  },
  {
   "cell_type": "code",
   "execution_count": null,
   "metadata": {},
   "outputs": [],
   "source": [
    "import matplotlib.pyplot as plt\n",
    "plt.title('marker') #제목설정\n",
    "#빨간색 원형 마커 그래프\n",
    "plt.plot([10,20,30,40], 'r.',label='circle')\n",
    "#초록색 삼각형 마커 그래프\n",
    "plt.plot([40,30,20,10],'g^',label='triangle up')\n",
    "plt.legend() #범례표시\n",
    "plt.show()"
   ]
  }
 ],
 "metadata": {
  "kernelspec": {
   "display_name": "Python 3",
   "language": "python",
   "name": "python3"
  },
  "language_info": {
   "codemirror_mode": {
    "name": "ipython",
    "version": 3
   },
   "file_extension": ".py",
   "mimetype": "text/x-python",
   "name": "python",
   "nbconvert_exporter": "python",
   "pygments_lexer": "ipython3",
   "version": "3.8.3"
  }
 },
 "nbformat": 4,
 "nbformat_minor": 4
}
