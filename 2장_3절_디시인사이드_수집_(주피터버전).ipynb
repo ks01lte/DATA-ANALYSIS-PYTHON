{
 "cells": [
  {
   "cell_type": "markdown",
   "metadata": {},
   "source": [
    "판다스 버전: 1.3.4<br>\n",
    "BeautifulSoup 버전 : 4.10.0<br>\n",
    "requests 버전 : 2.27.1"
   ]
  },
  {
   "cell_type": "code",
   "execution_count": null,
   "metadata": {},
   "outputs": [],
   "source": [
    "# 라이브러리 버전이 맞지 않을 경우 아래 명령어의 주석을 제거한 후 실행해주세요.\n",
    "# 이전 예제들을 실행했다면 앞에서 이미 버전을 맞췄습니다.\n",
    "# !pip install pandas==1.3.4\n",
    "# !pip install beautifulsoup4==4.10.0\n",
    "# !pip install requests==2.27.1"
   ]
  },
  {
   "cell_type": "code",
   "execution_count": 1,
   "metadata": {},
   "outputs": [
    {
     "name": "stdout",
     "output_type": "stream",
     "text": [
      "판다스 버전 : 1.3.4\n",
      "BeautifulSoup 버전 : 4.10.0\n",
      "requests 버전 : 2.27.1\n"
     ]
    }
   ],
   "source": [
    "# 버전 확인용\n",
    "import pandas as pd\n",
    "import bs4\n",
    "import requests\n",
    "\n",
    "print(\"판다스 버전 :\", pd.__version__)\n",
    "print(\"BeautifulSoup 버전 :\", bs4.__version__)\n",
    "print(\"requests 버전 :\", requests.__version__)"
   ]
  },
  {
   "cell_type": "markdown",
   "metadata": {
    "id": "_1u6UZGdjLFX"
   },
   "source": [
    "편의점 검색해서 나오는 연관 제품을 찾아보기"
   ]
  },
  {
   "cell_type": "markdown",
   "metadata": {
    "id": "NgmyIoFn80-5"
   },
   "source": [
    "필요한 라이브러리 가져오기"
   ]
  },
  {
   "cell_type": "code",
   "execution_count": 2,
   "metadata": {
    "executionInfo": {
     "elapsed": 655,
     "status": "ok",
     "timestamp": 1698300050220,
     "user": {
      "displayName": "안윤경",
      "userId": "08326209251813559422"
     },
     "user_tz": -540
    },
    "id": "5lt--j6Lhyge"
   },
   "outputs": [],
   "source": [
    "import requests\n",
    "from bs4 import BeautifulSoup\n",
    "\n",
    "import time\n",
    "import pandas as pd"
   ]
  },
  {
   "cell_type": "code",
   "execution_count": 3,
   "metadata": {
    "colab": {
     "base_uri": "https://localhost:8080/"
    },
    "executionInfo": {
     "elapsed": 8,
     "status": "ok",
     "timestamp": 1698300050220,
     "user": {
      "displayName": "안윤경",
      "userId": "08326209251813559422"
     },
     "user_tz": -540
    },
    "id": "m9Sx_pOpjQRz",
    "outputId": "1922facf-cf0d-4b85-e3a6-cdc91a2cd03d"
   },
   "outputs": [
    {
     "name": "stdout",
     "output_type": "stream",
     "text": [
      "https://search.dcinside.com/post/p/1/q/.ED.8E.B8.EC.9D.98.EC.A0.90\n",
      "https://search.dcinside.com/post/p/2/q/.ED.8E.B8.EC.9D.98.EC.A0.90\n",
      "https://search.dcinside.com/post/p/3/q/.ED.8E.B8.EC.9D.98.EC.A0.90\n",
      "https://search.dcinside.com/post/p/4/q/.ED.8E.B8.EC.9D.98.EC.A0.90\n",
      "https://search.dcinside.com/post/p/5/q/.ED.8E.B8.EC.9D.98.EC.A0.90\n",
      "https://search.dcinside.com/post/p/6/q/.ED.8E.B8.EC.9D.98.EC.A0.90\n",
      "https://search.dcinside.com/post/p/7/q/.ED.8E.B8.EC.9D.98.EC.A0.90\n",
      "https://search.dcinside.com/post/p/8/q/.ED.8E.B8.EC.9D.98.EC.A0.90\n",
      "https://search.dcinside.com/post/p/9/q/.ED.8E.B8.EC.9D.98.EC.A0.90\n"
     ]
    }
   ],
   "source": [
    "url = 'https://search.dcinside.com/post/p/{}/q/.ED.8E.B8.EC.9D.98.EC.A0.90'\n",
    "\n",
    "for page in range(1, 10):\n",
    "    print(url.format(page))"
   ]
  },
  {
   "cell_type": "markdown",
   "metadata": {
    "id": "GkIG5Y7y85xL"
   },
   "source": [
    "HTML 수집과 파싱"
   ]
  },
  {
   "cell_type": "code",
   "execution_count": 4,
   "metadata": {
    "colab": {
     "base_uri": "https://localhost:8080/"
    },
    "executionInfo": {
     "elapsed": 1197,
     "status": "ok",
     "timestamp": 1698300051413,
     "user": {
      "displayName": "안윤경",
      "userId": "08326209251813559422"
     },
     "user_tz": -540
    },
    "id": "PzoXiNG-C8Rf",
    "outputId": "40aa3949-c3ef-49da-86ad-5883d3a942da"
   },
   "outputs": [
    {
     "name": "stdout",
     "output_type": "stream",
     "text": [
      "<!DOCTYPE html>\n",
      "<html class=\"darkmode\" lang=\"ko\">\n",
      "<head>\n",
      "<meta charset=\"utf-8\"/>\n",
      "<meta content=\"IE=edge\" http-equiv=\"X-UA-Compatible\"/>\n",
      "<meta content=\"kr\" name=\"content-language\"/>\n",
      "<meta content=\"8_SyZg2Wg3LNnCmFXzETp7ld4yjZB8ny17m8QsYsLwk\" name=\"google-site-verification\"/>\n",
      "<meta content=\"디시인사이드\" name=\"author\"/>\n",
      "<meta content=\"디시인사이드 검색결과\" name=\"title\"/>\n",
      "<meta content=\"디시인사이드 검색결과\" name=\"description\"/>\n",
      "<meta content=\"website\" property=\"og:type\"/>\n",
      "<meta content=\"디시인사이드 검색결과\" property=\"og:title\"/>\n",
      "<meta content=\"디시인사이드 검색결과\" property=\"og:description\"/>\n",
      "<meta content=\"https://nstatic.dcinside.com/dc/w/images/descrip_img.png\" property=\"og:image\"/>\n",
      "<meta content=\"https://www.dcinside.com/\" property=\"og:url\"/>\n",
      "<title>디시인사이드 검색결과</title>\n",
      "<!--[if IE 7]>\r\n",
      "\t<link rel=\"stylesheet\" type=\"text/css\" href=\"https://nstatic.dcinside.com/dc/w/css/ie7.css\"/>\r\n",
      "\t<![endif]-->\n",
      "<script src=\"https://nstatic.dcinside.com/dgn/gallery/js/cross_domain.js\" type=\"text/javascript\"></script>\n",
      "<!--[if lt IE 9]>\r\n",
      "\t<script src=\"https://nstatic.dcinside.com/dgn/gallery/js/jquery-1.7.2.min.js\"></script>\r\n",
      "\t<![endif]-->\n",
      "<!--[if gte IE 9]>\r\n",
      "\t<script src=\"https://nstatic.dcinside.com/dgn/gallery/js/jquery-3.2.1.min.js\"></script>\r\n",
      "\t<![endif]-->\n",
      "<!--[if !IE]> -->\n",
      "<script src=\"https://nstatic.dcinside.com/dgn/gallery/js/jquery-3.2.1.min.js\"></script>\n",
      "<!-- <![endif]-->\n",
      "<script src=\"https://nstatic.dcinside.com/dgn/gallery/js/jquery.tmpl.min.js\" type=\"text/javascript\"></script>\n",
      "<script src=\"https://nstatic.dcinside.com/dgn/gallery/js/jquery-ui.min.js\" type=\"text/javascript\"></script>\n",
      "<script src=\"/_js/jquery/jquery.paging.js\" type=\"text/javascript\"></script>\n",
      "<script src=\"/_js/jquery/jquery.validate.js\" type=\"text/javascript\"></script>\n",
      "<script src=\"/_js/jquery/jquery.placeholder.min.js\" type=\"text/javascript\"></script>\n",
      "<script src=\"/_js/jquery/jquery.tmpl.min.js\" type=\"text/javascript\"></script>\n",
      "<script src=\"/_js/ctr_cookie.min.js\" type=\"text/javascript\"></script>\n",
      "<script src=\"/_js/common.js?220818\" type=\"text/javascript\"></script>\n",
      "<script src=\"/_js/common_json.js?220512\" type=\"text/javascript\"></script>\n",
      "<script src=\"/_js/navigation.js\" type=\"text/javascript\"></script>\n",
      "<script src=\"/_js/click_log.js\" type=\"text/javascript\"></script>\n",
      "<script src=\"https://gall.dcinside.com/_js/globalSearch.js?220331\" type=\"text/javascript\"></script>\n",
      "<script src=\"https://gall.dcinside.com/_js/crossDomainStorage.js?1\" type=\"text/javascript\"></script>\n",
      "<script src=\"https://gall.dcinside.com/_js/lately_visit_v1.js?3\" type=\"text/javascript\"></script>\n",
      "<script src=\"https://gall.dcinside.com/_js/favorite_v1.js?3\" type=\"text/javascript\"></script>\n",
      "<script src=\"https://gall.dcinside.com/_js/alarm_polling.js?2208\" type=\"text/javascript\"></script>\n",
      "<script src=\"https://gall.dcinside.com/_js/gallery_right_login.js?2208\" type=\"text/javascript\"></script>\n",
      "<script type=\"text/javascript\">\r\n",
      "\t\tdocument.domain = \"dcinside.com\";\r\n",
      "\t</script>\n",
      "<link href=\"https://nstatic.dcinside.com/dc/w/images/logo_icon.ico\" rel=\"shortcut icon\"/>\n",
      "<link href=\"https://nstatic.dcinside.com/dc/w/css/reset.css?v=2\" rel=\"stylesheet\" type=\"text/css\"/>\n",
      "<link href=\"https://nstatic.dcinside.com/dc/w/css/common.css?2212\" rel=\"stylesheet\" type=\"text/css\"/>\n",
      "<link href=\"https://nstatic.dcinside.com/dc/w/css/contents.css?v=220614\" rel=\"stylesheet\" type=\"text/css\"/>\n",
      "<link href=\"https://nstatic.dcinside.com/dc/w/css/popup.css?2203\" rel=\"stylesheet\" type=\"text/css\"/>\n",
      "<script src=\"https://nstatic.dcinside.com/dc/w/js/html5shiv.min.js\" type=\"text/javascript\"></script>\n",
      "<!--[if IE 7]>\r\n",
      "\t\t<Link Rel=\"Stylesheet\" Type=\"Text/Css\" Href=\"Https://Nstatic.Dcinside.Com/Dc/W/Css/Ie7.Css\"/>\r\n",
      "\t<![Endif]-->\n",
      "<style type=\"text/css\">\r\n",
      "\t.search_keylayer { left: 340px; }\r\n",
      "\t</style>\n",
      "<script type=\"text/javascript\">\r\n",
      "\t\t//우측 상단 더보기\r\n",
      "\t\tfunction moreView1()\r\n",
      "\t\t{\r\n",
      "\t\t\tif(document.getElementById(\"gnb_layer2\").style.display ==\"none\")\r\n",
      "\t\t\t{\r\n",
      "\t\t\t\tdocument.getElementById(\"gnb_layer2\").style.display =\"block\";\r\n",
      "\t\t\t}\r\n",
      "\t\t\telse {\r\n",
      "\t\t\t\tdocument.getElementById(\"gnb_layer2\").style.display =\"none\";\r\n",
      "\t\t\t}\r\n",
      "\t\t}\r\n",
      "\r\n",
      "\t</script>\n",
      "</head>\n",
      "<body>\n",
      "<script>\r\n",
      "  (function(i,s,o,g,r,a,m){i['GoogleAnalyticsObject']=r;i[r]=i[r]||function(){\r\n",
      "  (i[r].q=i[r].q||[]).push(arguments)},i[r].l=1*new Date();a=s.createElement(o),\r\n",
      "  m=s.getElementsByTagName(o)[0];a.async=1;a.src=g;m.parentNode.insertBefore(a,m)\r\n",
      "  })(window,document,'script','https://www.google-analytics.com/analytics.js','ga');\r\n",
      "\r\n",
      "  ga('create', 'UA-5149721-69', 'auto');\r\n",
      "  ga('require', 'displayfeatures');\r\n",
      "  ga('send', 'pageview');\r\n",
      "\r\n",
      "</script>\n",
      "<!--스킵 내비게이션-->\n",
      "<div class=\"skip\">\n",
      "<a href=\"#search_wrap\"><span>통합검색 바로가기</span></a>\n",
      "<a href=\"#container\"><span>본문영역 바로가기</span></a>\n",
      "</div>\n",
      "<!-- //스킵 내비게이션-->\n",
      "<div class=\"dcwrap width1160 integrate_schwrap\" id=\"top\">\n",
      "<!-- 상단 -->\n",
      "<header class=\"dcheader\">\n",
      "<div class=\"dchead\">\n",
      "<!-- 로고영역 -->\n",
      "<h1 class=\"dc_logo\">\n",
      "<a href=\"https://www.dcinside.com/\">\n",
      "<img alt=\"디시인사이드\" class=\"logo_img\" src=\"https://nstatic.dcinside.com/dc/w/images/dcin_logo.png\"/> </a>\n",
      "<a href=\"https://search.dcinside.com/\">\n",
      "<img alt=\"통합검색\" class=\"logo_img2\" src=\"https://nstatic.dcinside.com/dc/w/images/tit_integrate_search.png\"/> </a>\n",
      "</h1>\n",
      "<!-- //로고영역 -->\n",
      "<div class=\"wrap_search\" id=\"search_wrap\">\n",
      "<h2 class=\"blind\">갤러리 검색</h2>\n",
      "<!-- 갤러리 통합검색 -->\n",
      "<form action=\"\" data-tab=\"post\" id=\"searchform\" method=\"get\" name=\"topSearchForm\" onsubmit=\"return globalSearch(this);\">\n",
      "<fieldset>\n",
      "<legend class=\"blind\">통합검색</legend>\n",
      "<div class=\"top_search clear\">\n",
      "<div class=\"inner_search\">\n",
      "<input accesskey=\"f\" autocomplete=\"off\" class=\"in_keyword\" id=\"gn_top_search_0\" name=\"search\" onfocus=\"show_search_keywords(this)\" placeholder=\"갤러리 &amp; 통합검색\" style=\"ime-mode:active;\" tabindex=\"1\" title=\"검색어 입력\" type=\"text\" value=\"편의점\"/>\n",
      "</div>\n",
      "<button class=\"sp_img bnt_search btn_globalSearch\"><span class=\"blind\">검색</span></button>\n",
      "<button class=\"btn_visit\" onclick=\"openLately()\" type=\"button\">최근 방문</button>\n",
      "</div>\n",
      "</fieldset>\n",
      "</form>\n",
      "<!-- //갤러리 통합검색 -->\n",
      "<!-- 최근방문 레이어 -->\n",
      "<div class=\"pop_wrap type2\" id=\"visit_history_lyr\" style=\"left:0;top:45px;display:none;\">\n",
      "<div class=\"pop_content visit bookmk\">\n",
      "<div class=\"visitab_box\">\n",
      "<button class=\"gallTab on\" onclick=\"tabLately('gall')\" type=\"button\">최근 방문</button>\n",
      "<button class=\"favTab\" onclick=\"tabLately('fav')\" type=\"button\">즐겨찾기</button>\n",
      "</div>\n",
      "<div class=\"tab_content\">\n",
      "<!-- 최근방문 갤러리 리스트 -->\n",
      "<div id=\"gall_div\">\n",
      "<p class=\"gall_msg empty_box\" style=\"display:none\">최근 방문 갤러리가 없습니다.</p>\n",
      "<ul class=\"pop_visit_list gall clear\" style=\"display:block\"></ul>\n",
      "<script id=\"lyr_lately_galls-tmpl\" type=\"text/x-jquery-tmpl\">\r\n",
      "                        <li class=\"lately_gall gall_${id}\" style=\"display:none;\">\r\n",
      "                          <a href=\"https://${link}\" class=\"lately_log\" section=\"${id}\">${name}</a>{{if type == 'MI'}}<em class=\"icon_mini\">미니갤러리</em>{{/if}}\r\n",
      "                          <button type=\"button\" class=\"btn_del\" style=\"outline:\" data-id=\"${id}\"><span class=\"blind\" >삭제</span><em class=\"sp_img icon_del\"></em></button>\r\n",
      "                        </li>\r\n",
      "\t\t\t\t\t  </script>\n",
      "</div>\n",
      "<!-- 즐겨찾기 리스트 -->\n",
      "<div id=\"fav_div\">\n",
      "<p class=\"empty_box\"><a href=\"https://sign.dcinside.com/login?s_url=https%3A%2F%2Fsearch.dcinside.com%2Fpost%2Fp%2F1%2Fq%2F.ED.8E.B8.EC.9D.98.EC.A0.90\"><span>로그인</span> 후 이용 가능합니다.</a></p>\n",
      "<script id=\"lyr_lately_favs-tmpl\" type=\"text/x-jquery-tmpl\">\r\n",
      "\t\t\t\t\t\t<li class =\"lately_gall fav_${code_id}\" style=\"display:none;\"><a href=\"https://gall.dcinside.com/{{if type == 'MI'}}mini/{{/if}}${code_id}\" class=\"\">${name}</a>{{if type == 'MI'}}<em class=\"icon_mini\">미니갤러리</em>{{else type == 'M'}}<em class=\"icon_minor\">ⓜ</em>{{/if}}</li>\r\n",
      "\t\t\t\t\t  </script>\n",
      "</div>\n",
      "</div>\n",
      "<div class=\"paging_btnbox\">\n",
      "<div class=\"inner\">\n",
      "<button class=\"btn_prev\" id=\"lately_prev\" type=\"button\"><span class=\"blind\">이전</span><em class=\"sp_img icon_prev\"></em></button>\n",
      "<div class=\"page_num page_gall\">\n",
      "<strong class=\"now_num\">1</strong>/<span class=\"total_num\">1</span>\n",
      "</div>\n",
      "<div class=\"page_num page_fav\" style=\"display:none;\">\n",
      "<strong class=\"now_num\">1</strong>/<span class=\"total_num\">1</span>\n",
      "</div>\n",
      "<button class=\"btn_next\" id=\"lately_next\" type=\"button\"><span class=\"blind\">다음</span><em class=\"sp_img icon_next\"></em></button>\n",
      "</div>\n",
      "<button class=\"list_modi page_fav\" onclick=\"myFavorite('185')\" style=\"display:none;\" type=\"button\">편집</button>\n",
      "<!-- div class=\"pop_wrap type3\" id = \"my_favorite\" style=\"right:12px;top:23px;display:none\"></div-->\n",
      "</div>\n",
      "</div>\n",
      "</div>\n",
      "<!-- //최근방문 -->\n",
      "<!-- 검색 자동완성 레이어-->\n",
      "<div class=\"top_banner\">\n",
      "</div>\n",
      "<!--자동완성 레어이 : display:block -->\n",
      "<!--div class=\"auto_wordwrap\" style=\"left:0;top:45px;display:none\">\r\n",
      "\t  </div-->\n",
      "<!-- //검색 자동완성 레이어 -->\n",
      "</div>\n",
      "<div class=\"area_links clear\">\n",
      "<ul class=\"fl clear\">\n",
      "<li><a href=\"//gall.dcinside.com/\">갤러리</a></li>\n",
      "<li><a href=\"//gall.dcinside.com/m\">마이너갤</a></li>\n",
      "<li><a href=\"//gall.dcinside.com/n\">미니갤</a></li>\n",
      "<li><a href=\"//gallog.dcinside.com\">갤로그</a></li>\n",
      "<li><a href=\"//nft.dcinside.com\">NFT</a></li>\n",
      "<li><a href=\"//dcnewsj.joins.com/\">디시뉴스</a></li>\n",
      "<li><a href=\"//dcpic.dcinside.com/\">디시픽</a></li>\n",
      "<li><a href=\"//h5.dcinside.com/game/main\">디시게임</a></li>\n",
      "<li><a href=\"//event.dcinside.com\">이벤트</a></li>\n",
      "<li><a href=\"//mall.dcinside.com/?from=A08\">디시콘</a></li>\n",
      "<li><a class=\"btn_top_loginout\" href=\"https://sign.dcinside.com/login?s_url=https://search.dcinside.com/combine/q/.ED.8E.B8.EC.9D.98.EC.A0.90\" target=\"_top\">로그인</a></li>\n",
      "</ul>\n",
      "<div class=\"fl darkmodebox\">\n",
      "<a class=\"darkonoff\" href=\"javascript:;\" onclick=\"darkmode()\"><em class=\"sp_img icon_tdark\"></em>야간모드</a>\n",
      "<div class=\"pop_tipbox join_tip dark\" onclick=\"$(this).hide();used_darkmode();\" style=\"top:25px;left:-35px;display:none\">\n",
      "<div class=\"inner\">\n",
      "<p class=\"join_txt\">야간 모드를 이용해 보세요</p>\n",
      "</div>\n",
      "</div>\n",
      "</div>\n",
      "</div>\n",
      "</div>\n",
      "</header>\n",
      "<!-- //상단 -->\n",
      "<!-- GNB -->\n",
      "<div class=\"gnb_bar\">\n",
      "<nav class=\"gnb clear\">\n",
      "<h2 class=\"blind\">GNB</h2>\n",
      "<ul class=\"gnb_list clear\">\n",
      "<li><a class=\"\" href=\"https://search.dcinside.com/combine/q/.ED.8E.B8.EC.9D.98.EC.A0.90\">통합</a></li>\n",
      "<li><a class=\"\" href=\"https://search.dcinside.com/gallery/q/.ED.8E.B8.EC.9D.98.EC.A0.90\">갤러리</a></li>\n",
      "<li><a class=\"\" href=\"https://search.dcinside.com/news/q/.ED.8E.B8.EC.9D.98.EC.A0.90\">뉴스</a></li>\n",
      "<li><a class=\"\" href=\"https://search.dcinside.com/movie/q/.ED.8E.B8.EC.9D.98.EC.A0.90\">동영상</a></li>\n",
      "<li><a class=\"on\" href=\"https://search.dcinside.com/post/q/.ED.8E.B8.EC.9D.98.EC.A0.90\">게시물</a></li>\n",
      "</ul>\n",
      "<!-- 어제 게시글,댓글 등록 -->\n",
      "<div class=\"gall_exposure\">\n",
      "<div class=\"posts\"><a href=\"https://gall.dcinside.com/board/lists/?id=dclottery\">어제 <em class=\"num\" id=\"total_content_count\"></em> 게시글 등록</a></div>\n",
      "<div class=\"reply\"><a href=\"https://gall.dcinside.com/board/lists/?id=dclottery\">어제 <em class=\"num\" id=\"total_reple_count\"></em> 댓글 등록</a></div>\n",
      "<div class=\"gall\">총 갤러리 수 <em class=\"num\" id=\"total_gallery_count\"></em></div>\n",
      "<div class=\"ltr\"><a href=\"https://gall.dcinside.com/board/lists/?id=dclottery\">디시 로터리 응모</a></div>\n",
      "</div>\n",
      "<!-- /어제 게시글,댓글 등록 -->\n",
      "</nav>\n",
      "</div>\n",
      "<!-- //GNB -->\n",
      "<main class=\"integrate_sch\" id=\"container\">\n",
      "<div class=\"group clear\">\n",
      "<!-- left_content -->\n",
      "<section class=\"left_content\">\n",
      "<h2 class=\"blind\">통합검색 왼쪽 컨텐츠 영역</h2>\n",
      "<div>\n",
      "<ins class=\"kakao_ad_area\" data-ad-height=\"600\" data-ad-unit=\"DAN-gcoZyFU6wi77I1Ar\" data-ad-width=\"160\" style=\"display:none;\"></ins>\n",
      "<script async=\"\" src=\"//t1.daumcdn.net/kas/static/ba.min.js\" type=\"text/javascript\"></script>\n",
      "</div>\n",
      "</section>\n",
      "<!-- //left_content -->\n",
      "<!-- center_content -->\n",
      "<section class=\"center_content\">\n",
      "<h2 class=\"blind\">통합검색 가운데 컨텐츠 영역</h2>\n",
      "<div class=\"inner\">\n",
      "<!-- 파워링크 -->\n",
      "<div class=\"power_link ad_premium\">\n",
      "</div>\n",
      "<!-- //파워링크 -->\n",
      "<!-- 게시물 검색결과 -->\n",
      "<div class=\"integrate_cont sch_result result_all\">\n",
      "<div class=\"integrate_cont_head clear\">\n",
      "<h3 class=\"fl\">게시물</h3>\n",
      "<div class=\"btn_sort_box fr\">\n",
      "<!-- 최순순일때 클래스 new /  정확도일때 accuracy -->\n",
      "<button class=\"btn_sort txt new\" onclick=\"location.href='/post/q/.ED.8E.B8.EC.9D.98.EC.A0.90'\">최신순</button>\n",
      "<button class=\"btn_sort txt\" onclick=\"location.href='/post/sort/accuracy/q/.ED.8E.B8.EC.9D.98.EC.A0.90'\">정확도순</button>\n",
      "<!-- <button class=\"btn_sort sp_img accuracy\"><span class=\"blind\">정확도</span></button> -->\n",
      "</div>\n",
      "</div>\n",
      "<ul class=\"sch_result_list\">\n",
      "<li>\n",
      "<a class=\"tit_txt\" href=\"https://gall.dcinside.com/board/view/?id=immovables&amp;no=7030553\" target=\"_blank\">한국의 제도만드는게 정신병자들인게</a>\n",
      "<p class=\"link_dsc_txt\">한국이 병원방문횟수가 유난히 높은 이유가 다른나라들에서는 그냥 약국이나 <b>편의점</b>에서 처방전없이 살수있는 등급의 약이나 연고들도 한국은 과도히 전문의약품으로 지정해놓고 심지어 영양제나 마찬가지인 약들...</p>\n",
      "<p class=\"link_dsc_txt dsc_sub\"><a class=\"sub_txt\" href=\"https://gall.dcinside.com/board/lists?id=immovables\" target=\"_blank\">부동산</a><span class=\"date_time\">2024.03.25 09:48</span></p>\n",
      "</li>\n",
      "<li>\n",
      "<a class=\"tit_txt\" href=\"https://gall.dcinside.com/board/view/?id=leagueoflegends5&amp;no=2275100\" target=\"_blank\">밤양갱 지금 20대여자들한테 ㅈㄴ 잘팔리더라</a>\n",
      "<p class=\"link_dsc_txt\"><b>편의점</b>가보셈 대부분 품절임</p>\n",
      "<p class=\"link_dsc_txt dsc_sub\"><a class=\"sub_txt\" href=\"https://gall.dcinside.com/board/lists?id=leagueoflegends5\" target=\"_blank\">리그 오브 레전드</a><span class=\"date_time\">2024.03.25 09:46</span></p>\n",
      "</li>\n",
      "<li>\n",
      "<a class=\"tit_txt\" href=\"https://gall.dcinside.com/mgallery/board/view/?id=wackgood&amp;no=4244885\" target=\"_blank\"><b>편의점</b> 차기작 게임 재밌음?</a>\n",
      "<p class=\"link_dsc_txt\">공포게임하면 좋긴한데</p>\n",
      "<p class=\"link_dsc_txt dsc_sub\"><a class=\"sub_txt\" href=\"https://gall.dcinside.com/mgallery/board/lists?id=wackgood\" target=\"_blank\">우왁굳(유튜버)</a><span class=\"date_time\">2024.03.25 09:43</span></p>\n",
      "</li>\n",
      "<li>\n",
      "<a class=\"tit_txt\" href=\"https://gall.dcinside.com/mgallery/board/view/?id=nokanto&amp;no=349360\" target=\"_blank\">사실 일본에 가는 이유는 그렇게 거창하진 않아</a>\n",
      "<p class=\"link_dsc_txt\">그냥 내가 좋아하는 이치란 <b>편의점</b>디저트 스시로 마츠야 가스토 사이제리야 토리키 아키하바라의 게센 가라오케 에비스바와 기린시티같은 비어 레스토랑 그리고 브루어리들이 거기 있을뿐이지…그립다…</p>\n",
      "<p class=\"link_dsc_txt dsc_sub\"><a class=\"sub_txt\" href=\"https://gall.dcinside.com/mgallery/board/lists?id=nokanto\" target=\"_blank\">일본여행 - 관동이외</a><span class=\"date_time\">2024.03.25 09:42</span></p>\n",
      "</li>\n",
      "<li>\n",
      "<a class=\"tit_txt\" href=\"https://gall.dcinside.com/board/view/?id=idolmaster_new1&amp;no=5545316\" target=\"_blank\">자가진단키트 <b>편의점</b>에도 팔지?</a>\n",
      "<p class=\"link_dsc_txt\">갑자기 코 안쪽이 쎄하네 씨발</p>\n",
      "<p class=\"link_dsc_txt dsc_sub\"><a class=\"sub_txt\" href=\"https://gall.dcinside.com/board/lists?id=idolmaster_new1\" target=\"_blank\">아이돌마스터</a><span class=\"date_time\">2024.03.25 09:42</span></p>\n",
      "</li>\n",
      "<li>\n",
      "<a class=\"tit_txt\" href=\"https://gall.dcinside.com/mini/board/view/?id=queens&amp;no=2906\" target=\"_blank\">예고편 영수증, 김민지는 ㅅㄹㅇㅂㅅㅊ 이랑 똑같을듯 ㅋㅋ</a>\n",
      "<p class=\"link_dsc_txt\">영수증은 블랙카드였나, 그거 주니까 애들이 <b>편의점</b>/식당에서 짜치게 결제한 거랑 같을 거 같음. 김민지는 같은 드라마에서 극중 현빈 CCTV 추적한 거랑 같을듯 알고 보니 미담, 알고 보니 선행 느낌으로다가...</p>\n",
      "<p class=\"link_dsc_txt dsc_sub\"><a class=\"sub_txt\" href=\"https://gall.dcinside.com/mini/board/lists?id=queens\" target=\"_blank\">눈물의 여왕</a><span class=\"date_time\">2024.03.25 09:40</span></p>\n",
      "</li>\n",
      "<li>\n",
      "<a class=\"tit_txt\" href=\"https://gall.dcinside.com/mgallery/board/view/?id=cj_girl&amp;no=710537\" target=\"_blank\">쇼쿠사이 맥주 추천한다</a>\n",
      "<p class=\"link_dsc_txt\">먹을만 하네 <b>편의점</b> 가면 다 있어</p>\n",
      "<p class=\"link_dsc_txt dsc_sub\"><a class=\"sub_txt\" href=\"https://gall.dcinside.com/mgallery/board/lists?id=cj_girl\" target=\"_blank\">CJ걸그룹</a><span class=\"date_time\">2024.03.25 09:39</span></p>\n",
      "</li>\n",
      "<li>\n",
      "<a class=\"tit_txt\" href=\"https://gall.dcinside.com/board/view/?id=dog&amp;no=977697\" target=\"_blank\">지잡대 원룸촌인데 더러운 푸들이 방황하고 있어서</a>\n",
      "<p class=\"link_dsc_txt\">백퍼 누가 키우던 앤데 본가에도 푸들 키우고 있어서 넘 안됐더라고 바로 사진찍고 애 주운데 근처 <b>편의점</b>(양해구함)하고 전봇대에 전단지 붙여놈 강아지 잃어버리신분 보호중이니 연락달라고 데려와서 씻기고 밥...</p>\n",
      "<p class=\"link_dsc_txt dsc_sub\"><a class=\"sub_txt\" href=\"https://gall.dcinside.com/board/lists?id=dog\" target=\"_blank\">멍멍이</a><span class=\"date_time\">2024.03.25 09:35</span></p>\n",
      "</li>\n",
      "<li>\n",
      "<a class=\"tit_txt\" href=\"https://gall.dcinside.com/mgallery/board/view/?id=vr&amp;no=3758223\" target=\"_blank\">자기 할말만 하고 남말은 안듣는사람이 넘 많다...</a>\n",
      "<p class=\"link_dsc_txt\"><b>편의점</b>알바하면서 정말 많이느낌... 절반이상이라는게 참... - dc official App</p>\n",
      "<p class=\"link_dsc_txt dsc_sub\"><a class=\"sub_txt\" href=\"https://gall.dcinside.com/mgallery/board/lists?id=vr\" target=\"_blank\">VRChat</a><span class=\"date_time\">2024.03.25 09:34</span></p>\n",
      "</li>\n",
      "<li>\n",
      "<a class=\"tit_txt\" href=\"https://gall.dcinside.com/board/view/?id=comic_new4&amp;no=813073\" target=\"_blank\">일본 <b>편의점</b>알바&lt; 폰도못본다함</a>\n",
      "<p class=\"link_dsc_txt\">조센알바 걍 개꿀 ㅇㅇ - dc official App</p>\n",
      "<p class=\"link_dsc_txt dsc_sub\"><a class=\"sub_txt\" href=\"https://gall.dcinside.com/board/lists?id=comic_new4\" target=\"_blank\">만화</a><span class=\"date_time\">2024.03.25 09:33</span></p>\n",
      "</li>\n",
      "<li>\n",
      "<a class=\"tit_txt\" href=\"https://gall.dcinside.com/mini/board/view/?id=flqnxmdnjfem&amp;no=72228\" target=\"_blank\">가잎 누나 <b>편의점</b>가서 깽판칠사람 구함</a>\n",
      "<p class=\"link_dsc_txt\">일단 나는 짜파게티 쏟을게.</p>\n",
      "<p class=\"link_dsc_txt dsc_sub\"><a class=\"sub_txt\" href=\"https://gall.dcinside.com/mini/board/lists?id=flqnxmdnjfem\" target=\"_blank\">리부트 월드</a><span class=\"date_time\">2024.03.25 09:31</span></p>\n",
      "</li>\n",
      "<li>\n",
      "<a class=\"tit_txt\" href=\"https://gall.dcinside.com/mgallery/board/view/?id=istj&amp;no=26182\" target=\"_blank\">나만의 강박? 루틴?</a>\n",
      "<p class=\"link_dsc_txt\">안입음. 이땐 봄임. -&gt;내복? 히트텍?도 마찬가지 2. 샤워 하지 않으면 집밖으로 나가지 않음. (집앞 <b>편의점</b>, 분리수거는 예외) 3. 중고 물건은 찝찝해서 구매 하지 않음. 4. 회사에 두고 다니는 비상 우산이 있고...</p>\n",
      "<p class=\"link_dsc_txt dsc_sub\"><a class=\"sub_txt\" href=\"https://gall.dcinside.com/mgallery/board/lists?id=istj\" target=\"_blank\">ISTJ</a><span class=\"date_time\">2024.03.25 09:28</span></p>\n",
      "</li>\n",
      "<li>\n",
      "<a class=\"tit_txt\" href=\"https://gall.dcinside.com/board/view/?id=cs_new1&amp;no=5286947\" target=\"_blank\">본인 실시간 입금 먹튀당했다</a>\n",
      "<p class=\"link_dsc_txt\">우리점은 로또해서 입금도 받는데 오늘 어떤 여드름 좀 많고 키큰 안경멸치가 <b>편의점</b> 동네에서 내려오면서 기프티카드 입금한다고 해서 동네사람이겠거니하고 입금 확인 했을때 금액 찍혀있길래 입금 됬겠거니...</p>\n",
      "<p class=\"link_dsc_txt dsc_sub\"><a class=\"sub_txt\" href=\"https://gall.dcinside.com/board/lists?id=cs_new1\" target=\"_blank\">편의점</a><span class=\"date_time\">2024.03.25 09:27</span></p>\n",
      "</li>\n",
      "<li>\n",
      "<a class=\"tit_txt\" href=\"https://gall.dcinside.com/mgallery/board/view/?id=kaguramea&amp;no=796613\" target=\"_blank\">왕대갈 <b>편의점</b> 쇼츠 떴네 ㅋㅋㅋㅋㅋㅋㅋ</a>\n",
      "<p class=\"link_dsc_txt\">https://youtu.be/qhVIKwL6XMs?si=FEigXkbsBltCoSEQ ダンボール地獄はここからはじまったスーパーマーケットシュミレーター【アルス・アルマル/にじさんじ】#shorts にじさんじ所属 魔法使いアルス・アルマルだよ...</p>\n",
      "<p class=\"link_dsc_txt dsc_sub\"><a class=\"sub_txt\" href=\"https://gall.dcinside.com/mgallery/board/lists?id=kaguramea\" target=\"_blank\">카구라 메아</a><span class=\"date_time\">2024.03.25 09:18</span></p>\n",
      "</li>\n",
      "<li>\n",
      "<a class=\"tit_txt\" href=\"https://gall.dcinside.com/board/view/?id=majak&amp;no=2043118\" target=\"_blank\">통피분신술하는거부터 멀쩡한새끼는아님</a>\n",
      "<p class=\"link_dsc_txt\">일하는것도 알바일 가능성 99% gs계열사라는데 그냥 <b>편의점</b> 때려치고 좆백수인데 마작이나하는거일듯 ㅇㅇ - dc official App</p>\n",
      "<p class=\"link_dsc_txt dsc_sub\"><a class=\"sub_txt\" href=\"https://gall.dcinside.com/board/lists?id=majak\" target=\"_blank\">마작</a><span class=\"date_time\">2024.03.25 09:17</span></p>\n",
      "</li>\n",
      "<li>\n",
      "<a class=\"tit_txt\" href=\"https://gall.dcinside.com/mgallery/board/view/?id=gshs&amp;no=2485\" target=\"_blank\">쉬는시간에 <b>편의점</b> 다녀오면 혼남?</a>\n",
      "<p class=\"link_dsc_txt\">? - dc official App</p>\n",
      "<p class=\"link_dsc_txt dsc_sub\"><a class=\"sub_txt\" href=\"https://gall.dcinside.com/mgallery/board/lists?id=gshs\" target=\"_blank\">강서고</a><span class=\"date_time\">2024.03.25 09:11</span></p>\n",
      "</li>\n",
      "<li>\n",
      "<a class=\"tit_txt\" href=\"https://gall.dcinside.com/mini/board/view/?id=flqnxmdnjfem&amp;no=72220\" target=\"_blank\">가잎이 멘헤라 터졌을때가 제일 귀여운거 같음..</a>\n",
      "<p class=\"link_dsc_txt\">멘헤라 터트리게 잼민이 500명 한번에 <b>편의점</b> 몰려갔음 좋겠다</p>\n",
      "<p class=\"link_dsc_txt dsc_sub\"><a class=\"sub_txt\" href=\"https://gall.dcinside.com/mini/board/lists?id=flqnxmdnjfem\" target=\"_blank\">리부트 월드</a><span class=\"date_time\">2024.03.25 09:03</span></p>\n",
      "</li>\n",
      "<li>\n",
      "<a class=\"tit_txt\" href=\"https://gall.dcinside.com/mgallery/board/view/?id=vr&amp;no=3758174\" target=\"_blank\">산책이나 다녀올까</a>\n",
      "<p class=\"link_dsc_txt\"><b>편의점</b>도 가고 - dc official App</p>\n",
      "<p class=\"link_dsc_txt dsc_sub\"><a class=\"sub_txt\" href=\"https://gall.dcinside.com/mgallery/board/lists?id=vr\" target=\"_blank\">VRChat</a><span class=\"date_time\">2024.03.25 08:59</span></p>\n",
      "</li>\n",
      "<li>\n",
      "<a class=\"tit_txt\" href=\"https://gall.dcinside.com/mgallery/board/view/?id=intj&amp;no=90091\" target=\"_blank\">여기 연애얘기 싫어하는거 아는데 인티제 심리좀 알려줘</a>\n",
      "<p class=\"link_dsc_txt\">점점 나한테 선톡도 자주 하고 소소한 선물도 주고 그러더라고. (어쩌다보니 발렌타인데이때 만났는데, <b>편의점</b>에서 뭐 사면서 초콜릿도 사서 줌 / 내가 손을 자주 쓰는 직업인데 그 팔목보호대? 마우스 밑에 대는...</p>\n",
      "<p class=\"link_dsc_txt dsc_sub\"><a class=\"sub_txt\" href=\"https://gall.dcinside.com/mgallery/board/lists?id=intj\" target=\"_blank\">INTJ</a><span class=\"date_time\">2024.03.25 08:48</span></p>\n",
      "</li>\n",
      "<li>\n",
      "<a class=\"tit_txt\" href=\"https://gall.dcinside.com/board/view/?id=lostark&amp;no=16723544\" target=\"_blank\">빨리씻고 <b>편의점</b>갈라햇는데</a>\n",
      "<p class=\"link_dsc_txt\">씻으면서 로갤하다 시간다감 아</p>\n",
      "<p class=\"link_dsc_txt dsc_sub\"><a class=\"sub_txt\" href=\"https://gall.dcinside.com/board/lists?id=lostark\" target=\"_blank\">로스트아크</a><span class=\"date_time\">2024.03.25 08:48</span></p>\n",
      "</li>\n",
      "<li>\n",
      "<a class=\"tit_txt\" href=\"https://gall.dcinside.com/board/view/?id=cs_new1&amp;no=5286856\" target=\"_blank\">시 평가좀</a>\n",
      "<p class=\"link_dsc_txt\"><b>편의점</b> 출근길. 따뜻한 바람이 길을따라 나에게 불어온다 흩날리는 머리카락이 바람을 안겨준다 지나가고 서로 얘기하고 일을 하며 제각각의 모습 그리고 마음같은 하늘, 구름과 태양 그립다 - dc official App</p>\n",
      "<p class=\"link_dsc_txt dsc_sub\"><a class=\"sub_txt\" href=\"https://gall.dcinside.com/board/lists?id=cs_new1\" target=\"_blank\">편의점</a><span class=\"date_time\">2024.03.25 08:43</span></p>\n",
      "</li>\n",
      "<li>\n",
      "<a class=\"tit_txt\" href=\"https://gall.dcinside.com/mgallery/board/view/?id=fromis9real&amp;no=3716129\" target=\"_blank\"><b>편의점</b> 본사가 얼마나 떼가길래</a>\n",
      "<p class=\"link_dsc_txt\">아침 매출 50 찍는 점장이 돈업다고 울상인거임</p>\n",
      "<p class=\"link_dsc_txt dsc_sub\"><a class=\"sub_txt\" href=\"https://gall.dcinside.com/mgallery/board/lists?id=fromis9real\" target=\"_blank\">프로미스나인 리얼리티</a><span class=\"date_time\">2024.03.25 08:42</span></p>\n",
      "</li>\n",
      "<li>\n",
      "<a class=\"tit_txt\" href=\"https://gall.dcinside.com/board/view/?id=policeofficer&amp;no=1373676\" target=\"_blank\">오늘 집에 안가고 <b>편의점</b>에서 계란이나 닭찌찌 먹는다</a>\n",
      "<p class=\"link_dsc_txt\"><b>편의점</b> 햄버거 꼴리면 어카냐</p>\n",
      "<p class=\"link_dsc_txt dsc_sub\"><a class=\"sub_txt\" href=\"https://gall.dcinside.com/board/lists?id=policeofficer\" target=\"_blank\">순경</a><span class=\"date_time\">2024.03.25 08:37</span></p>\n",
      "</li>\n",
      "<li>\n",
      "<a class=\"tit_txt\" href=\"https://gall.dcinside.com/board/view/?id=cs_new1&amp;no=5286845\" target=\"_blank\">니들 전군무자가 일 좆같이하면 점장한테 꼰지름?</a>\n",
      "<p class=\"link_dsc_txt\">기본적으로 안채우고 앞으로 땡김 (바빠서 못채웠다는데 개씹소리임 번화가도 아니고 아파트 단지내 <b>편의점</b>인데 손님없는데도 뭘 할려는 시늉도 없고 걍 앉아서 핸폰함) 2. 손님 있는데 앉아서 핸폰함 3. 월화 수...</p>\n",
      "<p class=\"link_dsc_txt dsc_sub\"><a class=\"sub_txt\" href=\"https://gall.dcinside.com/board/lists?id=cs_new1\" target=\"_blank\">편의점</a><span class=\"date_time\">2024.03.25 08:36</span></p>\n",
      "</li>\n",
      "<li>\n",
      "<a class=\"tit_txt\" href=\"https://gall.dcinside.com/board/view/?id=cs_new1&amp;no=5286844\" target=\"_blank\">(알바생들 필독) 어제 미짜 양아치들이 담배뚫을려고 했음</a>\n",
      "<p class=\"link_dsc_txt\">걸고 형님 불러서 자칭 형님이란 놈이 양아치의 전형적인 클러치백 들고 특유의 껄렁껄렁한 걸음걸이로 <b>편의점</b> 들어옴 그러더니 클러치에서 신분증 꺼내서 계산대에 탁 던지면서 ‘이제 된거죠?’ 하면서 옆에서...</p>\n",
      "<p class=\"link_dsc_txt dsc_sub\"><a class=\"sub_txt\" href=\"https://gall.dcinside.com/board/lists?id=cs_new1\" target=\"_blank\">편의점</a><span class=\"date_time\">2024.03.25 08:35</span></p>\n",
      "</li>\n",
      "</ul>\n",
      "</div>\n",
      "</div>\n",
      "<!-- 하단 통합 검색-->\n",
      "<div class=\"integrate_buttom_search\">\n",
      "<!-- 페이징 -->\n",
      "<div class=\"bottom_paging_box iconpaging\" id=\"dgn_btn_paging\"><em>1</em><a href=\"/post/p/2/q/.ED.8E.B8.EC.9D.98.EC.A0.90\">2</a><a href=\"/post/p/3/q/.ED.8E.B8.EC.9D.98.EC.A0.90\">3</a><a href=\"/post/p/4/q/.ED.8E.B8.EC.9D.98.EC.A0.90\">4</a><a href=\"/post/p/5/q/.ED.8E.B8.EC.9D.98.EC.A0.90\">5</a><a href=\"/post/p/6/q/.ED.8E.B8.EC.9D.98.EC.A0.90\">6</a><a href=\"/post/p/7/q/.ED.8E.B8.EC.9D.98.EC.A0.90\">7</a><a href=\"/post/p/8/q/.ED.8E.B8.EC.9D.98.EC.A0.90\">8</a><a href=\"/post/p/9/q/.ED.8E.B8.EC.9D.98.EC.A0.90\">9</a><a href=\"/post/p/10/q/.ED.8E.B8.EC.9D.98.EC.A0.90\">10</a><a class=\"sp_pagingicon page_next\" href=\"/post/p/11/q/.ED.8E.B8.EC.9D.98.EC.A0.90\">다음</a><a class=\"sp_pagingicon page_end\" href=\"/post/p/120/q/.ED.8E.B8.EC.9D.98.EC.A0.90\">끝</a></div><!-- //페이징 -->\n",
      "<form action=\"https://search.dcinside.com/combine/\" method=\"get\" name=\"bottomSearchForm\" onsubmit=\"return globalSearch(this);\">\n",
      "<fieldset>\n",
      "<legend class=\"blind\">통합검색</legend>\n",
      "<div class=\"buttom_search_wrap clear\">\n",
      "<div class=\"bottom_search fl clear\">\n",
      "<div class=\"inner_search\">\n",
      "<input class=\"in_keyword\" name=\"search\" title=\"검색어 입력\" type=\"text\" value=\"편의점\"/>\n",
      "</div>\n",
      "<button class=\"sp_img bnt_search btn_globalSearch\" type=\"submit\"><span class=\"blind\">검색</span></button>\n",
      "</div>\n",
      "</div>\n",
      "</fieldset>\n",
      "</form>\n",
      "</div>\n",
      "<!-- //하단 통합 검색-->\n",
      "</section>\n",
      "<!-- right_content -->\n",
      "<section class=\"right_content\">\n",
      "<h2 class=\"blind\">통합검색 오른쪽 컨텐츠 영역</h2>\n",
      "<!-- 다음 검색 -->\n",
      "<article>\n",
      "<div class=\"content_box r_only_daum\">\n",
      "<header class=\"clear\">\n",
      "<h3 class=\"tit fl\"><a href=\"\">다음 검색</a></h3>\n",
      "<div class=\"fr\">\n",
      "<a class=\"inner_txt\" href=\"https://daum.net\">제공 Daum 검색</a><button onclick=\"$('.daum_tip').show();\" type=\"button\"><span class=\"blind\">다음검색이란</span><em class=\"sp_img icon_tip_open\"></em></button>\n",
      "</div>\n",
      "<div class=\"pop_tipbox daum_tip\" style=\"left:0px;top:11px;display:none\"><!-- 220419 left,top값 수정-->\n",
      "<div class=\"inner\">\r\n",
      "                    검색어를 누르면, Daum 검색결과로 이동합니다.\r\n",
      "            \t<button class=\"btn_tipclose\" onclick=\"$('.daum_tip').hide();\" type=\"button\"><span class=\"blind\">닫기</span><em class=\"sp_img icon_tipclose\"></em></button>\n",
      "</div>\n",
      "</div>\n",
      "</header>\n",
      "<div class=\"only_daum_area\">\n",
      "<form>\n",
      "<fieldset>\n",
      "<legend class=\"blind\">다음 검색</legend>\n",
      "<div class=\"small_searchbox clear\">\n",
      "<input class=\"small_in_keyword\" onkeydown=\"javascript:if(event.keyCode==13){searchKaKao();};\" title=\"검색어 입력\" type=\"text\"/>\n",
      "<input class=\"origin_keyword\" name=\"origin_keyword\" type=\"hidden\" value=\"\"/>\n",
      "<button class=\"btn_iconsearch\"><span class=\"blind\" onclick=\"searchKaKao();\">검색</span><em class=\"sp_img icon_smallsearch\"></em></button>\n",
      "<button class=\"bnt_smallsearch\" onclick=\"searchKaKao();\" type=\"submit\">다음 검색</button>\n",
      "<!-- 검색 자동완성 레이어-->\n",
      "<div class=\"auto_wordwrap small\" style=\"left:-1px;top:28px;display:none\"><!--자동완성 레어이 : display:block -->\n",
      "<div class=\"auto_word\">\n",
      "<div class=\"word_box\">\n",
      "<h3 class=\"blind\">실기간 검색결과</h3>\n",
      "<ul class=\"word_list\">\n",
      "</ul>\n",
      "</div>\n",
      "</div>\n",
      "<div class=\"word_close\"><a class=\"sp_img btn_close\" href=\"javascript:hideLyr()\"><span class=\"blind\">자동완성 레이어 닫기</span></a></div>\n",
      "</div>\n",
      "<!-- //검색 자동완성 레이어 -->\n",
      "</div>\n",
      "</fieldset>\n",
      "</form>\n",
      "<div class=\"fix_element\">\n",
      "<a class=\"fix_txt\" href=\"https://search.daum.net/search?&amp;w=tot&amp;DA=DIK&amp;q=%EB%82%A0%EC%94%A8+%ED%98%84%EC%9C%84%EC%B9%98\" target=\"_blank\">날씨</a>\n",
      "<a class=\"fix_txt\" href=\"https://search.daum.net/search?&amp;w=tot&amp;DA=DIK&amp;q=%EC%9A%B4%EC%84%B8\" target=\"_blank\">운세</a>\n",
      "<a class=\"fix_txt\" href=\"https://search.daum.net/search?&amp;w=tot&amp;DA=DIK&amp;q=%ED%99%98%EC%9C%A8\" target=\"_blank\">환율</a>\n",
      "</div>\n",
      "</div>\n",
      "</div>\n",
      "</article>\n",
      "<!-- //다음 검색 -->\n",
      "<!-- 실시간 베스트 -->\n",
      "<article>\n",
      "<div class=\"content_box r_timebest\">\n",
      "<header>\n",
      "<h3 class=\"tit\"><a href=\"https://gall.dcinside.com/board/lists?id=dcbest\">실시간 베스트</a></h3>\n",
      "<div class=\"pageing_box\">\n",
      "<div class=\"page_num\">\n",
      "<strong class=\"now_num realtimeNum\">1</strong>/<span class=\"total_num realtimeTotal\">8</span>\n",
      "</div>\n",
      "<button class=\"btn_blueprev\" id=\"realtime_prev\" type=\"button\"><span class=\"blind\">이전</span><em class=\"sp_img icon_blueprev\"></em></button>\n",
      "<button class=\"btn_bluenext on\" id=\"realtime_next\" type=\"button\"><span class=\"blind\">다음</span><em class=\"sp_img icon_bluenext\"></em></button>\n",
      "</div>\n",
      "</header>\n",
      "<div class=\"rcont_imgtxt_box\">\n",
      "<div class=\"img\">\n",
      "<div class=\"rcontimg_box\">\n",
      "<a class=\"inner logClass\" depth1=\"rightframe\" depth2=\"realtimebest\" href=\"https://gall.dcinside.com/board/view/?id=dcbest&amp;no=217850\">\n",
      "<span class=\"img_box\">\n",
      "<img alt=\"\" src=\"https://dccdn11.dcinside.co.kr/viewimage.php?id=29bed223f6c6&amp;no=24b0d769e1d32ca73de982fa11d02831c01d6e5fbed2bd28d2c5c652a56b8506dda7f42e66e39ecab5124ea5a4cd881ca07f79bd9fc6d948f2dec44a6dc84e937c29a5d17d0d18c9f42ca8431c95bcb331cc0985cdac980c938ccc6ff0a4d5ccb5fd62ed0cb55465135767e8\" style=\"\"/>\n",
      "</span>\n",
      "<div class=\"txt_box\">\n",
      "<strong>훌쩍훌쩍 날짜순으로 보면 비극인 유튜브 채널</strong>\n",
      "</div>\n",
      "</a>\n",
      "</div>\n",
      "<div class=\"rcontimg_box\">\n",
      "<a class=\"inner logClass\" depth1=\"rightframe\" depth2=\"realtimebest\" href=\"https://gall.dcinside.com/board/view/?id=dcbest&amp;no=217783\">\n",
      "<span class=\"img_box\">\n",
      "<img alt=\"\" src=\"https://dccdn11.dcinside.co.kr/viewimage.php?id=29bed223f6c6&amp;no=24b0d769e1d32ca73fe982fa11d0283196af1a5a1a0ccbfb9e99ea608aba268a030988761d3cab9d67f5ec58728c798e8b193774d79a000ac96a9d70ad0b\" style=\"\"/>\n",
      "</span>\n",
      "<div class=\"txt_box\">\n",
      "<strong>친절한 폭주족들.jpg</strong>\n",
      "</div>\n",
      "</a>\n",
      "</div>\n",
      "<div class=\"rcontimg_box\" style=\"display:none;\">\n",
      "<a class=\"inner logClass\" depth1=\"rightframe\" depth2=\"realtimebest\" href=\"https://gall.dcinside.com/board/view/?id=dcbest&amp;no=217771\">\n",
      "<span class=\"img_box\">\n",
      "<img alt=\"\" src=\"https://dccdn11.dcinside.co.kr/viewimage.php?id=29bed223f6c6&amp;no=24b0d769e1d32ca73fe982fa11d0283196af1a5a1a0ccbfb9e99ea608abd268a701ea14e6a032f4ecb35be840feb476339cfe12d443a72bf52cddbf6bce422d82dcc343ff9345af8\" style=\"\"/>\n",
      "</span>\n",
      "<div class=\"txt_box\">\n",
      "<strong>[ 쇼킹 ] 직전 민주당 정권 시절 안정적인 대파가격 ㄷㄷㄷㄷㄷㄷㄷㄷㄷㄷ</strong>\n",
      "</div>\n",
      "</a>\n",
      "</div>\n",
      "<div class=\"rcontimg_box\" style=\"display:none;\">\n",
      "<a class=\"inner logClass\" depth1=\"rightframe\" depth2=\"realtimebest\" href=\"https://gall.dcinside.com/board/view/?id=dcbest&amp;no=217841\">\n",
      "<span class=\"img_box\">\n",
      "<img alt=\"\" src=\"https://dccdn11.dcinside.co.kr/viewimage.php?id=29bed223f6c6&amp;no=24b0d769e1d32ca73de982fa11d02831c01d6e5fbed2bd28d2c5c652a56c8506e5fe59cd8a3852af769a8ac7056d1eaff8e644f59196a1ac2f7053304b9752c4bb9f31ec990ef9b954bc\" style=\"\"/>\n",
      "</span>\n",
      "<div class=\"txt_box\">\n",
      "<strong>싱글벙글...디아4를 빨리 하고 싶은 정치인...jpg</strong>\n",
      "</div>\n",
      "</a>\n",
      "</div>\n",
      "<div class=\"rcontimg_box\" style=\"display:none;\">\n",
      "<a class=\"inner logClass\" depth1=\"rightframe\" depth2=\"realtimebest\" href=\"https://gall.dcinside.com/board/view/?id=dcbest&amp;no=217746\">\n",
      "<span class=\"img_box\">\n",
      "<img alt=\"\" src=\"https://dccdn11.dcinside.co.kr/viewimage.php?id=29bed223f6c6&amp;no=24b0d769e1d32ca73fe982fa11d0283196af1a5a1a0ccbfb9e99ea608abd268926b948c5239195181a24cab0433abc6b0d6d06008930816bd6a5993b12e6887e90b4f46d169125d3afabce97317def7dbcc25c\" style=\"\"/>\n",
      "</span>\n",
      "<div class=\"txt_box\">\n",
      "<strong>전기료 동결됐지만...국민들 앞 '암울한 예고' </strong>\n",
      "</div>\n",
      "</a>\n",
      "</div>\n",
      "<div class=\"rcontimg_box\" style=\"display:none;\">\n",
      "<a class=\"inner logClass\" depth1=\"rightframe\" depth2=\"realtimebest\" href=\"https://gall.dcinside.com/board/view/?id=dcbest&amp;no=217864\">\n",
      "<span class=\"img_box\">\n",
      "<img alt=\"\" src=\"https://dccdn11.dcinside.co.kr/viewimage.php?id=29bed223f6c6&amp;no=24b0d769e1d32ca73de982fa11d02831c01d6e5fbed2bd28d2c5c652a56c851bf99d2d77d0b6eb26dae3423db1964dcbb9477825d09d9f269b0c3100137e609eba1903165979870f94be45abf2fb5411164752c714ff185548e881c96684d56d682094f88c\" style=\"\"/>\n",
      "</span>\n",
      "<div class=\"txt_box\">\n",
      "<strong>한일부부)애는 낳아야돼?</strong>\n",
      "</div>\n",
      "</a>\n",
      "</div>\n",
      "<div class=\"rcontimg_box\" style=\"display:none;\">\n",
      "<a class=\"inner logClass\" depth1=\"rightframe\" depth2=\"realtimebest\" href=\"https://gall.dcinside.com/board/view/?id=dcbest&amp;no=217786\">\n",
      "<span class=\"img_box\">\n",
      "<img alt=\"\" src=\"https://dccdn11.dcinside.co.kr/viewimage.php?id=29bed223f6c6&amp;no=24b0d769e1d32ca73de982fa11d02831c01d6e5fbed2bd28d2c5c652a56c8506e5fe59cd8a3852af769a8ac7056d1eaffbee4cf7999fa2aa2c7e53624b915d955a1428277e0014dab376\" style=\"\"/>\n",
      "</span>\n",
      "<div class=\"txt_box\">\n",
      "<strong>싱글벙글 중국에서 난리난 넷플릭스 드라마.jpg</strong>\n",
      "</div>\n",
      "</a>\n",
      "</div>\n",
      "<div class=\"rcontimg_box\" style=\"display:none;\">\n",
      "<a class=\"inner logClass\" depth1=\"rightframe\" depth2=\"realtimebest\" href=\"https://gall.dcinside.com/board/view/?id=dcbest&amp;no=217828\">\n",
      "<span class=\"img_box\">\n",
      "<img alt=\"\" src=\"https://dccdn11.dcinside.co.kr/viewimage.php?id=29bed223f6c6&amp;no=24b0d769e1d32ca73de982fa11d02831c01d6e5fbed2bd28d2c5c652a56c8506e5fe59cd8a3852af769a8ac7056d1eaffae94df09194a2ad297553651dc205cdf0e38f541c7baeebb86e\" style=\"\"/>\n",
      "</span>\n",
      "<div class=\"txt_box\">\n",
      "<strong>자신의 인생을 망가트린 집단의 인권마저도 지켜준 새끼의 이야기</strong>\n",
      "</div>\n",
      "</a>\n",
      "</div>\n",
      "<div class=\"rcontimg_box\" style=\"display:none;\">\n",
      "<a class=\"inner logClass\" depth1=\"rightframe\" depth2=\"realtimebest\" href=\"https://gall.dcinside.com/board/view/?id=dcbest&amp;no=217780\">\n",
      "<span class=\"img_box\">\n",
      "<img alt=\"\" src=\"https://dccdn11.dcinside.co.kr/viewimage.php?id=29bed223f6c6&amp;no=24b0d769e1d32ca73fe982fa11d0283196af1a5a1a0ccbfb9e99ea608aba268e5f8e7225eeeb42170cc35c220d8c8f76c0175f207ea1549b52026c6781d0\" style=\"{\" top=\"\"/>\n",
      "</span>\n",
      "<div class=\"txt_box\">\n",
      "<strong>평택 한미동맹 든든 샌드위치.jpg</strong>\n",
      "</div>\n",
      "</a>\n",
      "</div>\n",
      "<div class=\"rcontimg_box\" style=\"display:none;\">\n",
      "<a class=\"inner logClass\" depth1=\"rightframe\" depth2=\"realtimebest\" href=\"https://gall.dcinside.com/board/view/?id=dcbest&amp;no=217790\">\n",
      "<span class=\"img_box\">\n",
      "<img alt=\"\" src=\"https://dccdn11.dcinside.co.kr/viewimage.php?id=29bed223f6c6&amp;no=24b0d769e1d32ca73fe982fa11d0283196af1a5a1a0ccbfb9e99ea608abd268926b948c5239196101222cbb74334b565bc945c3a8b87158cf3b4404e3060a72d\" style=\"\"/>\n",
      "</span>\n",
      "<div class=\"txt_box\">\n",
      "<strong>요즘 발등에 불 떨어진 한녀들 근황</strong>\n",
      "</div>\n",
      "</a>\n",
      "</div>\n",
      "<div class=\"rcontimg_box\" style=\"display:none;\">\n",
      "<a class=\"inner logClass\" depth1=\"rightframe\" depth2=\"realtimebest\" href=\"https://gall.dcinside.com/board/view/?id=dcbest&amp;no=217822\">\n",
      "<span class=\"img_box\">\n",
      "<img alt=\"\" src=\"https://dccdn11.dcinside.co.kr/viewimage.php?id=29bed223f6c6&amp;no=24b0d769e1d32ca73de982fa11d02831c01d6e5fbed2bd28d2c5c652a56c8506e5fe59cd8a3852af769a8ac7056d1eaffae94df19890a0a3237f53641c9154c7159efc902279473304194c7159147521dd6bc79bb1280a8fa37e9dc7712639b2e331c7258f654854f7ca311c416392\" style=\"\"/>\n",
      "</span>\n",
      "<div class=\"txt_box\">\n",
      "<strong>싱글벙글 최고의 친구 일본과 한국</strong>\n",
      "</div>\n",
      "</a>\n",
      "</div>\n",
      "<div class=\"rcontimg_box\" style=\"display:none;\">\n",
      "<a class=\"inner logClass\" depth1=\"rightframe\" depth2=\"realtimebest\" href=\"https://gall.dcinside.com/board/view/?id=dcbest&amp;no=217810\">\n",
      "<span class=\"img_box\">\n",
      "<img alt=\"\" src=\"https://dccdn11.dcinside.co.kr/viewimage.php?id=29bed223f6c6&amp;no=24b0d769e1d32ca73fe982fa11d0283196af1a5a1a0ccbfb9e99ea608abd268babf43227fdd4b61cba3589eaef91fed74f18c5cf0613c5e2855b065416b1eeed9edaa6befebf2c158a1d\" style=\"\"/>\n",
      "</span>\n",
      "<div class=\"txt_box\">\n",
      "<strong>코로나 이후 연도별 관객수 TOP 3 정리...</strong>\n",
      "</div>\n",
      "</a>\n",
      "</div>\n",
      "<div class=\"rcontimg_box\" style=\"display:none;\">\n",
      "<a class=\"inner logClass\" depth1=\"rightframe\" depth2=\"realtimebest\" href=\"https://gall.dcinside.com/board/view/?id=dcbest&amp;no=217875\">\n",
      "<span class=\"img_box\">\n",
      "<img alt=\"\" src=\"https://dccdn11.dcinside.co.kr/viewimage.php?id=29bed223f6c6&amp;no=24b0d769e1d32ca73fe982fa11d0283196af1a5a1a0ccbfb9e99ea608abd268d1ef5fc235e7df83ca8deedfc5187b9b4e15dfaca9b73abaaa6cefbd8e64089119aef5e3f13714069d9274fe4a1d30263e2a085192b42e8b9e50251a0caab6cd9d7a9e52b466abdfe022a584f\" style=\"\"/>\n",
      "</span>\n",
      "<div class=\"txt_box\">\n",
      "<strong>기러기 아빠 상위 1%</strong>\n",
      "</div>\n",
      "</a>\n",
      "</div>\n",
      "<div class=\"rcontimg_box\" style=\"display:none;\">\n",
      "<a class=\"inner logClass\" depth1=\"rightframe\" depth2=\"realtimebest\" href=\"https://gall.dcinside.com/board/view/?id=dcbest&amp;no=217820\">\n",
      "<span class=\"img_box\">\n",
      "<img alt=\"\" src=\"https://dccdn11.dcinside.co.kr/viewimage.php?id=29bed223f6c6&amp;no=24b0d769e1d32ca73fe982fa11d0283196af1a5a1a0ccbfb9e99ea608abd268babeb2d27ecc3b612b845d5bda0c1a3cad48439ae24a09e8ee8e6387c7dd0544fb0001e9a6dc08f8968382c2f9005\" style=\"\"/>\n",
      "</span>\n",
      "<div class=\"txt_box\">\n",
      "<strong>노량진서 9급 7년째 준비하는 공시생.jpg</strong>\n",
      "</div>\n",
      "</a>\n",
      "</div>\n",
      "<div class=\"rcontimg_box\" style=\"display:none;\">\n",
      "<a class=\"inner logClass\" depth1=\"rightframe\" depth2=\"realtimebest\" href=\"https://gall.dcinside.com/board/view/?id=dcbest&amp;no=217830\">\n",
      "<span class=\"img_box\">\n",
      "<img alt=\"\" src=\"https://dccdn11.dcinside.co.kr/viewimage.php?id=29bed223f6c6&amp;no=24b0d769e1d32ca73de982fa11d02831c01d6e5fbed2bd28d2c5c652a56c851bf99d2d77d0b6eb26d8ed4f3bb99441c9e42fbbaa26a93b2ab598549ee1bfd764dad14ff55b3b0ee1ab1c7a55c9ac83b9787e80a8ef80c3588211d028979ad9259e168115dc322b4b\" style=\"\"/>\n",
      "</span>\n",
      "<div class=\"txt_box\">\n",
      "<strong>스포츠에 여초 문화가 유입되면 발생하는 일</strong>\n",
      "</div>\n",
      "</a>\n",
      "</div>\n",
      "<div class=\"rcontimg_box\" style=\"display:none;\">\n",
      "<a class=\"inner logClass\" depth1=\"rightframe\" depth2=\"realtimebest\" href=\"https://gall.dcinside.com/board/view/?id=dcbest&amp;no=217745\">\n",
      "<span class=\"img_box\">\n",
      "<img alt=\"\" src=\"https://dccdn11.dcinside.co.kr/viewimage.php?id=29bed223f6c6&amp;no=24b0d769e1d32ca73de982fa11d02831c01d6e5fbed2bd28d2c5c652a56b8506dda7f42e66e39ecab5124ea5a4cd881ca5797bb19dc3d846f1b1a84c6e954d947dbcf2be533cf06b8030e35b5837d0308ca017f0360a17ccd227154979301a516f375b44bd77fbbf0acfb1ab07\" style=\"\"/>\n",
      "</span>\n",
      "<div class=\"txt_box\">\n",
      "<strong>싱글벙글 아시아에서 유일하게 전 공정 자동화된 부산의 광어 가공 공장</strong>\n",
      "</div>\n",
      "</a>\n",
      "</div>\n",
      "</div>\n",
      "<ul class=\"txt\">\n",
      "<li><a href=\"https://gall.dcinside.com/board/view/?id=dcbest&amp;no=217808\">제로제로 제로탄산 음료와 혈당의 관계</a></li>\n",
      "<li><a href=\"https://gall.dcinside.com/board/view/?id=dcbest&amp;no=217883\">싱글벙글 레바툰 레전드 군대 = 임신되는 만화</a></li>\n",
      "<li><a href=\"https://gall.dcinside.com/board/view/?id=dcbest&amp;no=217792\">대한민국 특수부대들을 슬로건</a></li>\n",
      "<li><a href=\"https://gall.dcinside.com/board/view/?id=dcbest&amp;no=217755\">싱글벙글 점점 김치를 먹지 않는 한국 사람들</a></li>\n",
      "<li><a href=\"https://gall.dcinside.com/board/view/?id=dcbest&amp;no=217802\">피크닉 가기위해 김밥을 만드는 마케도니아 아내</a></li>\n",
      "<li style=\"display:none;\"><a href=\"https://gall.dcinside.com/board/view/?id=dcbest&amp;no=217873\">싱글벙글 외국인 유학생이 생각하는 한국 20대</a></li>\n",
      "<li style=\"display:none;\"><a href=\"https://gall.dcinside.com/board/view/?id=dcbest&amp;no=217857\">싱글벙글 특수부대랑 UFC를 다 할수있는 남자</a></li>\n",
      "<li style=\"display:none;\"><a href=\"https://gall.dcinside.com/board/view/?id=dcbest&amp;no=217796\">흔한 20년전 여자 꼬시던 방법</a></li>\n",
      "<li style=\"display:none;\"><a href=\"https://gall.dcinside.com/board/view/?id=dcbest&amp;no=217785\">논산훈련소 앞에서 밥 먹고 충격 받은 사람...</a></li>\n",
      "<li style=\"display:none;\"><a href=\"https://gall.dcinside.com/board/view/?id=dcbest&amp;no=217788\">싱글벙글 폴란드군 하사 보이텍</a></li>\n",
      "<li style=\"display:none;\"><a href=\"https://gall.dcinside.com/board/view/?id=dcbest&amp;no=217758\">오늘자 UFC.. 초유의 사태 발생..gif</a></li>\n",
      "<li style=\"display:none;\"><a href=\"https://gall.dcinside.com/board/view/?id=dcbest&amp;no=217877\">싱글벙글 업계 레전드가 풀어주는 업계 이야기....porn</a></li>\n",
      "<li style=\"display:none;\"><a href=\"https://gall.dcinside.com/board/view/?id=dcbest&amp;no=217886\">카톡 이모티콘으로 우리집 댕댕이 찾기</a></li>\n",
      "<li style=\"display:none;\"><a href=\"https://gall.dcinside.com/board/view/?id=dcbest&amp;no=217859\">주둥이 방송 레전드 도태남 사연.......jpg</a></li>\n",
      "<li style=\"display:none;\"><a href=\"https://gall.dcinside.com/board/view/?id=dcbest&amp;no=217798\">합정/상수.webp (25장, 데이터주의)</a></li>\n",
      "<li style=\"display:none;\"><a href=\"https://gall.dcinside.com/board/view/?id=dcbest&amp;no=217908\">인류 역사상 최고의 이과재능 TOP 15..JPG</a></li>\n",
      "<li style=\"display:none;\"><a href=\"https://gall.dcinside.com/board/view/?id=dcbest&amp;no=217849\">저가커피 창업하면안되는 5가지 이유</a></li>\n",
      "<li style=\"display:none;\"><a href=\"https://gall.dcinside.com/board/view/?id=dcbest&amp;no=217770\">현지 사람이 말하는 파묘 흥행 이유</a></li>\n",
      "<li style=\"display:none;\"><a href=\"https://gall.dcinside.com/board/view/?id=dcbest&amp;no=217773\">싱글벙글 코가 매우 큰 인종.jpg</a></li>\n",
      "<li style=\"display:none;\"><a href=\"https://gall.dcinside.com/board/view/?id=dcbest&amp;no=217778\">싱글벙글 의외로 내년에 터지는거</a></li>\n",
      "<li style=\"display:none;\"><a href=\"https://gall.dcinside.com/board/view/?id=dcbest&amp;no=217765\">홍콩 부동산 가격 지수 근황.JPG</a></li>\n",
      "<li style=\"display:none;\"><a href=\"https://gall.dcinside.com/board/view/?id=dcbest&amp;no=217818\">한국 남성들이 페미에 분노할 수밖에 없는 이유.jpg</a></li>\n",
      "<li style=\"display:none;\"><a href=\"https://gall.dcinside.com/board/view/?id=dcbest&amp;no=217763\">엔비디아의 대혁명...\"챗GPT 20배\" 슈퍼칩 전격 공개</a></li>\n",
      "<li style=\"display:none;\"><a href=\"https://gall.dcinside.com/board/view/?id=dcbest&amp;no=217832\">싱글벙글 욕먹고 방송 짤렸다는 조세호와 김신영</a></li>\n",
      "<li style=\"display:none;\"><a href=\"https://gall.dcinside.com/board/view/?id=dcbest&amp;no=217900\">싱글벙글 초등학교 1학년 선생님</a></li>\n",
      "<li style=\"display:none;\"><a href=\"https://gall.dcinside.com/board/view/?id=dcbest&amp;no=217800\">와들와들 반에 보육원 출신이라고 까발린 담탱</a></li>\n",
      "<li style=\"display:none;\"><a href=\"https://gall.dcinside.com/board/view/?id=dcbest&amp;no=217834\">게임&lt;보더랜드&gt;실사화..근황.....jpg</a></li>\n",
      "<li style=\"display:none;\"><a href=\"https://gall.dcinside.com/board/view/?id=dcbest&amp;no=217866\">그알 레전드 &lt;배산 여대생 피살사건&gt;...JPG</a></li>\n",
      "<li style=\"display:none;\"><a href=\"https://gall.dcinside.com/board/view/?id=dcbest&amp;no=217751\">MZ조폭 '불사파' 1심 중인데... 전원 석방</a></li>\n",
      "<li style=\"display:none;\"><a href=\"https://gall.dcinside.com/board/view/?id=dcbest&amp;no=217879\">레고로 만든 건담(끝)</a></li>\n",
      "<li style=\"display:none;\"><a href=\"https://gall.dcinside.com/board/view/?id=dcbest&amp;no=217748\">바다거북 탐정과 어느 모텔의 안전수칙</a></li>\n",
      "<li style=\"display:none;\"><a href=\"https://gall.dcinside.com/board/view/?id=dcbest&amp;no=217768\">와들와들 한번 누르면 되돌릴수 없는 버튼</a></li>\n",
      "<li style=\"display:none;\"><a href=\"https://gall.dcinside.com/board/view/?id=dcbest&amp;no=217814\">오싹오싹 현실 상어이빨.jpg</a></li>\n",
      "<li style=\"display:none;\"><a href=\"https://gall.dcinside.com/board/view/?id=dcbest&amp;no=217750\">싱글벙글 AI가 만든 벼랑위의 포뇨 등장인물 실사화</a></li>\n",
      "<li style=\"display:none;\"><a href=\"https://gall.dcinside.com/board/view/?id=dcbest&amp;no=217761\">싱글벙글 김성모의 작품 장면 해설</a></li>\n",
      "<li style=\"display:none;\"><a href=\"https://gall.dcinside.com/board/view/?id=dcbest&amp;no=217854\">ㅇㅎ) 초소에서 자다 걸린 썰.manhwa</a></li>\n",
      "<li style=\"display:none;\"><a href=\"https://gall.dcinside.com/board/view/?id=dcbest&amp;no=217890\">그 많던 부식은 누가 다 옮겼을까.MANHWA</a></li>\n",
      "<li style=\"display:none;\"><a href=\"https://gall.dcinside.com/board/view/?id=dcbest&amp;no=217888\">우주 개발과 패러다임의 역사_29.</a></li>\n",
      "<li style=\"display:none;\"><a href=\"https://gall.dcinside.com/board/view/?id=dcbest&amp;no=217766\">명품에 미쳐버린 한국 유아용품 시장 근황.jpg</a></li>\n",
      "<li style=\"display:none;\"><a href=\"https://gall.dcinside.com/board/view/?id=dcbest&amp;no=217776\">(블라)시댁연락에 대한 한국-일본 인식차이.jpg</a></li>\n",
      "</ul>\n",
      "</div>\n",
      "</div>\n",
      "</article>\n",
      "<!--  //실시간 베스트 -->\n",
      "<!-- 뉴스 -->\n",
      "<article>\n",
      "<div class=\"content_box r_dcmedia\">\n",
      "<header>\n",
      "<h3 class=\"tit newsTab\"><a href=\"javascript:mediaTabMove('news');\">뉴스</a></h3>\n",
      "<h3 class=\"tit mediaTab\"><a href=\"javascript:mediaTabMove('media');\">디시미디어</a></h3>\n",
      "<h3 class=\"tit issueTab\"><a href=\"javascript:mediaTabMove('issue');\">디시이슈</a></h3>\n",
      "<div class=\"pageing_box\">\n",
      "<div class=\"page_num\">\n",
      "<strong class=\"now_num newsNum\">1</strong>/<span class=\"total_num newsTotal\">2</span>\n",
      "</div>\n",
      "<button class=\"btn_blueprev\" id=\"news_prev\" type=\"button\"><span class=\"blind\">이전</span><em class=\"sp_img icon_blueprev\"></em></button>\n",
      "<button class=\"btn_bluenext on\" id=\"news_next\" type=\"button\"><span class=\"blind\">다음</span><em class=\"sp_img icon_bluenext\"></em></button>\n",
      "</div>\n",
      "</header>\n",
      "<div class=\"rcont_imgtxt_box r_news_box\">\n",
      "<div class=\"img\">\n",
      "<script id=\"newsImg-tmpl\" type=\"text/x-jquery-tmpl\">\r\n",
      "        \t<div class=\"rcontimg_box\">\r\n",
      "            \t<a class=\"inner\" href=\"${url}\" target=\"_blank\">\r\n",
      "                \t<span class=\"img_box\">\r\n",
      "                    \t<img src=\"${thumb}\" alt=\"\">\r\n",
      "                    </span>\r\n",
      "                    <div class=\"txt_box\">\r\n",
      "                    \t<strong>${title}</strong>\r\n",
      "                    </div>\r\n",
      "                 </a>\r\n",
      "             </div>\r\n",
      "        </script>\n",
      "</div>\n",
      "<ul class=\"txt\">\n",
      "<script id=\"newsTxt-tmpl\" type=\"text/x-jquery-tmpl\">\r\n",
      "         \t<li><a href=\"${url}\" target=\"_blank\">${title}</a></li>\r\n",
      "         </script>\n",
      "</ul>\n",
      "</div>\n",
      "<div class=\"rcont_imgtxt_box r_media_box\" style=\"display:none;\">\n",
      "<div class=\"img clear\">\n",
      "<script id=\"mediaImg-tmpl\" type=\"text/x-jquery-tmpl\">\r\n",
      "\t\t\t\t<div class=\"rcontimg_box\">\r\n",
      "\t\t\t\t\t<a class=\"inner\" href=\"${link}\" target = \"_self\">\r\n",
      "\t\t\t\t\t\t<span class=\"img_box\">\r\n",
      "\t\t\t\t\t\t<img src=\"${thumb_img}\" alt=\"\">\r\n",
      "\t\t\t\t\t\t</span>\r\n",
      "\t\t\t\t\t\t<div class=\"txt_box\">\r\n",
      "\t\t\t\t\t\t\t<strong>${title}</strong>\r\n",
      "\t\t\t\t\t\t</div>\r\n",
      "\t\t\t\t\t</a>\r\n",
      "\t\t\t\t</div>\r\n",
      "                </script>\n",
      "</div>\n",
      "<ul class=\"txt\">\n",
      "<script id=\"mediaTxt-tmpl\" type=\"text/x-jquery-tmpl\">\r\n",
      "\t\t\t\t<li><a href=\"${link}\" target = \"_self\">${title}</a></li>\r\n",
      "\t\t\t\t</script>\n",
      "</ul>\n",
      "</div>\n",
      "<div class=\"rcont_imgtxt_box dcissue r_issue_box\" style=\"display:none;\">\n",
      "<div class=\"img clear\">\n",
      "<script id=\"issueImg-tmpl\" type=\"text/x-jquery-tmpl\">\r\n",
      "\t\t\t\t<div class=\"rcontimg_box\">\r\n",
      "\t\t\t\t\t<a class=\"inner\" href=\"${url}\" target = \"_blank\">\r\n",
      "\t\t\t\t\t\t<span class=\"img_box\">\r\n",
      "\t\t\t\t\t\t<img src=\"${dc_img}\" alt=\"\">\r\n",
      "\t\t\t\t\t\t</span>\r\n",
      "\t\t\t\t\t\t<div class=\"txt_box\">\r\n",
      "                            <span class=\"ranking blue\">${rank}</span>\r\n",
      "\t\t\t\t\t\t\t<strong>${title}</strong>\r\n",
      "\t\t\t\t\t\t</div>\r\n",
      "\t\t\t\t\t</a>\r\n",
      "\t\t\t\t</div>\r\n",
      "                </script>\n",
      "</div>\n",
      "<ul class=\"txt\">\n",
      "<script id=\"issueTxt-tmpl\" type=\"text/x-jquery-tmpl\">\r\n",
      "\t\t\t\t<li>\r\n",
      "                    <a href=\"${url}\" target = \"_blank\">\r\n",
      "                    <span class=\"ranking blue\">${rank}</span>\r\n",
      "                    ${title}\r\n",
      "                    </a>\r\n",
      "                </li>\r\n",
      "\t\t\t\t</script>\n",
      "</ul>\n",
      "</div>\n",
      "</div>\n",
      "</article>\n",
      "<!-- //뉴스 -->\n",
      "<!-- 개념글 -->\n",
      "<article>\n",
      "<div class=\"content_box r_recommend\">\n",
      "<header>\n",
      "<script id=\"recomTit-tmpl\" type=\"text/x-jquery-tmpl\">\r\n",
      "\t\t<h3 class=\"tit\"><a href=\"${url}\">개념글 <span class=\"sub\">[<em>${gall_name} 갤러리</em>]</span></a></h3>\r\n",
      "\t  </script>\n",
      "<div class=\"pageing_box\">\n",
      "<div class=\"page_num\">\n",
      "<strong class=\"now_num recomNum\">1</strong>/<span class=\"total_num recomTotal\">3</span>\n",
      "</div>\n",
      "<button class=\"btn_blueprev\" id=\"recom_prev\" type=\"button\"><span class=\"blind\">이전</span><em class=\"sp_img icon_blueprev\"></em></button>\n",
      "<button class=\"btn_bluenext on\" id=\"recom_next\" type=\"button\"><span class=\"blind\">다음</span><em class=\"sp_img icon_bluenext\"></em></button>\n",
      "</div>\n",
      "</header>\n",
      "<ul class=\"rcont_list\">\n",
      "<script id=\"recomList-tmpl\" type=\"text/x-jquery-tmpl\">\r\n",
      "\t\t<li><a href=\"${url}\">${title}</a></li>\r\n",
      "\t  </script>\n",
      "</ul>\n",
      "</div>\n",
      "</article>\n",
      "<!-- //개념글 -->\n",
      "</section>\n",
      "<!-- right_content -->\n",
      "</div>\n",
      "</main>\n",
      "<!-- 하단 -->\n",
      "<footer class=\"dcfoot type1\">\n",
      "<div class=\"info_policy\">\n",
      "<a href=\"https://www.dcinside.com/company\">회사소개</a>\n",
      "<a href=\"https://www.dcinside.com/company#alliance\">제휴안내</a>\n",
      "<a href=\"https://nstatic.dcinside.com/dc/dcad/w/index.html\">광고안내</a>\n",
      "<a href=\"https://nstatic.dcinside.com/dc/w/policy/policy_index.html\">이용약관</a>\n",
      "<a href=\"https://nstatic.dcinside.com/dc/w/policy/privacy_index.html\"><b>개인정보처리방침</b></a>\n",
      "<a href=\"https://nstatic.dcinside.com/dc/w/policy/youth_policy.html\">청소년보호정책</a>\n",
      "</div>\n",
      "<div class=\"copyright\">Copyright ⓒ 1999 - 2024 dcinside. All rights reserved.</div>\n",
      "</footer>\n",
      "<!-- //하단 -->\n",
      "</div><!--//id:top-->\n",
      "<input id=\"s_keyword\" type=\"hidden\" value=\"편의점\"/>\n",
      "<script src=\"https://ssl.pstatic.net/adimg3.search/adpost/js/adpost_show_ads_v2.min.js\" type=\"text/javascript\"></script>\n",
      "<script type=\"text/javascript\">\r\n",
      "var s_keyword = $('#s_keyword').val();\r\n",
      "\r\n",
      "function handle_naver_ads_response(response) {\r\n",
      "\tif(typeof(response['error']) == 'undefined' && response['ads']['length']) {\r\n",
      "\t\t$('.ad_premium *').remove();\r\n",
      "\t\t\r\n",
      "\t\tvar html = '<div class=\"clear\">' +\r\n",
      "\t\t\t\t   '<h3 class=\"fl\">파워링크 <span class=\"adicon sp_img\"><em class=\"blind\">광고</em></span></h3>' +\r\n",
      "\t\t\t\t   '<a href=\"https://saedu.naver.com/adbiz/searchad/intro.nhn\" target=\"_blank\" class=\"fr link_upinfo\">등록안내</a>' +\r\n",
      "\t\t\t\t   '</div>' +\r\n",
      "\t\t\t\t   '<ul class=\"pwlink_list\">';\r\n",
      "\r\n",
      "\t\tvar patt = eval('/'+ s_keyword +'/g');\r\n",
      "\t\t\t\t\t\r\n",
      "\t\tfor(var i in response['ads']) {\r\n",
      "\t\t \tad_array = response['ads'][i];\r\n",
      "\t\t\tvar desc = new String(ad_array['description']);\r\n",
      "\t\t \thtml += '<li>'+\r\n",
      "\t\t \t\t\t'<a href=\"'+ ad_array['clickUrl'] +'\" class=\"tit_txt\" target=\"_blank\">'+ ad_array['headline'] +'</a>'+\r\n",
      "\t\t \t\t\t'<a href=\"'+ ad_array['clickUrl'] +'\" class=\"link_txt\" target=\"_blank\">'+ ad_array['displayUrl'] +'</a>'+\r\n",
      "\t\t \t\t\t'<p class=\"link_dsc_txt\">'+ desc.replace(patt, '<strong>'+ s_keyword +'</strong>') +'</p>'+\r\n",
      "\t\t \t\t\t'</li>';\r\n",
      "\t\t}\r\n",
      "\t\t\r\n",
      "\t\thtml += '</ul>';\r\n",
      "\r\n",
      "\t\t$('.ad_premium').append(html).show();\r\n",
      "\t}\r\n",
      "\t\r\n",
      "\tif($('.ad_premium').index() >= 0) {\r\n",
      "\t\tif($('.ad_premium').html().trim()) {\r\n",
      "\t\t\t$('.ad_premium').show();\r\n",
      "\t\t}\r\n",
      "\t\telse {\r\n",
      "\t\t\t$('.ad_premium').remove();\r\n",
      "\t\t}\r\n",
      "\t}\r\n",
      "}\r\n",
      "\r\n",
      "//<![CDATA[\r\n",
      "NAVER_ADPOST_V2({ \r\n",
      "\tchannel: \"dcinside.ch1\",\r\n",
      "\tpageSize: 3, \r\n",
      "\turl: location.href,\r\n",
      "\tquery: s_keyword\r\n",
      "}); \r\n",
      "//]]>\r\n",
      "</script>\n",
      "<!-- Global site tag (gtag.js) - Google Analytics -->\n",
      "<script async=\"\" src=\"https://www.googletagmanager.com/gtag/js?id=UA-5149721-4\"></script>\n",
      "<script>\r\n",
      "  window.dataLayer = window.dataLayer || [];\r\n",
      "  function gtag(){dataLayer.push(arguments);}\r\n",
      "  gtag('js', new Date());\r\n",
      "\r\n",
      "  gtag('config', 'UA-5149721-4');\r\n",
      "\r\n",
      "  var f_u_no = '';\r\n",
      "</script>\n",
      "<!-- g4a 구글애널리틱스 -->\n",
      "<script async=\"\" src=\"https://www.googletagmanager.com/gtag/js?id=G-V46B0SHSY7\"></script>\n",
      "<script>\r\n",
      "  window.dataLayer = window.dataLayer || [];\r\n",
      "  function gtag(){dataLayer.push(arguments);}\r\n",
      "  gtag('js', new Date());\r\n",
      "  gtag('config', 'G-V46B0SHSY7'); \r\n",
      "</script>\n",
      "</body>\n",
      "</html>\n"
     ]
    }
   ],
   "source": [
    "response = requests.get(url.format(1))\n",
    "html = response.text\n",
    "soup = BeautifulSoup(html, 'lxml')\n",
    "print(soup)"
   ]
  },
  {
   "cell_type": "markdown",
   "metadata": {
    "id": "4hdtcls_9BUD"
   },
   "source": [
    "정보 수집하기"
   ]
  },
  {
   "cell_type": "code",
   "execution_count": 5,
   "metadata": {
    "colab": {
     "base_uri": "https://localhost:8080/"
    },
    "executionInfo": {
     "elapsed": 30,
     "status": "ok",
     "timestamp": 1698300051414,
     "user": {
      "displayName": "안윤경",
      "userId": "08326209251813559422"
     },
     "user_tz": -540
    },
    "id": "CjTnKjSRFHwb",
    "outputId": "0633ce58-0d48-44d9-b0b9-ab478f433cbe"
   },
   "outputs": [
    {
     "data": {
      "text/plain": [
       "['편의점 본사가 얼마나 떼가길래',\n",
       " '오늘 집에 안가고 편의점에서 계란이나 닭찌찌 먹는다',\n",
       " '니들 전군무자가 일 좆같이하면 점장한테 꼰지름?',\n",
       " '(알바생들 필독) 어제 미짜 양아치들이 담배뚫을려고 했음']"
      ]
     },
     "execution_count": 5,
     "metadata": {},
     "output_type": "execute_result"
    }
   ],
   "source": [
    "title_soup = soup.select('a.tit_txt') #①\n",
    "titles = [title.text for title in title_soup] #②\n",
    "\n",
    "titles[-4:]"
   ]
  },
  {
   "cell_type": "code",
   "execution_count": 6,
   "metadata": {
    "colab": {
     "base_uri": "https://localhost:8080/"
    },
    "executionInfo": {
     "elapsed": 9,
     "status": "ok",
     "timestamp": 1698300051414,
     "user": {
      "displayName": "안윤경",
      "userId": "08326209251813559422"
     },
     "user_tz": -540
    },
    "id": "7JPXYGqDFQZU",
    "outputId": "2382cdf0-a9be-4d38-f33d-be4f40322964"
   },
   "outputs": [
    {
     "data": {
      "text/plain": [
       "['편의점 본사가 얼마나 떼가길래',\n",
       " '오늘 집에 안가고 편의점에서 계란이나 닭찌찌 먹는다',\n",
       " '니들 전군무자가 일 좆같이하면 점장한테 꼰지름?',\n",
       " '(알바생들 필독) 어제 미짜 양아치들이 담배뚫을려고 했음']"
      ]
     },
     "execution_count": 6,
     "metadata": {},
     "output_type": "execute_result"
    }
   ],
   "source": [
    "def find_titles(soup):\n",
    "    \"\"\"게시물 제목을 수집합니다\"\"\"\n",
    "    title_soup = soup.select('a.tit_txt')\n",
    "    titles = [title.text for title in title_soup]\n",
    "\n",
    "    return titles\n",
    "\n",
    "titles = find_titles(soup)\n",
    "titles[-4:]"
   ]
  },
  {
   "cell_type": "code",
   "execution_count": 7,
   "metadata": {
    "colab": {
     "base_uri": "https://localhost:8080/"
    },
    "executionInfo": {
     "elapsed": 8,
     "status": "ok",
     "timestamp": 1698300051414,
     "user": {
      "displayName": "안윤경",
      "userId": "08326209251813559422"
     },
     "user_tz": -540
    },
    "id": "JNahziDwFQTQ",
    "outputId": "54214907-05f4-46f0-9da5-7c6094316b0e"
   },
   "outputs": [
    {
     "data": {
      "text/plain": [
       "['편의점 출근길. 따뜻한 바람이 길을따라 나에게 불어온다 흩날리는 머리카락이 바람을 안겨준다 지나가고 서로 얘기하고 일을 하며 제각각의 모습 그리고 마음같은 하늘, 구름과 태양 그립다 - dc official App',\n",
       " '편의점2024.03.25 08:43',\n",
       " '아침 매출 50 찍는 점장이 돈업다고 울상인거임',\n",
       " '프로미스나인 리얼리티2024.03.25 08:42',\n",
       " '편의점 햄버거 꼴리면 어카냐',\n",
       " '순경2024.03.25 08:37',\n",
       " '기본적으로 안채우고 앞으로 땡김 (바빠서 못채웠다는데 개씹소리임 번화가도 아니고 아파트 단지내 편의점인데 손님없는데도 뭘 할려는 시늉도 없고 걍 앉아서 핸폰함) 2. 손님 있는데 앉아서 핸폰함 3. 월화 수...',\n",
       " '편의점2024.03.25 08:36',\n",
       " '걸고 형님 불러서 자칭 형님이란 놈이 양아치의 전형적인 클러치백 들고 특유의 껄렁껄렁한 걸음걸이로 편의점 들어옴 그러더니 클러치에서 신분증 꺼내서 계산대에 탁 던지면서 ‘이제 된거죠?’ 하면서 옆에서...',\n",
       " '편의점2024.03.25 08:35']"
      ]
     },
     "execution_count": 7,
     "metadata": {},
     "output_type": "execute_result"
    }
   ],
   "source": [
    "content_soup = soup.select('p.link_dsc_txt')\n",
    "contents = [content.text for content in content_soup]\n",
    "\n",
    "contents[-10:]"
   ]
  },
  {
   "cell_type": "code",
   "execution_count": 8,
   "metadata": {
    "colab": {
     "base_uri": "https://localhost:8080/"
    },
    "executionInfo": {
     "elapsed": 6,
     "status": "ok",
     "timestamp": 1698300051414,
     "user": {
      "displayName": "안윤경",
      "userId": "08326209251813559422"
     },
     "user_tz": -540
    },
    "id": "5zZLMusV9MHY",
    "outputId": "5f873d8f-dbeb-49fa-b2fc-048227f7769b"
   },
   "outputs": [
    {
     "name": "stdout",
     "output_type": "stream",
     "text": [
      "본문 내용 : 한국이 병원방문횟수가 유난히 높은 이유가 다른나라들에서는 그냥 약국이나 편의점에서 처방전없이 살수있는 등급의 약이나 연고들도 한국은 과도히 전문의약품으로 지정해놓고 심지어 영양제나 마찬가지인 약들... 편의점가보셈 대부분 품절임\n",
      "갤러리 및 날짜 정보 : 부동산2024.03.25 09:48 리그 오브 레전드2024.03.25 09:46\n"
     ]
    }
   ],
   "source": [
    "print(\"본문 내용 :\", contents[0], contents[2])\n",
    "print(\"갤러리 및 날짜 정보 :\", contents[1], contents[3])"
   ]
  },
  {
   "cell_type": "code",
   "execution_count": 9,
   "metadata": {
    "colab": {
     "base_uri": "https://localhost:8080/"
    },
    "executionInfo": {
     "elapsed": 5,
     "status": "ok",
     "timestamp": 1698300051414,
     "user": {
      "displayName": "안윤경",
      "userId": "08326209251813559422"
     },
     "user_tz": -540
    },
    "id": "Tz3iLizsFQQy",
    "outputId": "cf89efc8-0a4c-4707-e5fc-5536314c4b67"
   },
   "outputs": [
    {
     "name": "stdout",
     "output_type": "stream",
     "text": [
      "['기본적으로 안채우고 앞으로 땡김 (바빠서 못채웠다는데 개씹소리임 번화가도 아니고 아파트 단지내 편의점인데 손님없는데도 뭘 할려는 시늉도 없고 걍 앉아서 핸폰함) 2. 손님 있는데 앉아서 핸폰함 3. 월화 수...', '걸고 형님 불러서 자칭 형님이란 놈이 양아치의 전형적인 클러치백 들고 특유의 껄렁껄렁한 걸음걸이로 편의점 들어옴 그러더니 클러치에서 신분증 꺼내서 계산대에 탁 던지면서 ‘이제 된거죠?’ 하면서 옆에서...']\n",
      "['편의점2024.03.25 08:36', '편의점2024.03.25 08:35']\n"
     ]
    }
   ],
   "source": [
    "def find_content(soup):\n",
    "    \"\"\"게시물 본문과 게시판 및 작성일을 수집합니다\"\"\"\n",
    "    content_soup = soup.select('p.link_dsc_txt')\n",
    "    contents = [content.text for content in content_soup]\n",
    "\n",
    "    contents_text = []\n",
    "    etc = []\n",
    "    for idx, content in enumerate(contents): #①\n",
    "        if idx % 2 == 0: #②\n",
    "            contents_text.append(content)\n",
    "        else:\n",
    "            etc.append(content)\n",
    "\n",
    "    return contents_text, etc\n",
    "\n",
    "contents_text, etc = find_content(soup)\n",
    "print(contents_text[-2:])\n",
    "print(etc[-2:])"
   ]
  },
  {
   "cell_type": "code",
   "execution_count": 10,
   "metadata": {
    "colab": {
     "base_uri": "https://localhost:8080/"
    },
    "executionInfo": {
     "elapsed": 172297,
     "status": "ok",
     "timestamp": 1698300223707,
     "user": {
      "displayName": "안윤경",
      "userId": "08326209251813559422"
     },
     "user_tz": -540
    },
    "id": "7Y1l8_rtFQPm",
    "outputId": "05d3cd70-b719-4624-dfd5-0419086cb454"
   },
   "outputs": [
    {
     "name": "stdout",
     "output_type": "stream",
     "text": [
      "100 페이지 중 현재 1 페이지\n",
      "100 페이지 중 현재 2 페이지\n",
      "100 페이지 중 현재 3 페이지\n",
      "100 페이지 중 현재 4 페이지\n",
      "100 페이지 중 현재 5 페이지\n",
      "100 페이지 중 현재 6 페이지\n",
      "100 페이지 중 현재 7 페이지\n",
      "100 페이지 중 현재 8 페이지\n",
      "100 페이지 중 현재 9 페이지\n",
      "100 페이지 중 현재 10 페이지\n",
      "100 페이지 중 현재 11 페이지\n",
      "100 페이지 중 현재 12 페이지\n",
      "100 페이지 중 현재 13 페이지\n",
      "100 페이지 중 현재 14 페이지\n",
      "100 페이지 중 현재 15 페이지\n",
      "100 페이지 중 현재 16 페이지\n",
      "100 페이지 중 현재 17 페이지\n",
      "100 페이지 중 현재 18 페이지\n",
      "100 페이지 중 현재 19 페이지\n",
      "100 페이지 중 현재 20 페이지\n",
      "100 페이지 중 현재 21 페이지\n",
      "100 페이지 중 현재 22 페이지\n",
      "100 페이지 중 현재 23 페이지\n",
      "100 페이지 중 현재 24 페이지\n",
      "100 페이지 중 현재 25 페이지\n",
      "100 페이지 중 현재 26 페이지\n",
      "100 페이지 중 현재 27 페이지\n",
      "100 페이지 중 현재 28 페이지\n",
      "100 페이지 중 현재 29 페이지\n",
      "100 페이지 중 현재 30 페이지\n",
      "100 페이지 중 현재 31 페이지\n",
      "100 페이지 중 현재 32 페이지\n",
      "100 페이지 중 현재 33 페이지\n",
      "100 페이지 중 현재 34 페이지\n",
      "100 페이지 중 현재 35 페이지\n",
      "100 페이지 중 현재 36 페이지\n",
      "100 페이지 중 현재 37 페이지\n",
      "100 페이지 중 현재 38 페이지\n",
      "100 페이지 중 현재 39 페이지\n",
      "100 페이지 중 현재 40 페이지\n",
      "100 페이지 중 현재 41 페이지\n",
      "100 페이지 중 현재 42 페이지\n",
      "100 페이지 중 현재 43 페이지\n",
      "100 페이지 중 현재 44 페이지\n",
      "100 페이지 중 현재 45 페이지\n",
      "100 페이지 중 현재 46 페이지\n",
      "100 페이지 중 현재 47 페이지\n",
      "100 페이지 중 현재 48 페이지\n",
      "100 페이지 중 현재 49 페이지\n",
      "100 페이지 중 현재 50 페이지\n",
      "100 페이지 중 현재 51 페이지\n",
      "100 페이지 중 현재 52 페이지\n",
      "100 페이지 중 현재 53 페이지\n",
      "100 페이지 중 현재 54 페이지\n",
      "100 페이지 중 현재 55 페이지\n",
      "100 페이지 중 현재 56 페이지\n",
      "100 페이지 중 현재 57 페이지\n",
      "100 페이지 중 현재 58 페이지\n",
      "100 페이지 중 현재 59 페이지\n",
      "100 페이지 중 현재 60 페이지\n",
      "100 페이지 중 현재 61 페이지\n",
      "100 페이지 중 현재 62 페이지\n",
      "100 페이지 중 현재 63 페이지\n",
      "100 페이지 중 현재 64 페이지\n",
      "100 페이지 중 현재 65 페이지\n",
      "100 페이지 중 현재 66 페이지\n",
      "100 페이지 중 현재 67 페이지\n",
      "100 페이지 중 현재 68 페이지\n",
      "100 페이지 중 현재 69 페이지\n",
      "100 페이지 중 현재 70 페이지\n",
      "100 페이지 중 현재 71 페이지\n",
      "100 페이지 중 현재 72 페이지\n",
      "100 페이지 중 현재 73 페이지\n",
      "100 페이지 중 현재 74 페이지\n",
      "100 페이지 중 현재 75 페이지\n",
      "100 페이지 중 현재 76 페이지\n",
      "100 페이지 중 현재 77 페이지\n",
      "100 페이지 중 현재 78 페이지\n",
      "100 페이지 중 현재 79 페이지\n",
      "100 페이지 중 현재 80 페이지\n",
      "100 페이지 중 현재 81 페이지\n",
      "100 페이지 중 현재 82 페이지\n",
      "100 페이지 중 현재 83 페이지\n",
      "100 페이지 중 현재 84 페이지\n",
      "100 페이지 중 현재 85 페이지\n",
      "100 페이지 중 현재 86 페이지\n",
      "100 페이지 중 현재 87 페이지\n",
      "100 페이지 중 현재 88 페이지\n",
      "100 페이지 중 현재 89 페이지\n",
      "100 페이지 중 현재 90 페이지\n",
      "100 페이지 중 현재 91 페이지\n",
      "100 페이지 중 현재 92 페이지\n",
      "100 페이지 중 현재 93 페이지\n",
      "100 페이지 중 현재 94 페이지\n",
      "100 페이지 중 현재 95 페이지\n",
      "100 페이지 중 현재 96 페이지\n",
      "100 페이지 중 현재 97 페이지\n",
      "100 페이지 중 현재 98 페이지\n",
      "100 페이지 중 현재 99 페이지\n",
      "100 페이지 중 현재 100 페이지\n"
     ]
    }
   ],
   "source": [
    "titles = []\n",
    "contents = []\n",
    "etcs = []\n",
    "\n",
    "for i in range(1, 101):\n",
    "    print(\"100 페이지 중 현재 {} 페이지\".format(i))\n",
    "    response = requests.get(url.format(i))\n",
    "    html = response.text\n",
    "    soup = BeautifulSoup(html, 'lxml')\n",
    "    title = find_titles(soup)\n",
    "    content, etc = find_content(soup)\n",
    "\n",
    "    titles.extend(title)\n",
    "    contents.extend(content)\n",
    "    etcs.extend(etc)\n",
    "\n",
    "    time.sleep(1) #①"
   ]
  },
  {
   "cell_type": "markdown",
   "metadata": {
    "id": "8VgShT6Y9UFJ"
   },
   "source": [
    "데이터 전처리 - 정규표현식"
   ]
  },
  {
   "cell_type": "code",
   "execution_count": 11,
   "metadata": {
    "colab": {
     "base_uri": "https://localhost:8080/"
    },
    "executionInfo": {
     "elapsed": 21,
     "status": "ok",
     "timestamp": 1698300223707,
     "user": {
      "displayName": "안윤경",
      "userId": "08326209251813559422"
     },
     "user_tz": -540
    },
    "id": "ZwcbzqsUHbbX",
    "outputId": "83c87d5c-6075-4a2f-cd04-3cf208db3011"
   },
   "outputs": [
    {
     "name": "stdout",
     "output_type": "stream",
     "text": [
      "번호 추출 결과 : 010-1234-5678\n"
     ]
    }
   ],
   "source": [
    "import re\n",
    "\n",
    "phone_number = \"제 연락처는 010-1234-5678 이에요\"\n",
    "pattern_number = r\"\\d{3}-\\d{4}-\\d{4}\" #①\n",
    "number = re.search(pattern_number, phone_number) #②\n",
    "print(\"번호 추출 결과 :\", number.group()) #③"
   ]
  },
  {
   "cell_type": "code",
   "execution_count": 12,
   "metadata": {
    "colab": {
     "base_uri": "https://localhost:8080/"
    },
    "executionInfo": {
     "elapsed": 17,
     "status": "ok",
     "timestamp": 1698300223707,
     "user": {
      "displayName": "안윤경",
      "userId": "08326209251813559422"
     },
     "user_tz": -540
    },
    "id": "m9Y90zEtHbYy",
    "outputId": "2831e81c-aa80-4de4-9355-b3f8e21fdfc2"
   },
   "outputs": [
    {
     "name": "stdout",
     "output_type": "stream",
     "text": [
      "추출 1단계 : ['안녕하세요', '는', '영어로', '인가요']\n",
      "추출 2단계 : 안녕하세요 는 영어로 인가요\n"
     ]
    }
   ],
   "source": [
    "kor_eng_text = \"'안녕하세요'는 영어로 Hello 인가요?\"\n",
    "kor_pattern = '[가-힣]+'\n",
    "kor = re.compile(kor_pattern).findall(kor_eng_text) #①\n",
    "print(\"추출 1단계 :\",kor) #②\n",
    "print(\"추출 2단계 :\", \" \".join(kor)) #③"
   ]
  },
  {
   "cell_type": "code",
   "execution_count": 13,
   "metadata": {
    "colab": {
     "base_uri": "https://localhost:8080/",
     "height": 423
    },
    "executionInfo": {
     "elapsed": 16,
     "status": "ok",
     "timestamp": 1698300223707,
     "user": {
      "displayName": "안윤경",
      "userId": "08326209251813559422"
     },
     "user_tz": -540
    },
    "id": "VmUILKIrFQOD",
    "outputId": "34e5a50b-f01e-4211-f359-3d0d7118f827"
   },
   "outputs": [
    {
     "data": {
      "text/html": [
       "<div>\n",
       "<style scoped>\n",
       "    .dataframe tbody tr th:only-of-type {\n",
       "        vertical-align: middle;\n",
       "    }\n",
       "\n",
       "    .dataframe tbody tr th {\n",
       "        vertical-align: top;\n",
       "    }\n",
       "\n",
       "    .dataframe thead th {\n",
       "        text-align: right;\n",
       "    }\n",
       "</style>\n",
       "<table border=\"1\" class=\"dataframe\">\n",
       "  <thead>\n",
       "    <tr style=\"text-align: right;\">\n",
       "      <th></th>\n",
       "      <th>게시물제목</th>\n",
       "      <th>내용</th>\n",
       "      <th>기타정보</th>\n",
       "    </tr>\n",
       "  </thead>\n",
       "  <tbody>\n",
       "    <tr>\n",
       "      <th>0</th>\n",
       "      <td>한국의 제도만드는게 정신병자들인게</td>\n",
       "      <td>한국이 병원방문횟수가 유난히 높은 이유가 다른나라들에서는 그냥 약국이나 편의점에서 ...</td>\n",
       "      <td>부동산2024.03.25 09:48</td>\n",
       "    </tr>\n",
       "    <tr>\n",
       "      <th>1</th>\n",
       "      <td>밤양갱 지금 20대여자들한테 ㅈㄴ 잘팔리더라</td>\n",
       "      <td>편의점가보셈 대부분 품절임</td>\n",
       "      <td>리그 오브 레전드2024.03.25 09:46</td>\n",
       "    </tr>\n",
       "    <tr>\n",
       "      <th>2</th>\n",
       "      <td>편의점 차기작 게임 재밌음?</td>\n",
       "      <td>공포게임하면 좋긴한데</td>\n",
       "      <td>우왁굳(유튜버)2024.03.25 09:43</td>\n",
       "    </tr>\n",
       "    <tr>\n",
       "      <th>3</th>\n",
       "      <td>사실 일본에 가는 이유는 그렇게 거창하진 않아</td>\n",
       "      <td>그냥 내가 좋아하는 이치란 편의점디저트 스시로 마츠야 가스토 사이제리야 토리키 아키...</td>\n",
       "      <td>일본여행 - 관동이외2024.03.25 09:42</td>\n",
       "    </tr>\n",
       "    <tr>\n",
       "      <th>4</th>\n",
       "      <td>자가진단키트 편의점에도 팔지?</td>\n",
       "      <td>갑자기 코 안쪽이 쎄하네 씨발</td>\n",
       "      <td>아이돌마스터2024.03.25 09:42</td>\n",
       "    </tr>\n",
       "    <tr>\n",
       "      <th>...</th>\n",
       "      <td>...</td>\n",
       "      <td>...</td>\n",
       "      <td>...</td>\n",
       "    </tr>\n",
       "    <tr>\n",
       "      <th>2495</th>\n",
       "      <td>Start Over!</td>\n",
       "      <td>い聞かせて・・・ 어떻게든 될거라고 자신을 타이르며 こんな夜遅く コンビニのレンジで 이...</td>\n",
       "      <td>한성별곡2024.03.21 23:14</td>\n",
       "    </tr>\n",
       "    <tr>\n",
       "      <th>2496</th>\n",
       "      <td>나 오늘 편의점 알바 갔다가 개털렸잖니</td>\n",
       "      <td>어제 이어서 오늘까지 연속 두 번 실수해서 개털림 ㅠ 꿀꿀해서 두 달 전부터 먹고 ...</td>\n",
       "      <td>LGBT2024.03.21 23:13</td>\n",
       "    </tr>\n",
       "    <tr>\n",
       "      <th>2497</th>\n",
       "      <td>머지 편의점끼리 일반택배를 보낼수가있나</td>\n",
       "      <td>편택 반값택배로 보내달라고했는데 하도안와서 판매자한테 연락하니까 크기가커서 반값으로...</td>\n",
       "      <td>BL소설2024.03.21 23:10</td>\n",
       "    </tr>\n",
       "    <tr>\n",
       "      <th>2498</th>\n",
       "      <td>여고딩들 너무 무서워 ㅠㅠ</td>\n",
       "      <td>편의점에서 물건 고르다가 옆에 있는 여고딩들이 너무 크게 말해서 어쩔 수 없이 들었...</td>\n",
       "      <td>아이돌리즘2024.03.21 23:10</td>\n",
       "    </tr>\n",
       "    <tr>\n",
       "      <th>2499</th>\n",
       "      <td>쌀먹이 이해가 안가는데</td>\n",
       "      <td>티엘 나온지 100일 종일 게임 쳐하는 백수 쌀먹 새끼들은 얼마 벌었니? 최저시급 ...</td>\n",
       "      <td>쓰론 앤 리버티2024.03.21 23:08</td>\n",
       "    </tr>\n",
       "  </tbody>\n",
       "</table>\n",
       "<p>2500 rows × 3 columns</p>\n",
       "</div>"
      ],
      "text/plain": [
       "                          게시물제목  \\\n",
       "0            한국의 제도만드는게 정신병자들인게   \n",
       "1      밤양갱 지금 20대여자들한테 ㅈㄴ 잘팔리더라   \n",
       "2               편의점 차기작 게임 재밌음?   \n",
       "3     사실 일본에 가는 이유는 그렇게 거창하진 않아   \n",
       "4              자가진단키트 편의점에도 팔지?   \n",
       "...                         ...   \n",
       "2495                Start Over!   \n",
       "2496      나 오늘 편의점 알바 갔다가 개털렸잖니   \n",
       "2497      머지 편의점끼리 일반택배를 보낼수가있나   \n",
       "2498             여고딩들 너무 무서워 ㅠㅠ   \n",
       "2499               쌀먹이 이해가 안가는데   \n",
       "\n",
       "                                                     내용  \\\n",
       "0     한국이 병원방문횟수가 유난히 높은 이유가 다른나라들에서는 그냥 약국이나 편의점에서 ...   \n",
       "1                                        편의점가보셈 대부분 품절임   \n",
       "2                                           공포게임하면 좋긴한데   \n",
       "3     그냥 내가 좋아하는 이치란 편의점디저트 스시로 마츠야 가스토 사이제리야 토리키 아키...   \n",
       "4                                      갑자기 코 안쪽이 쎄하네 씨발   \n",
       "...                                                 ...   \n",
       "2495  い聞かせて・・・ 어떻게든 될거라고 자신을 타이르며 こんな夜遅く コンビニのレンジで 이...   \n",
       "2496  어제 이어서 오늘까지 연속 두 번 실수해서 개털림 ㅠ 꿀꿀해서 두 달 전부터 먹고 ...   \n",
       "2497  편택 반값택배로 보내달라고했는데 하도안와서 판매자한테 연락하니까 크기가커서 반값으로...   \n",
       "2498  편의점에서 물건 고르다가 옆에 있는 여고딩들이 너무 크게 말해서 어쩔 수 없이 들었...   \n",
       "2499  티엘 나온지 100일 종일 게임 쳐하는 백수 쌀먹 새끼들은 얼마 벌었니? 최저시급 ...   \n",
       "\n",
       "                             기타정보  \n",
       "0             부동산2024.03.25 09:48  \n",
       "1       리그 오브 레전드2024.03.25 09:46  \n",
       "2        우왁굳(유튜버)2024.03.25 09:43  \n",
       "3     일본여행 - 관동이외2024.03.25 09:42  \n",
       "4          아이돌마스터2024.03.25 09:42  \n",
       "...                           ...  \n",
       "2495         한성별곡2024.03.21 23:14  \n",
       "2496         LGBT2024.03.21 23:13  \n",
       "2497         BL소설2024.03.21 23:10  \n",
       "2498        아이돌리즘2024.03.21 23:10  \n",
       "2499     쓰론 앤 리버티2024.03.21 23:08  \n",
       "\n",
       "[2500 rows x 3 columns]"
      ]
     },
     "execution_count": 13,
     "metadata": {},
     "output_type": "execute_result"
    }
   ],
   "source": [
    "df = pd.DataFrame({\"게시물제목\":titles, \"내용\":contents, \"기타정보\":etcs})\n",
    "df"
   ]
  },
  {
   "cell_type": "code",
   "execution_count": 14,
   "metadata": {
    "colab": {
     "base_uri": "https://localhost:8080/"
    },
    "executionInfo": {
     "elapsed": 14,
     "status": "ok",
     "timestamp": 1698300223707,
     "user": {
      "displayName": "안윤경",
      "userId": "08326209251813559422"
     },
     "user_tz": -540
    },
    "id": "DvK29xNxHbWV",
    "outputId": "17609d4d-616e-44e5-c139-21dec4872fd2"
   },
   "outputs": [
    {
     "name": "stdout",
     "output_type": "stream",
     "text": [
      "입력 정보 : 편의점2022.06.02 19:33\n",
      "정규표현식 처리 후 결과 : 2022.06.02\n"
     ]
    }
   ],
   "source": [
    "import re\n",
    "\n",
    "etc_info = \"편의점2022.06.02 19:33\" #①\n",
    "\n",
    "pattern = r\"\\d{4}.\\d+.\\d+\" #②\n",
    "result = re.search(pattern, etc_info) #③\n",
    "date = result.group() #④\n",
    "\n",
    "print(\"입력 정보 :\", etc_info)\n",
    "print(\"정규표현식 처리 후 결과 :\",date)"
   ]
  },
  {
   "cell_type": "code",
   "execution_count": 15,
   "metadata": {
    "colab": {
     "base_uri": "https://localhost:8080/"
    },
    "executionInfo": {
     "elapsed": 14,
     "status": "ok",
     "timestamp": 1698300223708,
     "user": {
      "displayName": "안윤경",
      "userId": "08326209251813559422"
     },
     "user_tz": -540
    },
    "id": "xsBRdkh_HbTo",
    "outputId": "b4e95640-a86f-4353-a19e-482d16289984"
   },
   "outputs": [
    {
     "name": "stdout",
     "output_type": "stream",
     "text": [
      "입력 정보 : 만화2022.05.31 17:34\n",
      "날짜 정보 : 17:34\n",
      "시간 정보 : 2022.05.31\n"
     ]
    }
   ],
   "source": [
    "def find_date(text):\n",
    "    \"\"\"날짜를 찾습니다.\"\"\"\n",
    "    pattern = r\"\\d+.\\d+.\\d+\"\n",
    "    result = re.search(pattern, text)\n",
    "    date = result.group()\n",
    "\n",
    "    return date\n",
    "\n",
    "def find_time(text):\n",
    "    \"\"\"시간을 찾습니다.\"\"\"\n",
    "    pattern = r\"\\d+:\\d+\"\n",
    "    result = re.search(pattern, text)\n",
    "    time = result.group()\n",
    "\n",
    "    return time\n",
    "\n",
    "text = \"만화2022.05.31 17:34\"\n",
    "time_result = find_time(text=text)\n",
    "date_result = find_date(text=text)\n",
    "\n",
    "print(\"입력 정보 :\", text)\n",
    "print(\"날짜 정보 :\", time_result)\n",
    "print(\"시간 정보 :\", date_result)"
   ]
  },
  {
   "cell_type": "code",
   "execution_count": 16,
   "metadata": {
    "executionInfo": {
     "elapsed": 13,
     "status": "ok",
     "timestamp": 1698300223708,
     "user": {
      "displayName": "안윤경",
      "userId": "08326209251813559422"
     },
     "user_tz": -540
    },
    "id": "mjFejAsjHrO8"
   },
   "outputs": [],
   "source": [
    "df['날짜'] = df['기타정보'].apply(lambda x:find_date(x))\n",
    "df['작성시간'] = df['기타정보'].apply(lambda x:find_time(x))"
   ]
  },
  {
   "cell_type": "code",
   "execution_count": 17,
   "metadata": {
    "colab": {
     "base_uri": "https://localhost:8080/",
     "height": 143
    },
    "executionInfo": {
     "elapsed": 12,
     "status": "ok",
     "timestamp": 1698300223708,
     "user": {
      "displayName": "안윤경",
      "userId": "08326209251813559422"
     },
     "user_tz": -540
    },
    "id": "fhji8LlUHbQ8",
    "outputId": "2e17c59e-6974-4a5e-b2c4-722397e4dbcd"
   },
   "outputs": [
    {
     "data": {
      "text/html": [
       "<div>\n",
       "<style scoped>\n",
       "    .dataframe tbody tr th:only-of-type {\n",
       "        vertical-align: middle;\n",
       "    }\n",
       "\n",
       "    .dataframe tbody tr th {\n",
       "        vertical-align: top;\n",
       "    }\n",
       "\n",
       "    .dataframe thead th {\n",
       "        text-align: right;\n",
       "    }\n",
       "</style>\n",
       "<table border=\"1\" class=\"dataframe\">\n",
       "  <thead>\n",
       "    <tr style=\"text-align: right;\">\n",
       "      <th></th>\n",
       "      <th>게시물제목</th>\n",
       "      <th>내용</th>\n",
       "      <th>기타정보</th>\n",
       "      <th>날짜</th>\n",
       "      <th>작성시간</th>\n",
       "    </tr>\n",
       "  </thead>\n",
       "  <tbody>\n",
       "    <tr>\n",
       "      <th>1377</th>\n",
       "      <td>일본 편의점 첫날알바다녀옴</td>\n",
       "      <td>무 료 야동 탤 래 고뤰 ? @l im b ak sa</td>\n",
       "      <td>편의점2024.03.23 14:04</td>\n",
       "      <td>2024.03.23</td>\n",
       "      <td>14:04</td>\n",
       "    </tr>\n",
       "    <tr>\n",
       "      <th>2165</th>\n",
       "      <td>편의점구제좀요 배고파요 ㅠㅠ</td>\n",
       "      <td>************* 카카오뱅크</td>\n",
       "      <td>대출2024.03.22 12:49</td>\n",
       "      <td>2024.03.22</td>\n",
       "      <td>12:49</td>\n",
       "    </tr>\n",
       "    <tr>\n",
       "      <th>2201</th>\n",
       "      <td>만붕이 편의점 신제품 먹어봄!!</td>\n",
       "      <td>그냥 호빵 맛이었음ㅠ - dc official App</td>\n",
       "      <td>만화2024.03.22 12:03</td>\n",
       "      <td>2024.03.22</td>\n",
       "      <td>12:03</td>\n",
       "    </tr>\n",
       "  </tbody>\n",
       "</table>\n",
       "</div>"
      ],
      "text/plain": [
       "                  게시물제목                             내용                 기타정보  \\\n",
       "1377     일본 편의점 첫날알바다녀옴  무 료 야동 탤 래 고뤰 ? @l im b ak sa  편의점2024.03.23 14:04   \n",
       "2165    편의점구제좀요 배고파요 ㅠㅠ            ************* 카카오뱅크   대출2024.03.22 12:49   \n",
       "2201  만붕이 편의점 신제품 먹어봄!!  그냥 호빵 맛이었음ㅠ - dc official App   만화2024.03.22 12:03   \n",
       "\n",
       "              날짜   작성시간  \n",
       "1377  2024.03.23  14:04  \n",
       "2165  2024.03.22  12:49  \n",
       "2201  2024.03.22  12:03  "
      ]
     },
     "execution_count": 17,
     "metadata": {},
     "output_type": "execute_result"
    }
   ],
   "source": [
    "df.sample(3)"
   ]
  },
  {
   "cell_type": "markdown",
   "metadata": {
    "id": "29SEGl-n9lDl"
   },
   "source": [
    "날짜와 요일 정보 추출하기"
   ]
  },
  {
   "cell_type": "code",
   "execution_count": 18,
   "metadata": {
    "colab": {
     "base_uri": "https://localhost:8080/"
    },
    "executionInfo": {
     "elapsed": 11,
     "status": "ok",
     "timestamp": 1698300223708,
     "user": {
      "displayName": "안윤경",
      "userId": "08326209251813559422"
     },
     "user_tz": -540
    },
    "id": "CxvWKiB1H--N",
    "outputId": "b5e42bbc-37e2-4b0d-96d4-ee29b6c69202"
   },
   "outputs": [
    {
     "name": "stdout",
     "output_type": "stream",
     "text": [
      "date 변수의 데이터 타입 : <class 'str'>\n",
      "dateinfo 변수의 데이터 타입 : <class 'datetime.datetime'>\n",
      "연도 정보 : 2022\n",
      "월 정보 : 6\n",
      "일 정보 : 4\n"
     ]
    }
   ],
   "source": [
    "from dateutil.parser import parse #①\n",
    "\n",
    "\n",
    "date = \"2022.06.04\"\n",
    "\n",
    "dateinfo = parse(date)\n",
    "\n",
    "print(\"date 변수의 데이터 타입 :\", type(date))\n",
    "print(\"dateinfo 변수의 데이터 타입 :\", type(dateinfo))\n",
    "print(\"연도 정보 :\", dateinfo.year)\n",
    "print(\"월 정보 :\", dateinfo.month)\n",
    "print(\"일 정보 :\", dateinfo.day)"
   ]
  },
  {
   "cell_type": "code",
   "execution_count": 19,
   "metadata": {
    "colab": {
     "base_uri": "https://localhost:8080/"
    },
    "executionInfo": {
     "elapsed": 10,
     "status": "ok",
     "timestamp": 1698300223708,
     "user": {
      "displayName": "안윤경",
      "userId": "08326209251813559422"
     },
     "user_tz": -540
    },
    "id": "SrIAAYdIfMhY",
    "outputId": "3644bf6c-394a-4a6a-a32f-9c40303a1693"
   },
   "outputs": [
    {
     "data": {
      "text/plain": [
       "5"
      ]
     },
     "execution_count": 19,
     "metadata": {},
     "output_type": "execute_result"
    }
   ],
   "source": [
    "import calendar #①\n",
    "\n",
    "calendar.weekday(dateinfo.year, dateinfo.month, dateinfo.day)"
   ]
  },
  {
   "cell_type": "code",
   "execution_count": 20,
   "metadata": {
    "colab": {
     "base_uri": "https://localhost:8080/"
    },
    "executionInfo": {
     "elapsed": 10,
     "status": "ok",
     "timestamp": 1698300223708,
     "user": {
      "displayName": "안윤경",
      "userId": "08326209251813559422"
     },
     "user_tz": -540
    },
    "id": "QfQs7x25HbOP",
    "outputId": "e4d7be30-3aa9-4d0f-c291-17202dc21f6b"
   },
   "outputs": [
    {
     "name": "stdout",
     "output_type": "stream",
     "text": [
      "오늘은 토요일입니다.\n"
     ]
    }
   ],
   "source": [
    "def find_day(date):\n",
    "    \"\"\"요일 정보를 반환합니다.\"\"\"\n",
    "    try: #ⓐ\n",
    "        dateinfo = parse(date) #③\n",
    "\n",
    "        days = ['월요일','화요일','수요일','목요일','금요일','토요일','일요일']\n",
    "        day = days[calendar.weekday(dateinfo.year,\n",
    "                   dateinfo.month, dateinfo.day)] #④\n",
    "\n",
    "        return day\n",
    "    except: #ⓑ\n",
    "        return \"알수없음\" #⑤\n",
    "\n",
    "\n",
    "day = find_day(date=\"2022.06.04\") #⑥\n",
    "print(\"오늘은 {}입니다.\".format(day))"
   ]
  },
  {
   "cell_type": "code",
   "execution_count": 21,
   "metadata": {
    "colab": {
     "base_uri": "https://localhost:8080/"
    },
    "executionInfo": {
     "elapsed": 9,
     "status": "ok",
     "timestamp": 1698300223708,
     "user": {
      "displayName": "안윤경",
      "userId": "08326209251813559422"
     },
     "user_tz": -540
    },
    "id": "yvRPZsJVHbLk",
    "outputId": "bf424ccf-86c6-4885-e49c-9ad0ce0a6a32"
   },
   "outputs": [
    {
     "data": {
      "text/plain": [
       "2024.03.24       794\n",
       "2024.03.22       714\n",
       "2024.03.23       710\n",
       "2024.03.25       205\n",
       "2024.03.21        27\n",
       "482024.03.24      13\n",
       "1,2,3              7\n",
       "22024.03.24        4\n",
       "12024.03.24        3\n",
       "5002024.03.24      2\n",
       "482024.03.23       2\n",
       "482024.03.25       2\n",
       "82024.03.25        1\n",
       "422024.03.22       1\n",
       "22024.03.22        1\n",
       "52024.03.22        1\n",
       "32024.03.22        1\n",
       "82024.03.22        1\n",
       "5002024.03.22      1\n",
       "482024.03.22       1\n",
       "5002024.03.23      1\n",
       "22024.03.23        1\n",
       "52024.03.23        1\n",
       "32024.03.23        1\n",
       "82024.03.23        1\n",
       "42024.03.25        1\n",
       "82024.03.24        1\n",
       "9992024.03.24      1\n",
       "12024.03.23        1\n",
       "Name: 날짜, dtype: int64"
      ]
     },
     "execution_count": 21,
     "metadata": {},
     "output_type": "execute_result"
    }
   ],
   "source": [
    "df['날짜'].value_counts()"
   ]
  },
  {
   "cell_type": "code",
   "execution_count": 22,
   "metadata": {
    "executionInfo": {
     "elapsed": 8,
     "status": "ok",
     "timestamp": 1698300223708,
     "user": {
      "displayName": "안윤경",
      "userId": "08326209251813559422"
     },
     "user_tz": -540
    },
    "id": "Uvp4WcWzFQMi"
   },
   "outputs": [],
   "source": [
    "df['요일'] = df['날짜'].apply(lambda x:find_day(x)) #①\n",
    "df['시간(H)'] = df['작성시간'].apply(lambda x:x.split(\":\")[0]) #②"
   ]
  },
  {
   "cell_type": "code",
   "execution_count": 23,
   "metadata": {
    "colab": {
     "base_uri": "https://localhost:8080/",
     "height": 143
    },
    "executionInfo": {
     "elapsed": 450,
     "status": "ok",
     "timestamp": 1698300224149,
     "user": {
      "displayName": "안윤경",
      "userId": "08326209251813559422"
     },
     "user_tz": -540
    },
    "id": "jd8X2Q-_FP_n",
    "outputId": "5a927982-ec4a-4ef1-dfab-985e439362e3"
   },
   "outputs": [
    {
     "data": {
      "text/html": [
       "<div>\n",
       "<style scoped>\n",
       "    .dataframe tbody tr th:only-of-type {\n",
       "        vertical-align: middle;\n",
       "    }\n",
       "\n",
       "    .dataframe tbody tr th {\n",
       "        vertical-align: top;\n",
       "    }\n",
       "\n",
       "    .dataframe thead th {\n",
       "        text-align: right;\n",
       "    }\n",
       "</style>\n",
       "<table border=\"1\" class=\"dataframe\">\n",
       "  <thead>\n",
       "    <tr style=\"text-align: right;\">\n",
       "      <th></th>\n",
       "      <th>게시물제목</th>\n",
       "      <th>내용</th>\n",
       "      <th>기타정보</th>\n",
       "      <th>날짜</th>\n",
       "      <th>작성시간</th>\n",
       "      <th>요일</th>\n",
       "      <th>시간(H)</th>\n",
       "    </tr>\n",
       "  </thead>\n",
       "  <tbody>\n",
       "    <tr>\n",
       "      <th>1782</th>\n",
       "      <td>아 싸이비들 진짜 화딱지 존나 나네</td>\n",
       "      <td>왜 편의점 찾아와서 하나님 믿으라고 ㅈ랄하지 뭔 과학적 근거가 어딨어 씨발련아 미래...</td>\n",
       "      <td>편의점2024.03.22 23:11</td>\n",
       "      <td>2024.03.22</td>\n",
       "      <td>23:11</td>\n",
       "      <td>금요일</td>\n",
       "      <td>23</td>\n",
       "    </tr>\n",
       "    <tr>\n",
       "      <th>1284</th>\n",
       "      <td>야씨발여기가무인편의점이다</td>\n",
       "      <td></td>\n",
       "      <td>더불어민주당2024.03.23 17:15</td>\n",
       "      <td>2024.03.23</td>\n",
       "      <td>17:15</td>\n",
       "      <td>토요일</td>\n",
       "      <td>17</td>\n",
       "    </tr>\n",
       "    <tr>\n",
       "      <th>1396</th>\n",
       "      <td>클린인포면 맛난거먹음</td>\n",
       "      <td>팔도비빔면에 편의점에서 사온 치킨 가능?</td>\n",
       "      <td>철권82024.03.23 13:15</td>\n",
       "      <td>82024.03.23</td>\n",
       "      <td>13:15</td>\n",
       "      <td>알수없음</td>\n",
       "      <td>13</td>\n",
       "    </tr>\n",
       "  </tbody>\n",
       "</table>\n",
       "</div>"
      ],
      "text/plain": [
       "                    게시물제목                                                 내용  \\\n",
       "1782  아 싸이비들 진짜 화딱지 존나 나네  왜 편의점 찾아와서 하나님 믿으라고 ㅈ랄하지 뭔 과학적 근거가 어딨어 씨발련아 미래...   \n",
       "1284        야씨발여기가무인편의점이다                                                      \n",
       "1396          클린인포면 맛난거먹음                             팔도비빔면에 편의점에서 사온 치킨 가능?   \n",
       "\n",
       "                        기타정보           날짜   작성시간    요일 시간(H)  \n",
       "1782     편의점2024.03.22 23:11   2024.03.22  23:11   금요일    23  \n",
       "1284  더불어민주당2024.03.23 17:15   2024.03.23  17:15   토요일    17  \n",
       "1396     철권82024.03.23 13:15  82024.03.23  13:15  알수없음    13  "
      ]
     },
     "execution_count": 23,
     "metadata": {},
     "output_type": "execute_result"
    }
   ],
   "source": [
    "df.sample(3)"
   ]
  },
  {
   "cell_type": "markdown",
   "metadata": {
    "id": "vsxZ2BAa912t"
   },
   "source": [
    "결과 저장하기"
   ]
  },
  {
   "cell_type": "code",
   "execution_count": 24,
   "metadata": {
    "executionInfo": {
     "elapsed": 2096,
     "status": "ok",
     "timestamp": 1698300301635,
     "user": {
      "displayName": "안윤경",
      "userId": "08326209251813559422"
     },
     "user_tz": -540
    },
    "id": "K-nUgPjuFP6M"
   },
   "outputs": [],
   "source": [
    "filepath = './data'\n",
    "df.to_excel(filepath + \"/디시인사이드_편의점게시물.xlsx\", index=False)"
   ]
  },
  {
   "cell_type": "code",
   "execution_count": 25,
   "metadata": {
    "executionInfo": {
     "elapsed": 783,
     "status": "ok",
     "timestamp": 1698300306578,
     "user": {
      "displayName": "안윤경",
      "userId": "08326209251813559422"
     },
     "user_tz": -540
    },
    "id": "aK_1lRvUIoax"
   },
   "outputs": [],
   "source": [
    "df = pd.read_excel(filepath + \"/디시인사이드_편의점게시물.xlsx\")"
   ]
  }
 ],
 "metadata": {
  "colab": {
   "provenance": [
    {
     "file_id": "1cPVlBip3qAuD544ss9a57jP8-DlH-dKe",
     "timestamp": 1698300320372
    },
    {
     "file_id": "1R58gJA_oGzvxvKKWyuBI27t4CyxOCC8v",
     "timestamp": 1659787182333
    }
   ]
  },
  "kernelspec": {
   "display_name": "Python 3 (ipykernel)",
   "language": "python",
   "name": "python3"
  },
  "language_info": {
   "codemirror_mode": {
    "name": "ipython",
    "version": 3
   },
   "file_extension": ".py",
   "mimetype": "text/x-python",
   "name": "python",
   "nbconvert_exporter": "python",
   "pygments_lexer": "ipython3",
   "version": "3.9.12"
  }
 },
 "nbformat": 4,
 "nbformat_minor": 1
}
