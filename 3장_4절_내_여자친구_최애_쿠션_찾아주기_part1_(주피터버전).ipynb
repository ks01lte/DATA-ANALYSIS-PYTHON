{
 "cells": [
  {
   "cell_type": "markdown",
   "metadata": {},
   "source": [
    "라이브러리 버전  \n",
    "판다스 : 1.3.4"
   ]
  },
  {
   "cell_type": "code",
   "execution_count": 1,
   "metadata": {},
   "outputs": [],
   "source": [
    "# 라이브러리 버전이 맞지 않을 경우 아래 명령어의 주석을 제거한 후 실행해주세요.\n",
    "# 이전 예제들을 실행했다면 앞에서 이미 버전을 맞췄습니다.\n",
    "# !pip install pandas==1.3.4"
   ]
  },
  {
   "cell_type": "code",
   "execution_count": 2,
   "metadata": {},
   "outputs": [
    {
     "name": "stdout",
     "output_type": "stream",
     "text": [
      "판다스 버전 : 1.3.4\n"
     ]
    }
   ],
   "source": [
    "# 버전 확인용\n",
    "import pandas as pd\n",
    "\n",
    "print(\"판다스 버전 :\", pd.__version__)"
   ]
  },
  {
   "cell_type": "markdown",
   "metadata": {
    "id": "h7KOdqiQ-8Ew"
   },
   "source": [
    "필요한 라이브러리 불러오기"
   ]
  },
  {
   "cell_type": "code",
   "execution_count": 3,
   "metadata": {
    "colab": {
     "base_uri": "https://localhost:8080/"
    },
    "executionInfo": {
     "elapsed": 1120,
     "status": "ok",
     "timestamp": 1698371053063,
     "user": {
      "displayName": "안윤경",
      "userId": "08326209251813559422"
     },
     "user_tz": -540
    },
    "id": "Kss2JPcMPWCK",
    "outputId": "4937e6e1-90f5-42d8-895a-512de7c6747f"
   },
   "outputs": [
    {
     "name": "stderr",
     "output_type": "stream",
     "text": [
      "C:\\Users\\it\\AppData\\Local\\Temp\\ipykernel_19532\\803475683.py:12: DeprecationWarning: `set_matplotlib_formats` is deprecated since IPython 7.23, directly use `matplotlib_inline.backend_inline.set_matplotlib_formats()`\n",
      "  set_matplotlib_formats('retina')\n"
     ]
    }
   ],
   "source": [
    "import pandas as pd\n",
    "import os\n",
    "import re\n",
    "from ast import literal_eval\n",
    "\n",
    "#시각화\n",
    "import matplotlib.pyplot as plt\n",
    "%matplotlib inline\n",
    "plt.rc('font',family='Malgun Gothic')\n",
    "\n",
    "from IPython.display import set_matplotlib_formats\n",
    "set_matplotlib_formats('retina')"
   ]
  },
  {
   "cell_type": "code",
   "execution_count": 4,
   "metadata": {
    "executionInfo": {
     "elapsed": 8554,
     "status": "ok",
     "timestamp": 1698371119058,
     "user": {
      "displayName": "안윤경",
      "userId": "08326209251813559422"
     },
     "user_tz": -540
    },
    "id": "NRJipkZ4P7dC"
   },
   "outputs": [],
   "source": [
    "basic_info_path = './data/makeup_basic_info/'\n",
    "basic_info_files = os.listdir(basic_info_path)"
   ]
  },
  {
   "cell_type": "code",
   "execution_count": 5,
   "metadata": {
    "colab": {
     "base_uri": "https://localhost:8080/"
    },
    "executionInfo": {
     "elapsed": 278,
     "status": "ok",
     "timestamp": 1698371122101,
     "user": {
      "displayName": "안윤경",
      "userId": "08326209251813559422"
     },
     "user_tz": -540
    },
    "id": "iNDvarsQd42k",
    "outputId": "c1ffcdd1-9cc2-40f9-bcbe-5215343c2615"
   },
   "outputs": [
    {
     "name": "stdout",
     "output_type": "stream",
     "text": [
      "제품 기본 정보 데이터 수 : 976\n"
     ]
    }
   ],
   "source": [
    "print(\"제품 기본 정보 데이터 수 :\", len(basic_info_files))"
   ]
  },
  {
   "cell_type": "code",
   "execution_count": 6,
   "metadata": {},
   "outputs": [
    {
     "data": {
      "text/html": [
       "<div>\n",
       "<style scoped>\n",
       "    .dataframe tbody tr th:only-of-type {\n",
       "        vertical-align: middle;\n",
       "    }\n",
       "\n",
       "    .dataframe tbody tr th {\n",
       "        vertical-align: top;\n",
       "    }\n",
       "\n",
       "    .dataframe thead th {\n",
       "        text-align: right;\n",
       "    }\n",
       "</style>\n",
       "<table border=\"1\" class=\"dataframe\">\n",
       "  <thead>\n",
       "    <tr style=\"text-align: right;\">\n",
       "      <th></th>\n",
       "      <th>name</th>\n",
       "      <th>tag</th>\n",
       "      <th>likes</th>\n",
       "      <th>num_review</th>\n",
       "      <th>num_photo</th>\n",
       "      <th>url</th>\n",
       "      <th>sale_day</th>\n",
       "    </tr>\n",
       "  </thead>\n",
       "  <tbody>\n",
       "    <tr>\n",
       "      <th>0</th>\n",
       "      <td>0번_제품</td>\n",
       "      <td>['#촉촉한수분감', '#촉촉한사용감', '#윤기커버', '#부드러운사용감', '#...</td>\n",
       "      <td>찜4,203</td>\n",
       "      <td>50</td>\n",
       "      <td>(20건)</td>\n",
       "      <td>https://cr.shopping.naver.com/adcr.nhn?x=hgdmo...</td>\n",
       "      <td>등록일 2022.01.</td>\n",
       "    </tr>\n",
       "    <tr>\n",
       "      <th>1</th>\n",
       "      <td>100번_제품</td>\n",
       "      <td>['#보송보송한메이크업', '#부드러운피부', '#인생템', '#헤라블랙쿠션', '...</td>\n",
       "      <td>찜62</td>\n",
       "      <td>1</td>\n",
       "      <td>(1건)</td>\n",
       "      <td>https://cr.shopping.naver.com/adcr.nhn?x=DToeQ...</td>\n",
       "      <td>등록일 2022.05.</td>\n",
       "    </tr>\n",
       "  </tbody>\n",
       "</table>\n",
       "</div>"
      ],
      "text/plain": [
       "      name                                                tag   likes  \\\n",
       "0    0번_제품  ['#촉촉한수분감', '#촉촉한사용감', '#윤기커버', '#부드러운사용감', '#...  찜4,203   \n",
       "1  100번_제품  ['#보송보송한메이크업', '#부드러운피부', '#인생템', '#헤라블랙쿠션', '...     찜62   \n",
       "\n",
       "  num_review num_photo                                                url  \\\n",
       "0         50     (20건)  https://cr.shopping.naver.com/adcr.nhn?x=hgdmo...   \n",
       "1          1      (1건)  https://cr.shopping.naver.com/adcr.nhn?x=DToeQ...   \n",
       "\n",
       "       sale_day  \n",
       "0  등록일 2022.01.  \n",
       "1  등록일 2022.05.  "
      ]
     },
     "execution_count": 6,
     "metadata": {},
     "output_type": "execute_result"
    }
   ],
   "source": [
    "pattern = re.compile(r'^\\d+_info\\.xlsx$')\n",
    "basic_info_files = [file for file in os.listdir(basic_info_path) if pattern.match(file)]\n",
    "df_bsc_inf_tmp = [pd.read_excel(basic_info_path + file) for file in basic_info_files]\n",
    "\n",
    "df_bsc = pd.concat(df_bsc_inf_tmp)\n",
    "df_bsc.reset_index(drop=True, inplace=True)\n",
    "\n",
    "df_bsc.head(2)"
   ]
  },
  {
   "cell_type": "markdown",
   "metadata": {
    "id": "rIEgyOOND7Mx"
   },
   "source": [
    "제품 기본 정보 데이터 전처리"
   ]
  },
  {
   "cell_type": "code",
   "execution_count": 7,
   "metadata": {
    "executionInfo": {
     "elapsed": 7828,
     "status": "ok",
     "timestamp": 1698371506723,
     "user": {
      "displayName": "안윤경",
      "userId": "08326209251813559422"
     },
     "user_tz": -540
    },
    "id": "jyIpYjCth2RS"
   },
   "outputs": [],
   "source": [
    "df_bsc.to_excel(basic_info_path + 'basic_info.xlsx', index=False) # 저장하기"
   ]
  },
  {
   "cell_type": "code",
   "execution_count": 8,
   "metadata": {
    "executionInfo": {
     "elapsed": 6609,
     "status": "ok",
     "timestamp": 1698371563335,
     "user": {
      "displayName": "안윤경",
      "userId": "08326209251813559422"
     },
     "user_tz": -540
    },
    "id": "lnidOxHllz3Y"
   },
   "outputs": [],
   "source": [
    "df_bsc = pd.read_excel(basic_info_path + 'basic_info.xlsx')"
   ]
  },
  {
   "cell_type": "code",
   "execution_count": 9,
   "metadata": {
    "executionInfo": {
     "elapsed": 275,
     "status": "ok",
     "timestamp": 1698371582063,
     "user": {
      "displayName": "안윤경",
      "userId": "08326209251813559422"
     },
     "user_tz": -540
    },
    "id": "68ZLLnsjiBpH"
   },
   "outputs": [],
   "source": [
    "df_bsc.rename(columns={\"name\":\"제품기호\",\n",
    "                       \"sale_day\":\"dates\",\n",
    "                       \"tag\":\"HashTag\"}, inplace=True)"
   ]
  },
  {
   "cell_type": "code",
   "execution_count": 10,
   "metadata": {
    "executionInfo": {
     "elapsed": 1,
     "status": "ok",
     "timestamp": 1698371584592,
     "user": {
      "displayName": "안윤경",
      "userId": "08326209251813559422"
     },
     "user_tz": -540
    },
    "id": "DqRlyQgLfQNt"
   },
   "outputs": [],
   "source": [
    "def get_digit_only(text):\n",
    "    \"\"\"숫자만 추출한다\"\"\"\n",
    "    if text !='없음':\n",
    "        tmp = re.compile('[0-9]+').findall(str(text)) #①\n",
    "        result = ''.join(tmp) #②\n",
    "\n",
    "        return int(result)\n",
    "    else:\n",
    "        return 0"
   ]
  },
  {
   "cell_type": "code",
   "execution_count": 11,
   "metadata": {
    "colab": {
     "base_uri": "https://localhost:8080/"
    },
    "executionInfo": {
     "elapsed": 350,
     "status": "ok",
     "timestamp": 1698371587074,
     "user": {
      "displayName": "안윤경",
      "userId": "08326209251813559422"
     },
     "user_tz": -540
    },
    "id": "L3Ia5QHLqM5y",
    "outputId": "d835fbd5-3eb6-4926-b874-3debdb7ed79a"
   },
   "outputs": [
    {
     "name": "stdout",
     "output_type": "stream",
     "text": [
      "찜한 수 전처리 결과 예시 : 4203\n",
      "리뷰 수 전처리 결과 예시: 1221\n",
      "사진 리뷰 수 전처리 결과 예시: 173\n"
     ]
    }
   ],
   "source": [
    "print(\"찜한 수 전처리 결과 예시 :\", get_digit_only(text='찜4,203'))\n",
    "print(\"리뷰 수 전처리 결과 예시:\", get_digit_only(text='1,221'))\n",
    "print(\"사진 리뷰 수 전처리 결과 예시:\", get_digit_only(text='(173건)'))"
   ]
  },
  {
   "cell_type": "code",
   "execution_count": 12,
   "metadata": {
    "executionInfo": {
     "elapsed": 276,
     "status": "ok",
     "timestamp": 1698371588782,
     "user": {
      "displayName": "안윤경",
      "userId": "08326209251813559422"
     },
     "user_tz": -540
    },
    "id": "aGpfVizFiVB4"
   },
   "outputs": [],
   "source": [
    "df_bsc['likes'] = df_bsc['likes'].astype('str')\n",
    "df_bsc['num_review'] = df_bsc['num_review'].astype('str')\n",
    "df_bsc['num_photo'] = df_bsc['num_photo'].astype('str')"
   ]
  },
  {
   "cell_type": "code",
   "execution_count": 13,
   "metadata": {
    "executionInfo": {
     "elapsed": 247,
     "status": "ok",
     "timestamp": 1698371590667,
     "user": {
      "displayName": "안윤경",
      "userId": "08326209251813559422"
     },
     "user_tz": -540
    },
    "id": "vg7y2w9ljAaz"
   },
   "outputs": [],
   "source": [
    "df_bsc['likes'] = df_bsc['likes'].apply(lambda x:get_digit_only(x))\n",
    "df_bsc['num_review'] = df_bsc['num_review'].apply(lambda x:get_digit_only(x))\n",
    "df_bsc['num_photo'] = df_bsc['num_photo'].apply(lambda x:get_digit_only(x))"
   ]
  },
  {
   "cell_type": "code",
   "execution_count": 14,
   "metadata": {
    "executionInfo": {
     "elapsed": 2,
     "status": "ok",
     "timestamp": 1698371591811,
     "user": {
      "displayName": "안윤경",
      "userId": "08326209251813559422"
     },
     "user_tz": -540
    },
    "id": "NU10BblikBip"
   },
   "outputs": [],
   "source": [
    "df_bsc['dates'] = df_bsc['dates'].apply(lambda x:x.replace('등록일 ', ''))"
   ]
  },
  {
   "cell_type": "code",
   "execution_count": 15,
   "metadata": {},
   "outputs": [
    {
     "data": {
      "text/html": [
       "<div>\n",
       "<style scoped>\n",
       "    .dataframe tbody tr th:only-of-type {\n",
       "        vertical-align: middle;\n",
       "    }\n",
       "\n",
       "    .dataframe tbody tr th {\n",
       "        vertical-align: top;\n",
       "    }\n",
       "\n",
       "    .dataframe thead th {\n",
       "        text-align: right;\n",
       "    }\n",
       "</style>\n",
       "<table border=\"1\" class=\"dataframe\">\n",
       "  <thead>\n",
       "    <tr style=\"text-align: right;\">\n",
       "      <th></th>\n",
       "      <th>제품기호</th>\n",
       "      <th>HashTag</th>\n",
       "      <th>likes</th>\n",
       "      <th>num_review</th>\n",
       "      <th>num_photo</th>\n",
       "      <th>url</th>\n",
       "      <th>dates</th>\n",
       "    </tr>\n",
       "  </thead>\n",
       "  <tbody>\n",
       "    <tr>\n",
       "      <th>0</th>\n",
       "      <td>0번_제품</td>\n",
       "      <td>['#촉촉한수분감', '#촉촉한사용감', '#윤기커버', '#부드러운사용감', '#...</td>\n",
       "      <td>4203</td>\n",
       "      <td>50</td>\n",
       "      <td>20</td>\n",
       "      <td>https://cr.shopping.naver.com/adcr.nhn?x=hgdmo...</td>\n",
       "      <td>2022.01.</td>\n",
       "    </tr>\n",
       "    <tr>\n",
       "      <th>1</th>\n",
       "      <td>100번_제품</td>\n",
       "      <td>['#보송보송한메이크업', '#부드러운피부', '#인생템', '#헤라블랙쿠션', '...</td>\n",
       "      <td>62</td>\n",
       "      <td>1</td>\n",
       "      <td>1</td>\n",
       "      <td>https://cr.shopping.naver.com/adcr.nhn?x=DToeQ...</td>\n",
       "      <td>2022.05.</td>\n",
       "    </tr>\n",
       "  </tbody>\n",
       "</table>\n",
       "</div>"
      ],
      "text/plain": [
       "      제품기호                                            HashTag  likes  \\\n",
       "0    0번_제품  ['#촉촉한수분감', '#촉촉한사용감', '#윤기커버', '#부드러운사용감', '#...   4203   \n",
       "1  100번_제품  ['#보송보송한메이크업', '#부드러운피부', '#인생템', '#헤라블랙쿠션', '...     62   \n",
       "\n",
       "   num_review  num_photo                                                url  \\\n",
       "0          50         20  https://cr.shopping.naver.com/adcr.nhn?x=hgdmo...   \n",
       "1           1          1  https://cr.shopping.naver.com/adcr.nhn?x=DToeQ...   \n",
       "\n",
       "      dates  \n",
       "0  2022.01.  \n",
       "1  2022.05.  "
      ]
     },
     "execution_count": 15,
     "metadata": {},
     "output_type": "execute_result"
    }
   ],
   "source": [
    "df_bsc.head(2)"
   ]
  },
  {
   "cell_type": "code",
   "execution_count": 16,
   "metadata": {},
   "outputs": [],
   "source": [
    "df_bsc['year'] = df_bsc['dates'].apply(lambda x:x[:4])\n",
    "df_bsc['month'] = df_bsc['dates'].apply(lambda x:x[-3:].replace('.',''))"
   ]
  },
  {
   "cell_type": "code",
   "execution_count": 17,
   "metadata": {
    "colab": {
     "base_uri": "https://localhost:8080/",
     "height": 278
    },
    "executionInfo": {
     "elapsed": 7,
     "status": "ok",
     "timestamp": 1663591646447,
     "user": {
      "displayName": "37살에시작하는파이썬",
      "userId": "02961954871505511659"
     },
     "user_tz": -540
    },
    "id": "YQ0LZdmYfXD-",
    "outputId": "b13dabbe-21e4-4700-9bf0-983f1dbdb8db"
   },
   "outputs": [
    {
     "data": {
      "text/html": [
       "<div>\n",
       "<style scoped>\n",
       "    .dataframe tbody tr th:only-of-type {\n",
       "        vertical-align: middle;\n",
       "    }\n",
       "\n",
       "    .dataframe tbody tr th {\n",
       "        vertical-align: top;\n",
       "    }\n",
       "\n",
       "    .dataframe thead th {\n",
       "        text-align: right;\n",
       "    }\n",
       "</style>\n",
       "<table border=\"1\" class=\"dataframe\">\n",
       "  <thead>\n",
       "    <tr style=\"text-align: right;\">\n",
       "      <th></th>\n",
       "      <th>제품기호</th>\n",
       "      <th>HashTag</th>\n",
       "      <th>likes</th>\n",
       "      <th>num_review</th>\n",
       "      <th>num_photo</th>\n",
       "      <th>url</th>\n",
       "      <th>dates</th>\n",
       "      <th>year</th>\n",
       "      <th>month</th>\n",
       "    </tr>\n",
       "  </thead>\n",
       "  <tbody>\n",
       "    <tr>\n",
       "      <th>0</th>\n",
       "      <td>0번_제품</td>\n",
       "      <td>['#촉촉한수분감', '#촉촉한사용감', '#윤기커버', '#부드러운사용감', '#...</td>\n",
       "      <td>4203</td>\n",
       "      <td>50</td>\n",
       "      <td>20</td>\n",
       "      <td>https://cr.shopping.naver.com/adcr.nhn?x=hgdmo...</td>\n",
       "      <td>2022.01.</td>\n",
       "      <td>2022</td>\n",
       "      <td>01</td>\n",
       "    </tr>\n",
       "    <tr>\n",
       "      <th>1</th>\n",
       "      <td>100번_제품</td>\n",
       "      <td>['#보송보송한메이크업', '#부드러운피부', '#인생템', '#헤라블랙쿠션', '...</td>\n",
       "      <td>62</td>\n",
       "      <td>1</td>\n",
       "      <td>1</td>\n",
       "      <td>https://cr.shopping.naver.com/adcr.nhn?x=DToeQ...</td>\n",
       "      <td>2022.05.</td>\n",
       "      <td>2022</td>\n",
       "      <td>05</td>\n",
       "    </tr>\n",
       "  </tbody>\n",
       "</table>\n",
       "</div>"
      ],
      "text/plain": [
       "      제품기호                                            HashTag  likes  \\\n",
       "0    0번_제품  ['#촉촉한수분감', '#촉촉한사용감', '#윤기커버', '#부드러운사용감', '#...   4203   \n",
       "1  100번_제품  ['#보송보송한메이크업', '#부드러운피부', '#인생템', '#헤라블랙쿠션', '...     62   \n",
       "\n",
       "   num_review  num_photo                                                url  \\\n",
       "0          50         20  https://cr.shopping.naver.com/adcr.nhn?x=hgdmo...   \n",
       "1           1          1  https://cr.shopping.naver.com/adcr.nhn?x=DToeQ...   \n",
       "\n",
       "      dates  year month  \n",
       "0  2022.01.  2022    01  \n",
       "1  2022.05.  2022    05  "
      ]
     },
     "execution_count": 17,
     "metadata": {},
     "output_type": "execute_result"
    }
   ],
   "source": [
    "df_bsc.head(2)"
   ]
  },
  {
   "cell_type": "code",
   "execution_count": 18,
   "metadata": {
    "colab": {
     "base_uri": "https://localhost:8080/"
    },
    "executionInfo": {
     "elapsed": 10,
     "status": "ok",
     "timestamp": 1663504465153,
     "user": {
      "displayName": "37살에시작하는파이썬",
      "userId": "02961954871505511659"
     },
     "user_tz": -540
    },
    "id": "xqln6OIPk1LS",
    "outputId": "eaca9324-0ee7-4d61-fecb-0d1bc3eeff47"
   },
   "outputs": [
    {
     "data": {
      "text/plain": [
       "2017     11\n",
       "2018     13\n",
       "2019     41\n",
       "2020    171\n",
       "2021    405\n",
       "2022    333\n",
       "Name: year, dtype: int64"
      ]
     },
     "execution_count": 18,
     "metadata": {},
     "output_type": "execute_result"
    }
   ],
   "source": [
    "df_bsc['year'].value_counts().sort_index()"
   ]
  },
  {
   "cell_type": "code",
   "execution_count": 19,
   "metadata": {
    "colab": {
     "base_uri": "https://localhost:8080/"
    },
    "executionInfo": {
     "elapsed": 2,
     "status": "ok",
     "timestamp": 1663504465597,
     "user": {
      "displayName": "37살에시작하는파이썬",
      "userId": "02961954871505511659"
     },
     "user_tz": -540
    },
    "id": "DgxY-vXsk1Id",
    "outputId": "0c970d5c-3e7a-410e-ccac-89925c75cd42"
   },
   "outputs": [
    {
     "data": {
      "text/plain": [
       "01     42\n",
       "02     80\n",
       "03     94\n",
       "04    129\n",
       "05     99\n",
       "06    112\n",
       "07     88\n",
       "08     79\n",
       "09     60\n",
       "10     66\n",
       "11     61\n",
       "12     64\n",
       "Name: month, dtype: int64"
      ]
     },
     "execution_count": 19,
     "metadata": {},
     "output_type": "execute_result"
    }
   ],
   "source": [
    "df_bsc['month'].value_counts().sort_index()"
   ]
  },
  {
   "cell_type": "code",
   "execution_count": 20,
   "metadata": {
    "id": "yNbZJZTqmAyr"
   },
   "outputs": [],
   "source": [
    "x = df_bsc['month'].value_counts().sort_index().index\n",
    "y = df_bsc['month'].value_counts().sort_index().values"
   ]
  },
  {
   "cell_type": "code",
   "execution_count": 21,
   "metadata": {
    "colab": {
     "base_uri": "https://localhost:8080/",
     "height": 315
    },
    "executionInfo": {
     "elapsed": 713,
     "status": "ok",
     "timestamp": 1663504693748,
     "user": {
      "displayName": "37살에시작하는파이썬",
      "userId": "02961954871505511659"
     },
     "user_tz": -540
    },
    "id": "pZXa45Ori---",
    "outputId": "65ca616e-a54f-4dc1-c066-a37695e285bb"
   },
   "outputs": [
    {
     "data": {
      "text/plain": [
       "Text(0, 0.5, '등록수')"
      ]
     },
     "execution_count": 21,
     "metadata": {},
     "output_type": "execute_result"
    },
    {
     "data": {
      "image/png": "[encoded data removed]",
      "text/plain": [
       "<Figure size 432x288 with 1 Axes>"
      ]
     },
     "metadata": {
      "image/png": {
       "height": 279,
       "width": 387
      },
      "needs_background": "light"
     },
     "output_type": "display_data"
    }
   ],
   "source": [
    "plt.title('메이크업 쿠션 제품 월별 등록 현황')\n",
    "plt.bar(x, y)\n",
    "plt.xlabel('월')\n",
    "plt.ylabel('등록수')"
   ]
  },
  {
   "cell_type": "markdown",
   "metadata": {
    "id": "KwkDfJnxm5k1"
   },
   "source": [
    "해시태그 전처리"
   ]
  },
  {
   "cell_type": "code",
   "execution_count": 22,
   "metadata": {
    "colab": {
     "base_uri": "https://localhost:8080/",
     "height": 226
    },
    "executionInfo": {
     "elapsed": 694,
     "status": "ok",
     "timestamp": 1663591560060,
     "user": {
      "displayName": "37살에시작하는파이썬",
      "userId": "02961954871505511659"
     },
     "user_tz": -540
    },
    "id": "eREfZVspm4Ln",
    "outputId": "db51b2fb-7aea-4664-fe64-9c38cfe993df"
   },
   "outputs": [
    {
     "data": {
      "text/html": [
       "<div>\n",
       "<style scoped>\n",
       "    .dataframe tbody tr th:only-of-type {\n",
       "        vertical-align: middle;\n",
       "    }\n",
       "\n",
       "    .dataframe tbody tr th {\n",
       "        vertical-align: top;\n",
       "    }\n",
       "\n",
       "    .dataframe thead th {\n",
       "        text-align: right;\n",
       "    }\n",
       "</style>\n",
       "<table border=\"1\" class=\"dataframe\">\n",
       "  <thead>\n",
       "    <tr style=\"text-align: right;\">\n",
       "      <th></th>\n",
       "      <th>제품기호</th>\n",
       "      <th>HashTag</th>\n",
       "      <th>likes</th>\n",
       "      <th>num_review</th>\n",
       "      <th>num_photo</th>\n",
       "      <th>url</th>\n",
       "      <th>dates</th>\n",
       "      <th>year</th>\n",
       "      <th>month</th>\n",
       "    </tr>\n",
       "  </thead>\n",
       "  <tbody>\n",
       "    <tr>\n",
       "      <th>0</th>\n",
       "      <td>0번_제품</td>\n",
       "      <td>['#촉촉한수분감', '#촉촉한사용감', '#윤기커버', '#부드러운사용감', '#...</td>\n",
       "      <td>4203</td>\n",
       "      <td>50</td>\n",
       "      <td>20</td>\n",
       "      <td>https://cr.shopping.naver.com/adcr.nhn?x=hgdmo...</td>\n",
       "      <td>2022.01.</td>\n",
       "      <td>2022</td>\n",
       "      <td>01</td>\n",
       "    </tr>\n",
       "    <tr>\n",
       "      <th>1</th>\n",
       "      <td>100번_제품</td>\n",
       "      <td>['#보송보송한메이크업', '#부드러운피부', '#인생템', '#헤라블랙쿠션', '...</td>\n",
       "      <td>62</td>\n",
       "      <td>1</td>\n",
       "      <td>1</td>\n",
       "      <td>https://cr.shopping.naver.com/adcr.nhn?x=DToeQ...</td>\n",
       "      <td>2022.05.</td>\n",
       "      <td>2022</td>\n",
       "      <td>05</td>\n",
       "    </tr>\n",
       "  </tbody>\n",
       "</table>\n",
       "</div>"
      ],
      "text/plain": [
       "      제품기호                                            HashTag  likes  \\\n",
       "0    0번_제품  ['#촉촉한수분감', '#촉촉한사용감', '#윤기커버', '#부드러운사용감', '#...   4203   \n",
       "1  100번_제품  ['#보송보송한메이크업', '#부드러운피부', '#인생템', '#헤라블랙쿠션', '...     62   \n",
       "\n",
       "   num_review  num_photo                                                url  \\\n",
       "0          50         20  https://cr.shopping.naver.com/adcr.nhn?x=hgdmo...   \n",
       "1           1          1  https://cr.shopping.naver.com/adcr.nhn?x=DToeQ...   \n",
       "\n",
       "      dates  year month  \n",
       "0  2022.01.  2022    01  \n",
       "1  2022.05.  2022    05  "
      ]
     },
     "execution_count": 22,
     "metadata": {},
     "output_type": "execute_result"
    }
   ],
   "source": [
    "df_bsc.head(2)"
   ]
  },
  {
   "cell_type": "code",
   "execution_count": 23,
   "metadata": {
    "colab": {
     "base_uri": "https://localhost:8080/",
     "height": 54
    },
    "executionInfo": {
     "elapsed": 509,
     "status": "ok",
     "timestamp": 1663591650487,
     "user": {
      "displayName": "37살에시작하는파이썬",
      "userId": "02961954871505511659"
     },
     "user_tz": -540
    },
    "id": "wwqmodfknnpF",
    "outputId": "a8ac0294-7e5e-4010-cb11-d7f216c4b280"
   },
   "outputs": [
    {
     "data": {
      "text/plain": [
       "\"['#촉촉한수분감', '#촉촉한사용감', '#윤기커버', '#부드러운사용감', '#생기있는', '#윤기나는얼굴', '#지속력좋은파운데이션', '#30대여성', '#20대여성']\""
      ]
     },
     "execution_count": 23,
     "metadata": {},
     "output_type": "execute_result"
    }
   ],
   "source": [
    "df_bsc['HashTag'][0]"
   ]
  },
  {
   "cell_type": "code",
   "execution_count": 24,
   "metadata": {
    "colab": {
     "base_uri": "https://localhost:8080/"
    },
    "executionInfo": {
     "elapsed": 371,
     "status": "ok",
     "timestamp": 1663591661775,
     "user": {
      "displayName": "37살에시작하는파이썬",
      "userId": "02961954871505511659"
     },
     "user_tz": -540
    },
    "id": "LivAzgbQyiJ1",
    "outputId": "4f6ee304-227b-454f-a87f-03a0c679e698"
   },
   "outputs": [
    {
     "data": {
      "text/plain": [
       "str"
      ]
     },
     "execution_count": 24,
     "metadata": {},
     "output_type": "execute_result"
    }
   ],
   "source": [
    "type(df_bsc['HashTag'][0])"
   ]
  },
  {
   "cell_type": "code",
   "execution_count": 25,
   "metadata": {
    "colab": {
     "base_uri": "https://localhost:8080/"
    },
    "executionInfo": {
     "elapsed": 939,
     "status": "ok",
     "timestamp": 1663504914994,
     "user": {
      "displayName": "37살에시작하는파이썬",
      "userId": "02961954871505511659"
     },
     "user_tz": -540
    },
    "id": "qyrcGRfui-8L",
    "outputId": "23fec72a-80f4-4af2-ea79-67daa5444767"
   },
   "outputs": [
    {
     "data": {
      "text/plain": [
       "['#촉촉한수분감',\n",
       " '#촉촉한사용감',\n",
       " '#윤기커버',\n",
       " '#부드러운사용감',\n",
       " '#생기있는',\n",
       " '#윤기나는얼굴',\n",
       " '#지속력좋은파운데이션',\n",
       " '#30대여성',\n",
       " '#20대여성']"
      ]
     },
     "execution_count": 25,
     "metadata": {},
     "output_type": "execute_result"
    }
   ],
   "source": [
    "tags = literal_eval(df_bsc['HashTag'][0])\n",
    "tags"
   ]
  },
  {
   "cell_type": "code",
   "execution_count": 26,
   "metadata": {
    "id": "1CBVl0UboRuh"
   },
   "outputs": [],
   "source": [
    "df_bsc_tmp = []\n",
    "for i in range(df_bsc.shape[0]):\n",
    "    tags = literal_eval(df_bsc['HashTag'][i])\n",
    "    df_tmp = pd.DataFrame({\"제품기호\":df_bsc['제품기호'][i],\n",
    "                           \"dates\":df_bsc['dates'][i],\n",
    "                           \"HashTag\":tags,\n",
    "                           \"likes\":df_bsc['likes'][i],\n",
    "                           \"num_review\":df_bsc['num_review'][i],\n",
    "                           \"num_photo\":df_bsc['num_photo'][i],\n",
    "                           \"year\":df_bsc['year'][i],\n",
    "                           \"month\":df_bsc['month'][i]\n",
    "                           })\n",
    "    df_bsc_tmp.append(df_tmp)\n",
    "\n",
    "df_bsc_rslt = pd.concat(df_bsc_tmp)"
   ]
  },
  {
   "cell_type": "code",
   "execution_count": 27,
   "metadata": {
    "colab": {
     "base_uri": "https://localhost:8080/",
     "height": 143
    },
    "executionInfo": {
     "elapsed": 799,
     "status": "ok",
     "timestamp": 1663505256142,
     "user": {
      "displayName": "37살에시작하는파이썬",
      "userId": "02961954871505511659"
     },
     "user_tz": -540
    },
    "id": "ukjYCzGMo6jT",
    "outputId": "3e24e309-3e4a-471a-8bca-51e5c2a39c40"
   },
   "outputs": [
    {
     "data": {
      "text/html": [
       "<div>\n",
       "<style scoped>\n",
       "    .dataframe tbody tr th:only-of-type {\n",
       "        vertical-align: middle;\n",
       "    }\n",
       "\n",
       "    .dataframe tbody tr th {\n",
       "        vertical-align: top;\n",
       "    }\n",
       "\n",
       "    .dataframe thead th {\n",
       "        text-align: right;\n",
       "    }\n",
       "</style>\n",
       "<table border=\"1\" class=\"dataframe\">\n",
       "  <thead>\n",
       "    <tr style=\"text-align: right;\">\n",
       "      <th></th>\n",
       "      <th>제품기호</th>\n",
       "      <th>dates</th>\n",
       "      <th>HashTag</th>\n",
       "      <th>likes</th>\n",
       "      <th>num_review</th>\n",
       "      <th>num_photo</th>\n",
       "      <th>year</th>\n",
       "      <th>month</th>\n",
       "    </tr>\n",
       "  </thead>\n",
       "  <tbody>\n",
       "    <tr>\n",
       "      <th>0</th>\n",
       "      <td>0번_제품</td>\n",
       "      <td>2022.01.</td>\n",
       "      <td>#촉촉한수분감</td>\n",
       "      <td>4203</td>\n",
       "      <td>50</td>\n",
       "      <td>20</td>\n",
       "      <td>2022</td>\n",
       "      <td>01</td>\n",
       "    </tr>\n",
       "    <tr>\n",
       "      <th>1</th>\n",
       "      <td>0번_제품</td>\n",
       "      <td>2022.01.</td>\n",
       "      <td>#촉촉한사용감</td>\n",
       "      <td>4203</td>\n",
       "      <td>50</td>\n",
       "      <td>20</td>\n",
       "      <td>2022</td>\n",
       "      <td>01</td>\n",
       "    </tr>\n",
       "    <tr>\n",
       "      <th>2</th>\n",
       "      <td>0번_제품</td>\n",
       "      <td>2022.01.</td>\n",
       "      <td>#윤기커버</td>\n",
       "      <td>4203</td>\n",
       "      <td>50</td>\n",
       "      <td>20</td>\n",
       "      <td>2022</td>\n",
       "      <td>01</td>\n",
       "    </tr>\n",
       "  </tbody>\n",
       "</table>\n",
       "</div>"
      ],
      "text/plain": [
       "    제품기호     dates  HashTag  likes  num_review  num_photo  year month\n",
       "0  0번_제품  2022.01.  #촉촉한수분감   4203          50         20  2022    01\n",
       "1  0번_제품  2022.01.  #촉촉한사용감   4203          50         20  2022    01\n",
       "2  0번_제품  2022.01.    #윤기커버   4203          50         20  2022    01"
      ]
     },
     "execution_count": 27,
     "metadata": {},
     "output_type": "execute_result"
    }
   ],
   "source": [
    "df_bsc_rslt.head(3)"
   ]
  },
  {
   "cell_type": "code",
   "execution_count": 28,
   "metadata": {
    "id": "uBa_TfaEo6hF"
   },
   "outputs": [],
   "source": [
    "df_bsc_rslt.to_excel(basic_info_path + 'basic_info_result.xlsx')"
   ]
  }
 ],
 "metadata": {
  "colab": {
   "provenance": []
  },
  "kernelspec": {
   "display_name": "Python 3 (ipykernel)",
   "language": "python",
   "name": "python3"
  },
  "language_info": {
   "codemirror_mode": {
    "name": "ipython",
    "version": 3
   },
   "file_extension": ".py",
   "mimetype": "text/x-python",
   "name": "python",
   "nbconvert_exporter": "python",
   "pygments_lexer": "ipython3",
   "version": "3.11.5"
  }
 },
 "nbformat": 4,
 "nbformat_minor": 1
}
