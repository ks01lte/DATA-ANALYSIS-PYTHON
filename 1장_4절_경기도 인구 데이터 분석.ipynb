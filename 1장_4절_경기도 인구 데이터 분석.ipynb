{
 "cells": [
  {
   "cell_type": "code",
   "execution_count": null,
   "metadata": {},
   "outputs": [],
   "source": [
    "!pip install pandas==1.3.4"
   ]
  },
  {
   "cell_type": "code",
   "execution_count": null,
   "metadata": {},
   "outputs": [],
   "source": [
    "import pandas as pd\n",
    "import matplotlib\n",
    "import IPython\n"
   ]
  },
  {
   "cell_type": "code",
   "execution_count": null,
   "metadata": {
    "colab": {
     "base_uri": "https://localhost:8080/"
    },
    "executionInfo": {
     "elapsed": 2508,
     "status": "ok",
     "timestamp": 1698297694162,
     "user": {
      "displayName": "안윤경",
      "userId": "08326209251813559422"
     },
     "user_tz": -540
    },
    "id": "w1G_0rP20_YG",
    "outputId": "797e74bd-fc39-41dc-b8d9-a2bddbb79719"
   },
   "outputs": [],
   "source": [
    "import pandas as pd\n",
    "import numpy as np\n",
    "\n",
    "import matplotlib.pyplot as plt\n",
    "%matplotlib inline\n",
    "\n",
    "plt.rc('font', family='Malgun Gothic')\n",
    "plt.rcParams['axes.unicode_minus'] = False\n",
    "\n",
    "from IPython.display import set_matplotlib_formats\n",
    "set_matplotlib_formats('retina')\n"
   ]
  },
  {
   "cell_type": "code",
   "execution_count": null,
   "metadata": {
    "colab": {
     "base_uri": "https://localhost:8080/",
     "height": 246
    },
    "executionInfo": {
     "elapsed": 1825,
     "status": "ok",
     "timestamp": 1698297701593,
     "user": {
      "displayName": "안윤경",
      "userId": "08326209251813559422"
     },
     "user_tz": -540
    },
    "id": "pmRGvqbU2Lyq",
    "outputId": "373ed02d-c1cb-446f-aa3f-4943a90b2863"
   },
   "outputs": [],
   "source": [
    "# 경기도 인구 파일 불러오기\n",
    "\n",
    "filepath = './'\n",
    "population = pd.read_csv(filepath + \"/주민등록인구집계현황202409.csv\", encoding='euc-kr')\n",
    "population.head(2)"
   ]
  },
  {
   "cell_type": "code",
   "execution_count": null,
   "metadata": {
    "colab": {
     "base_uri": "https://localhost:8080/"
    },
    "executionInfo": {
     "elapsed": 15,
     "status": "ok",
     "timestamp": 1698297701593,
     "user": {
      "displayName": "안윤경",
      "userId": "08326209251813559422"
     },
     "user_tz": -540
    },
    "id": "PPbCg_FAIDbO",
    "outputId": "9993bc04-c5b5-43ce-a23d-6363cceead4c"
   },
   "outputs": [],
   "source": [
    "print(\"데이터 크기 :\", population.shape)"
   ]
  },
  {
   "cell_type": "code",
   "execution_count": null,
   "metadata": {
    "colab": {
     "base_uri": "https://localhost:8080/"
    },
    "executionInfo": {
     "elapsed": 14,
     "status": "ok",
     "timestamp": 1698297701593,
     "user": {
      "displayName": "안윤경",
      "userId": "08326209251813559422"
     },
     "user_tz": -540
    },
    "id": "fGIIRQnq19pR",
    "outputId": "6de1b931-45e0-4d95-ab8a-374d1db4f4f4"
   },
   "outputs": [],
   "source": [
    "#결측치 확인\n",
    "population.isnull().sum()"
   ]
  },
  {
   "cell_type": "code",
   "execution_count": 7,
   "metadata": {
    "id": "tbj5rK9G19mA"
   },
   "outputs": [],
   "source": [
    "# 경험상 젊은 여성들이 많은 곳이 활기 넘치는 곳이었습니다. 맘카페 등등\n",
    "popula_female = population.iloc[:,-12:]\n",
    "popula_info = population.iloc[:,:4]\n",
    "pop_female_info = pd.concat([popula_info, popula_female], axis=1)"
   ]
  },
  {
   "cell_type": "code",
   "execution_count": null,
   "metadata": {
    "colab": {
     "base_uri": "https://localhost:8080/",
     "height": 178
    },
    "executionInfo": {
     "elapsed": 13,
     "status": "ok",
     "timestamp": 1698297701594,
     "user": {
      "displayName": "안윤경",
      "userId": "08326209251813559422"
     },
     "user_tz": -540
    },
    "id": "Um2GOtw34hm-",
    "outputId": "0594cf12-d325-4b3d-bf47-8eca726f4fb6"
   },
   "outputs": [],
   "source": [
    "pop_female_info.head(3)"
   ]
  },
  {
   "cell_type": "code",
   "execution_count": null,
   "metadata": {
    "colab": {
     "base_uri": "https://localhost:8080/"
    },
    "executionInfo": {
     "elapsed": 12,
     "status": "ok",
     "timestamp": 1698297701594,
     "user": {
      "displayName": "안윤경",
      "userId": "08326209251813559422"
     },
     "user_tz": -540
    },
    "id": "B5Ic-J7H4hjx",
    "outputId": "5d094079-93a7-4a49-d75d-60e828f1712a"
   },
   "outputs": [],
   "source": [
    "# 2022년은 분석에서 제외\n",
    "pop_female_info['연도'].value_counts().sort_index()"
   ]
  },
  {
   "cell_type": "code",
   "execution_count": 10,
   "metadata": {
    "id": "x3hYBlaa5DCW"
   },
   "outputs": [],
   "source": [
    "pop_female_info = pop_female_info[pop_female_info['연도']!=2022]"
   ]
  },
  {
   "cell_type": "code",
   "execution_count": 11,
   "metadata": {
    "id": "hvFl9aRD5C6y"
   },
   "outputs": [],
   "source": [
    "pop_female_info.rename(columns={\"0~9세 (여)\":\"10대_미만\",\n",
    "                                \"10~19세 (여)\":\"10대\",\n",
    "                                \"20~29세 (여)\":\"20대\",\n",
    "                                \"30~39세 (여)\":\"30대\",\n",
    "                                \"40~49세 (여)\":\"40대\",\n",
    "                                \"50~59세 (여)\":\"50대\",\n",
    "                                \"60~69세 (여)\":\"60대\"\n",
    "                                }, inplace=True)"
   ]
  },
  {
   "cell_type": "code",
   "execution_count": 12,
   "metadata": {
    "id": "e8A3Zwbh4hgY"
   },
   "outputs": [],
   "source": [
    "pop_female_info['70대_이상']=pop_female_info[\"70~79세 (여)\"]+pop_female_info[\"80~89세 (여)\"]+\\\n",
    "pop_female_info[\"90~99세 (여)\"] + pop_female_info[\"100세 이상 (여)\"]"
   ]
  },
  {
   "cell_type": "code",
   "execution_count": null,
   "metadata": {
    "colab": {
     "base_uri": "https://localhost:8080/"
    },
    "executionInfo": {
     "elapsed": 10,
     "status": "ok",
     "timestamp": 1698297701594,
     "user": {
      "displayName": "안윤경",
      "userId": "08326209251813559422"
     },
     "user_tz": -540
    },
    "id": "MepIMirg7pYw",
    "outputId": "01649188-31a5-49de-8151-02ec33f49b9c"
   },
   "outputs": [],
   "source": [
    "pop_female_info.info()"
   ]
  },
  {
   "cell_type": "code",
   "execution_count": 14,
   "metadata": {
    "id": "rdurvWK14hdd"
   },
   "outputs": [],
   "source": [
    "df_female = pop_female_info.drop(['70~79세 (여)', '80~89세 (여)', '90~99세 (여)','100세 이상 (여)'], axis=1)"
   ]
  },
  {
   "cell_type": "code",
   "execution_count": null,
   "metadata": {
    "colab": {
     "base_uri": "https://localhost:8080/",
     "height": 112
    },
    "executionInfo": {
     "elapsed": 9,
     "status": "ok",
     "timestamp": 1698297701595,
     "user": {
      "displayName": "안윤경",
      "userId": "08326209251813559422"
     },
     "user_tz": -540
    },
    "id": "-0C2tEiD7OGF",
    "outputId": "61810224-e609-4eac-980c-d953de8bd31c"
   },
   "outputs": [],
   "source": [
    "df_female.head(2)"
   ]
  },
  {
   "cell_type": "code",
   "execution_count": null,
   "metadata": {
    "colab": {
     "base_uri": "https://localhost:8080/",
     "height": 206
    },
    "executionInfo": {
     "elapsed": 474,
     "status": "ok",
     "timestamp": 1698297702060,
     "user": {
      "displayName": "안윤경",
      "userId": "08326209251813559422"
     },
     "user_tz": -540
    },
    "id": "1j07vaTG19XI",
    "outputId": "df711862-ecca-4cde-f2ff-18ed0cde4df5"
   },
   "outputs": [],
   "source": [
    "\"\"\"행정구역이 동으로 분류되는 통계만 찾아보자\"\"\"\n",
    "df_female_dong=df_female[df_female['행정구역명'].str.contains('동')]\n",
    "df_female_dong.head()"
   ]
  },
  {
   "cell_type": "code",
   "execution_count": null,
   "metadata": {
    "colab": {
     "base_uri": "https://localhost:8080/"
    },
    "executionInfo": {
     "elapsed": 19,
     "status": "ok",
     "timestamp": 1698297702061,
     "user": {
      "displayName": "안윤경",
      "userId": "08326209251813559422"
     },
     "user_tz": -540
    },
    "id": "4LVA6HuI8KYI",
    "outputId": "e62d9f5d-2319-4ff5-cff3-02a45415decd"
   },
   "outputs": [],
   "source": [
    "df_female_dong.shape"
   ]
  },
  {
   "cell_type": "code",
   "execution_count": null,
   "metadata": {
    "colab": {
     "base_uri": "https://localhost:8080/",
     "height": 334
    },
    "executionInfo": {
     "elapsed": 17,
     "status": "ok",
     "timestamp": 1698297702061,
     "user": {
      "displayName": "안윤경",
      "userId": "08326209251813559422"
     },
     "user_tz": -540
    },
    "id": "hrk5w6cT8KVE",
    "outputId": "20dbe7b3-e2b8-46be-b8ed-de0f7ddad514"
   },
   "outputs": [],
   "source": [
    "# 40대 이하 비율 (%)과 50대 이상 비율(%) 구하기\n",
    "under40s = df_female_dong['10대_미만']+df_female_dong['10대']+df_female_dong['20대']+df_female_dong['30대']+df_female_dong['40대']\n",
    "over50s = df_female_dong['50대']+df_female_dong['60대']+df_female_dong['70대_이상']\n",
    "\n",
    "under40_percent = round((under40s / df_female_dong['총 인구수 (여)']) * 100, 2)\n",
    "over50_percent = round((over50s / df_female_dong['총 인구수 (여)']) * 100, 2)\n",
    "\n",
    "df_female_dong['40대_이하_여성비율(%)'] = under40_percent\n",
    "df_female_dong['50대_이상_여성비율(%)'] = over50_percent\n",
    "\n",
    "df_female_dong.head(2)"
   ]
  },
  {
   "cell_type": "code",
   "execution_count": null,
   "metadata": {
    "colab": {
     "base_uri": "https://localhost:8080/"
    },
    "executionInfo": {
     "elapsed": 15,
     "status": "ok",
     "timestamp": 1698297702061,
     "user": {
      "displayName": "안윤경",
      "userId": "08326209251813559422"
     },
     "user_tz": -540
    },
    "id": "wvCigPOu4H1k",
    "outputId": "9acc2705-bb75-48fd-b6f8-8910718d854b"
   },
   "outputs": [],
   "source": [
    "# split() 설명\n",
    "x = \"경기도 고양시 덕양구 고양동\"\n",
    "print(\"split() 적용 전 :\",x)\n",
    "print(\"split() 적용 후 :\",x.split())\n",
    "print(\"동 추출 결과 :\",x.split()[-1])\n",
    "print(\"시 추출 결과 :\",x.split()[1])\n"
   ]
  },
  {
   "cell_type": "code",
   "execution_count": null,
   "metadata": {
    "colab": {
     "base_uri": "https://localhost:8080/"
    },
    "executionInfo": {
     "elapsed": 14,
     "status": "ok",
     "timestamp": 1698297702061,
     "user": {
      "displayName": "안윤경",
      "userId": "08326209251813559422"
     },
     "user_tz": -540
    },
    "id": "zSjKgIoX_sCO",
    "outputId": "9d273c5e-9cc3-45f1-9d84-20c0b80de697"
   },
   "outputs": [],
   "source": [
    "df_female_dong['동'] = df_female_dong['행정구역명'].apply(lambda x:x.split()[-1])\n",
    "df_female_dong['시'] = df_female_dong['행정구역명'].apply(lambda x:x.split()[1])"
   ]
  },
  {
   "cell_type": "code",
   "execution_count": null,
   "metadata": {
    "colab": {
     "base_uri": "https://localhost:8080/",
     "height": 115
    },
    "executionInfo": {
     "elapsed": 13,
     "status": "ok",
     "timestamp": 1698297702061,
     "user": {
      "displayName": "안윤경",
      "userId": "08326209251813559422"
     },
     "user_tz": -540
    },
    "id": "7AWlvw9I2_6q",
    "outputId": "d72f43fc-a8f9-43cb-819e-0a44ffe8b76a"
   },
   "outputs": [],
   "source": [
    "df_female_dong.sample()"
   ]
  },
  {
   "cell_type": "code",
   "execution_count": null,
   "metadata": {
    "colab": {
     "base_uri": "https://localhost:8080/"
    },
    "executionInfo": {
     "elapsed": 12,
     "status": "ok",
     "timestamp": 1698297702061,
     "user": {
      "displayName": "안윤경",
      "userId": "08326209251813559422"
     },
     "user_tz": -540
    },
    "id": "AZhC8DDu-3c8",
    "outputId": "5a7761ed-0d3f-4213-bc86-9116b13d6248"
   },
   "outputs": [],
   "source": [
    "df_female_dong['시-동'] = df_female_dong['시']+ \" \" +df_female_dong['동']"
   ]
  },
  {
   "cell_type": "code",
   "execution_count": 23,
   "metadata": {
    "id": "nyIqH4fT8KMm"
   },
   "outputs": [],
   "source": [
    "df_result = df_female_dong[['연도','시','동','시-동','총 인구수 (여)','40대_이하_여성비율(%)', '50대_이상_여성비율(%)']]"
   ]
  },
  {
   "cell_type": "code",
   "execution_count": null,
   "metadata": {
    "colab": {
     "base_uri": "https://localhost:8080/"
    },
    "executionInfo": {
     "elapsed": 11,
     "status": "ok",
     "timestamp": 1698297702061,
     "user": {
      "displayName": "안윤경",
      "userId": "08326209251813559422"
     },
     "user_tz": -540
    },
    "id": "ld-dItZE-3Uf",
    "outputId": "55cca70c-d2e9-4ad8-8241-ca0c37f82299"
   },
   "outputs": [],
   "source": [
    "df_result.isnull().sum()"
   ]
  },
  {
   "cell_type": "code",
   "execution_count": null,
   "metadata": {
    "colab": {
     "base_uri": "https://localhost:8080/",
     "height": 1000
    },
    "executionInfo": {
     "elapsed": 10,
     "status": "ok",
     "timestamp": 1698297702061,
     "user": {
      "displayName": "안윤경",
      "userId": "08326209251813559422"
     },
     "user_tz": -540
    },
    "id": "jlibRYIG-3PH",
    "outputId": "ee939e9c-0f56-4123-b105-10a95cdded6f"
   },
   "outputs": [],
   "source": [
    "# 결측치를 눈으로 확인하는 단계\n",
    "df_result[df_result['40대_이하_여성비율(%)'].isnull()]"
   ]
  },
  {
   "cell_type": "code",
   "execution_count": null,
   "metadata": {
    "colab": {
     "base_uri": "https://localhost:8080/"
    },
    "executionInfo": {
     "elapsed": 412,
     "status": "ok",
     "timestamp": 1698297702464,
     "user": {
      "displayName": "안윤경",
      "userId": "08326209251813559422"
     },
     "user_tz": -540
    },
    "id": "S-_ydI2e8KJg",
    "outputId": "99c58179-fd8a-47fb-f8f5-2356779fe00f"
   },
   "outputs": [],
   "source": [
    "df_result.dropna(inplace=True)"
   ]
  },
  {
   "cell_type": "code",
   "execution_count": 27,
   "metadata": {
    "id": "DpM93LKb3eZs"
   },
   "outputs": [],
   "source": [
    "# 최근 5년 동안 대상 (2016 ~ 2021년)\n",
    "df_resent = df_result[df_result['연도']>2015]"
   ]
  },
  {
   "cell_type": "code",
   "execution_count": null,
   "metadata": {
    "colab": {
     "base_uri": "https://localhost:8080/",
     "height": 143
    },
    "executionInfo": {
     "elapsed": 13,
     "status": "ok",
     "timestamp": 1698297702464,
     "user": {
      "displayName": "안윤경",
      "userId": "08326209251813559422"
     },
     "user_tz": -540
    },
    "id": "Y6nvSCSF3ecY",
    "outputId": "a220fd7d-4116-4fc8-eb66-0e4221300691"
   },
   "outputs": [],
   "source": [
    "df_result.sample(3)"
   ]
  },
  {
   "cell_type": "code",
   "execution_count": null,
   "metadata": {
    "colab": {
     "base_uri": "https://localhost:8080/",
     "height": 81
    },
    "executionInfo": {
     "elapsed": 12,
     "status": "ok",
     "timestamp": 1698297702464,
     "user": {
      "displayName": "안윤경",
      "userId": "08326209251813559422"
     },
     "user_tz": -540
    },
    "id": "1ZFigGTs3eXM",
    "outputId": "4da4102b-c677-435e-f1f9-5b46c9d4acfb"
   },
   "outputs": [],
   "source": [
    "df_resent.sample()"
   ]
  },
  {
   "cell_type": "code",
   "execution_count": null,
   "metadata": {
    "colab": {
     "base_uri": "https://localhost:8080/"
    },
    "executionInfo": {
     "elapsed": 11,
     "status": "ok",
     "timestamp": 1698297702464,
     "user": {
      "displayName": "안윤경",
      "userId": "08326209251813559422"
     },
     "user_tz": -540
    },
    "id": "DkSjaP7o3eUV",
    "outputId": "169fdab8-1714-4a4a-d618-11973f02d7e3"
   },
   "outputs": [],
   "source": [
    "df_resent_group = df_resent.groupby(['시-동'])['40대_이하_여성비율(%)', \"50대_이상_여성비율(%)\"].mean()"
   ]
  },
  {
   "cell_type": "code",
   "execution_count": 31,
   "metadata": {
    "id": "luAftHeN3eRd"
   },
   "outputs": [],
   "source": [
    "df_resent_group.reset_index(inplace=True)"
   ]
  },
  {
   "cell_type": "code",
   "execution_count": null,
   "metadata": {
    "colab": {
     "base_uri": "https://localhost:8080/",
     "height": 676
    },
    "executionInfo": {
     "elapsed": 10,
     "status": "ok",
     "timestamp": 1698297702464,
     "user": {
      "displayName": "안윤경",
      "userId": "08326209251813559422"
     },
     "user_tz": -540
    },
    "id": "7-7ACF9B3eOa",
    "outputId": "0cfc5ae4-3cca-47ff-a85a-96a8f0a3ceba"
   },
   "outputs": [],
   "source": [
    "df_resent_group.sort_values(by='40대_이하_여성비율(%)', ascending=False)[:20]"
   ]
  },
  {
   "cell_type": "code",
   "execution_count": 33,
   "metadata": {
    "id": "rWwExZOn4qoJ"
   },
   "outputs": [],
   "source": [
    "df_top20 = df_resent_group.sort_values(by='40대_이하_여성비율(%)', ascending=False)[:20]"
   ]
  },
  {
   "cell_type": "code",
   "execution_count": 34,
   "metadata": {
    "id": "qgDNPv5b4qlQ"
   },
   "outputs": [],
   "source": [
    "x = df_top20['시-동']\n",
    "y = df_top20['40대_이하_여성비율(%)']"
   ]
  },
  {
   "cell_type": "code",
   "execution_count": null,
   "metadata": {
    "colab": {
     "base_uri": "https://localhost:8080/",
     "height": 565
    },
    "executionInfo": {
     "elapsed": 1248,
     "status": "ok",
     "timestamp": 1698297703704,
     "user": {
      "displayName": "안윤경",
      "userId": "08326209251813559422"
     },
     "user_tz": -540
    },
    "id": "WvhbVA-V-s61",
    "outputId": "33ac28a7-6a37-49bd-8d97-80eff2e449de"
   },
   "outputs": [],
   "source": [
    "plt.figure(figsize=(10, 5))\n",
    "plt.title(\"2016 ~ 2021년, 40대 이하 여성이\\n가장 많이 사는 지역 상위 20개 동\", fontsize=15)\n",
    "plt.bar(x, y, alpha=0.7, color='darkgreen')\n",
    "plt.xticks(size=12, rotation=45)\n",
    "plt.yticks(size=12)\n",
    "plt.ylim(70,90)\n",
    "plt.ylabel('%', size=20)\n",
    "plt.grid(True, alpha=0.2)"
   ]
  },
  {
   "cell_type": "code",
   "execution_count": null,
   "metadata": {
    "colab": {
     "base_uri": "https://localhost:8080/",
     "height": 748
    },
    "executionInfo": {
     "elapsed": 945,
     "status": "ok",
     "timestamp": 1698297704646,
     "user": {
      "displayName": "안윤경",
      "userId": "08326209251813559422"
     },
     "user_tz": -540
    },
    "id": "ETnNTzGE4qiW",
    "outputId": "a76205ee-ef09-494f-8290-427298cf08d9"
   },
   "outputs": [],
   "source": [
    "plt.figure(figsize=(8, 8))\n",
    "plt.title(\"2016 ~ 2021년, 40대 이하 여성이\\n가장 많이 사는 지역 상위 20개 동\", fontsize=20)\n",
    "plt.barh(x, y, alpha=0.7, color='darkgreen')\n",
    "plt.xticks(size=15)\n",
    "plt.yticks(size=15)\n",
    "plt.xlim(50,90)\n",
    "plt.grid(True, alpha=0.2)"
   ]
  }
 ],
 "metadata": {
  "colab": {
   "provenance": [
    {
     "file_id": "1sIHoOnDKqXPR-ZEY_xWHTtmN2Ttp1qAS",
     "timestamp": 1698297711524
    }
   ]
  },
  "kernelspec": {
   "display_name": "Python 3 (ipykernel)",
   "language": "python",
   "name": "python3"
  },
  "language_info": {
   "codemirror_mode": {
    "name": "ipython",
    "version": 3
   },
   "file_extension": ".py",
   "mimetype": "text/x-python",
   "name": "python",
   "nbconvert_exporter": "python",
   "pygments_lexer": "ipython3",
   "version": "3.9.12"
  }
 },
 "nbformat": 4,
 "nbformat_minor": 1
}
