{
 "cells": [
  {
   "cell_type": "code",
   "execution_count": null,
   "metadata": {},
   "outputs": [],
   "source": [
    "import csv\n",
    "f=open('seoul.csv') #f = open('seoul.csv','r',encoding='cp949')\n",
    "data=csv.reader(f) #data=csv.reader(f,delimiter=',')\n",
    "print(data)\n",
    "f.close()"
   ]
  },
  {
   "cell_type": "code",
   "execution_count": null,
   "metadata": {},
   "outputs": [],
   "source": [
    "import csv\n",
    "f=open('seoul.csv')\n",
    "data=csv.reader(f)\n",
    "for row in data :\n",
    "    print(row)\n",
    "f.close()"
   ]
  },
  {
   "cell_type": "code",
   "execution_count": null,
   "metadata": {},
   "outputs": [],
   "source": [
    "import csv\n",
    "f=open('seoul.csv')\n",
    "data=csv.reader(f)\n",
    "header = next(data) #header라는 변수에 헤더 데이터 행을 저장\n",
    "print(header)\n",
    "f.close()"
   ]
  },
  {
   "cell_type": "code",
   "execution_count": null,
   "metadata": {},
   "outputs": [],
   "source": [
    "import csv\n",
    "f=open('seoul.csv')\n",
    "data=csv.reader(f)\n",
    "header = next(data) #header라는 변수에 헤더 데이터 행을 저장\n",
    "for row in data :\n",
    "    print(row)\n",
    "f.close()"
   ]
  }
 ],
 "metadata": {
  "kernelspec": {
   "display_name": "Python 3",
   "language": "python",
   "name": "python3"
  },
  "language_info": {
   "codemirror_mode": {
    "name": "ipython",
    "version": 3
   },
   "file_extension": ".py",
   "mimetype": "text/x-python",
   "name": "python",
   "nbconvert_exporter": "python",
   "pygments_lexer": "ipython3",
   "version": "3.8.3"
  }
 },
 "nbformat": 4,
 "nbformat_minor": 4
}
