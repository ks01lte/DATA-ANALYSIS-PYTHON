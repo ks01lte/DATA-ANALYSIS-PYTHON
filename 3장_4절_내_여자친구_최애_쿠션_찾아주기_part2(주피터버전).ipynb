{
 "cells": [
  {
   "cell_type": "markdown",
   "metadata": {},
   "source": [
    "라이브러리 버전<br>\n",
    "판다스 버전 : 1.3.4"
   ]
  },
  {
   "cell_type": "code",
   "execution_count": 1,
   "metadata": {},
   "outputs": [],
   "source": [
    "# 라이브러리 버전이 맞지 않을 경우 아래 명령어의 주석을 제거한 후 실행해주세요.\n",
    "# 이전 예제들을 실행했다면 앞에서 이미 버전을 맞췄습니다.\n",
    "# !pip install pandas==1.3.4"
   ]
  },
  {
   "cell_type": "code",
   "execution_count": 2,
   "metadata": {},
   "outputs": [
    {
     "name": "stdout",
     "output_type": "stream",
     "text": [
      "판다스 버전 : 1.3.4\n"
     ]
    }
   ],
   "source": [
    "# 버전 확인용\n",
    "import pandas as pd\n",
    "\n",
    "print(\"판다스 버전 :\", pd.__version__)"
   ]
  },
  {
   "cell_type": "markdown",
   "metadata": {
    "id": "GzFwmwaxF2rH"
   },
   "source": [
    "필요한 라이브러리 불러오기"
   ]
  },
  {
   "cell_type": "code",
   "execution_count": 3,
   "metadata": {
    "colab": {
     "base_uri": "https://localhost:8080/"
    },
    "executionInfo": {
     "elapsed": 752,
     "status": "ok",
     "timestamp": 1698371944533,
     "user": {
      "displayName": "안윤경",
      "userId": "08326209251813559422"
     },
     "user_tz": -540
    },
    "id": "Kss2JPcMPWCK",
    "outputId": "a826246f-8233-417f-dedb-4fdd2bc7e0b2"
   },
   "outputs": [
    {
     "name": "stderr",
     "output_type": "stream",
     "text": [
      "C:\\Users\\it\\AppData\\Local\\Temp\\ipykernel_16220\\803475683.py:12: DeprecationWarning: `set_matplotlib_formats` is deprecated since IPython 7.23, directly use `matplotlib_inline.backend_inline.set_matplotlib_formats()`\n",
      "  set_matplotlib_formats('retina')\n"
     ]
    }
   ],
   "source": [
    "import pandas as pd\n",
    "import os\n",
    "import re\n",
    "from ast import literal_eval\n",
    "\n",
    "#시각화\n",
    "import matplotlib.pyplot as plt\n",
    "%matplotlib inline\n",
    "plt.rc('font',family='Malgun Gothic')\n",
    "\n",
    "from IPython.display import set_matplotlib_formats\n",
    "set_matplotlib_formats('retina')"
   ]
  },
  {
   "cell_type": "code",
   "execution_count": 4,
   "metadata": {
    "executionInfo": {
     "elapsed": 10298,
     "status": "ok",
     "timestamp": 1698371958277,
     "user": {
      "displayName": "안윤경",
      "userId": "08326209251813559422"
     },
     "user_tz": -540
    },
    "id": "EHIrjMwCrNXy"
   },
   "outputs": [],
   "source": [
    "basic_info_path = \"./data/makeup_basic_info/\"\n",
    "df_bsc_rslt = pd.read_excel(basic_info_path + 'basic_info_result.xlsx').iloc[:,1:]"
   ]
  },
  {
   "cell_type": "code",
   "execution_count": 5,
   "metadata": {},
   "outputs": [
    {
     "data": {
      "text/html": [
       "<div>\n",
       "<style scoped>\n",
       "    .dataframe tbody tr th:only-of-type {\n",
       "        vertical-align: middle;\n",
       "    }\n",
       "\n",
       "    .dataframe tbody tr th {\n",
       "        vertical-align: top;\n",
       "    }\n",
       "\n",
       "    .dataframe thead th {\n",
       "        text-align: right;\n",
       "    }\n",
       "</style>\n",
       "<table border=\"1\" class=\"dataframe\">\n",
       "  <thead>\n",
       "    <tr style=\"text-align: right;\">\n",
       "      <th></th>\n",
       "      <th>제품기호</th>\n",
       "      <th>dates</th>\n",
       "      <th>HashTag</th>\n",
       "      <th>likes</th>\n",
       "      <th>num_review</th>\n",
       "      <th>num_photo</th>\n",
       "      <th>year</th>\n",
       "      <th>month</th>\n",
       "    </tr>\n",
       "  </thead>\n",
       "  <tbody>\n",
       "    <tr>\n",
       "      <th>0</th>\n",
       "      <td>0번_제품</td>\n",
       "      <td>2022.01.</td>\n",
       "      <td>#촉촉한수분감</td>\n",
       "      <td>4203</td>\n",
       "      <td>50</td>\n",
       "      <td>20</td>\n",
       "      <td>2022</td>\n",
       "      <td>1</td>\n",
       "    </tr>\n",
       "    <tr>\n",
       "      <th>1</th>\n",
       "      <td>0번_제품</td>\n",
       "      <td>2022.01.</td>\n",
       "      <td>#촉촉한사용감</td>\n",
       "      <td>4203</td>\n",
       "      <td>50</td>\n",
       "      <td>20</td>\n",
       "      <td>2022</td>\n",
       "      <td>1</td>\n",
       "    </tr>\n",
       "  </tbody>\n",
       "</table>\n",
       "</div>"
      ],
      "text/plain": [
       "    제품기호     dates  HashTag  likes  num_review  num_photo  year  month\n",
       "0  0번_제품  2022.01.  #촉촉한수분감   4203          50         20  2022      1\n",
       "1  0번_제품  2022.01.  #촉촉한사용감   4203          50         20  2022      1"
      ]
     },
     "execution_count": 5,
     "metadata": {},
     "output_type": "execute_result"
    }
   ],
   "source": [
    "df_bsc_rslt.head(2)"
   ]
  },
  {
   "cell_type": "code",
   "execution_count": 6,
   "metadata": {
    "colab": {
     "base_uri": "https://localhost:8080/",
     "height": 112
    },
    "executionInfo": {
     "elapsed": 315,
     "status": "ok",
     "timestamp": 1698371966666,
     "user": {
      "displayName": "안윤경",
      "userId": "08326209251813559422"
     },
     "user_tz": -540
    },
    "id": "7aXnx73CshuS",
    "outputId": "15ea68d5-7fee-4980-8cbb-16f6c7d67301"
   },
   "outputs": [
    {
     "data": {
      "text/html": [
       "<div>\n",
       "<style scoped>\n",
       "    .dataframe tbody tr th:only-of-type {\n",
       "        vertical-align: middle;\n",
       "    }\n",
       "\n",
       "    .dataframe tbody tr th {\n",
       "        vertical-align: top;\n",
       "    }\n",
       "\n",
       "    .dataframe thead th {\n",
       "        text-align: right;\n",
       "    }\n",
       "</style>\n",
       "<table border=\"1\" class=\"dataframe\">\n",
       "  <thead>\n",
       "    <tr style=\"text-align: right;\">\n",
       "      <th></th>\n",
       "      <th>제품기호</th>\n",
       "      <th>dates</th>\n",
       "      <th>HashTag</th>\n",
       "      <th>likes</th>\n",
       "      <th>num_review</th>\n",
       "      <th>num_photo</th>\n",
       "      <th>year</th>\n",
       "      <th>month</th>\n",
       "    </tr>\n",
       "  </thead>\n",
       "  <tbody>\n",
       "    <tr>\n",
       "      <th>8397</th>\n",
       "      <td>9번_제품</td>\n",
       "      <td>2020.10.</td>\n",
       "      <td>#글로시한느낌</td>\n",
       "      <td>13</td>\n",
       "      <td>1</td>\n",
       "      <td>1</td>\n",
       "      <td>2020</td>\n",
       "      <td>10</td>\n",
       "    </tr>\n",
       "    <tr>\n",
       "      <th>8398</th>\n",
       "      <td>9번_제품</td>\n",
       "      <td>2020.10.</td>\n",
       "      <td>#출근부터밤약속까지</td>\n",
       "      <td>13</td>\n",
       "      <td>1</td>\n",
       "      <td>1</td>\n",
       "      <td>2020</td>\n",
       "      <td>10</td>\n",
       "    </tr>\n",
       "  </tbody>\n",
       "</table>\n",
       "</div>"
      ],
      "text/plain": [
       "       제품기호     dates     HashTag  likes  num_review  num_photo  year  month\n",
       "8397  9번_제품  2020.10.     #글로시한느낌     13           1          1  2020     10\n",
       "8398  9번_제품  2020.10.  #출근부터밤약속까지     13           1          1  2020     10"
      ]
     },
     "execution_count": 6,
     "metadata": {},
     "output_type": "execute_result"
    }
   ],
   "source": [
    "df_bsc_rslt.tail(2)"
   ]
  },
  {
   "cell_type": "markdown",
   "metadata": {
    "id": "s-zpKsW9F9fm"
   },
   "source": [
    "Rank() 함수로 해시태그에 가중치 더해주기"
   ]
  },
  {
   "cell_type": "code",
   "execution_count": 7,
   "metadata": {
    "colab": {
     "base_uri": "https://localhost:8080/",
     "height": 112
    },
    "executionInfo": {
     "elapsed": 311,
     "status": "ok",
     "timestamp": 1698371968187,
     "user": {
      "displayName": "안윤경",
      "userId": "08326209251813559422"
     },
     "user_tz": -540
    },
    "id": "RaJJlSPMsTHT",
    "outputId": "8772d4e5-bc77-4094-de29-b9a26fc98f21"
   },
   "outputs": [
    {
     "data": {
      "text/html": [
       "<div>\n",
       "<style scoped>\n",
       "    .dataframe tbody tr th:only-of-type {\n",
       "        vertical-align: middle;\n",
       "    }\n",
       "\n",
       "    .dataframe tbody tr th {\n",
       "        vertical-align: top;\n",
       "    }\n",
       "\n",
       "    .dataframe thead th {\n",
       "        text-align: right;\n",
       "    }\n",
       "</style>\n",
       "<table border=\"1\" class=\"dataframe\">\n",
       "  <thead>\n",
       "    <tr style=\"text-align: right;\">\n",
       "      <th></th>\n",
       "      <th>제품기호</th>\n",
       "      <th>dates</th>\n",
       "      <th>HashTag</th>\n",
       "      <th>likes</th>\n",
       "      <th>num_review</th>\n",
       "      <th>num_photo</th>\n",
       "      <th>year</th>\n",
       "      <th>month</th>\n",
       "      <th>rank</th>\n",
       "    </tr>\n",
       "  </thead>\n",
       "  <tbody>\n",
       "    <tr>\n",
       "      <th>8</th>\n",
       "      <td>0번_제품</td>\n",
       "      <td>2022.01.</td>\n",
       "      <td>#20대여성</td>\n",
       "      <td>4203</td>\n",
       "      <td>50</td>\n",
       "      <td>20</td>\n",
       "      <td>2022</td>\n",
       "      <td>1</td>\n",
       "      <td>51.0</td>\n",
       "    </tr>\n",
       "    <tr>\n",
       "      <th>6339</th>\n",
       "      <td>76번_제품</td>\n",
       "      <td>2021.12.</td>\n",
       "      <td>#윤기있는</td>\n",
       "      <td>316</td>\n",
       "      <td>37</td>\n",
       "      <td>13</td>\n",
       "      <td>2021</td>\n",
       "      <td>12</td>\n",
       "      <td>38.0</td>\n",
       "    </tr>\n",
       "  </tbody>\n",
       "</table>\n",
       "</div>"
      ],
      "text/plain": [
       "        제품기호     dates HashTag  likes  num_review  num_photo  year  month  \\\n",
       "8      0번_제품  2022.01.  #20대여성   4203          50         20  2022      1   \n",
       "6339  76번_제품  2021.12.   #윤기있는    316          37         13  2021     12   \n",
       "\n",
       "      rank  \n",
       "8     51.0  \n",
       "6339  38.0  "
      ]
     },
     "execution_count": 7,
     "metadata": {},
     "output_type": "execute_result"
    }
   ],
   "source": [
    "likes_rank = df_bsc_rslt['likes'].rank(method='dense')\n",
    "review_rank = df_bsc_rslt['num_review'].rank(method='dense')\n",
    "photo_rank = df_bsc_rslt['num_photo'].rank(method='dense')\n",
    "\n",
    "rank = likes_rank + review_rank + photo_rank\n",
    "df_bsc_rslt['rank'] = review_rank\n",
    "\n",
    "df_bsc_rslt.sample(2)"
   ]
  },
  {
   "cell_type": "code",
   "execution_count": 8,
   "metadata": {
    "colab": {
     "base_uri": "https://localhost:8080/",
     "height": 112
    },
    "executionInfo": {
     "elapsed": 316,
     "status": "ok",
     "timestamp": 1698371970005,
     "user": {
      "displayName": "안윤경",
      "userId": "08326209251813559422"
     },
     "user_tz": -540
    },
    "id": "ETvQUAk3sTBP",
    "outputId": "654a68a1-7f39-4af3-b340-0f04eca75f85"
   },
   "outputs": [
    {
     "data": {
      "text/html": [
       "<div>\n",
       "<style scoped>\n",
       "    .dataframe tbody tr th:only-of-type {\n",
       "        vertical-align: middle;\n",
       "    }\n",
       "\n",
       "    .dataframe tbody tr th {\n",
       "        vertical-align: top;\n",
       "    }\n",
       "\n",
       "    .dataframe thead th {\n",
       "        text-align: right;\n",
       "    }\n",
       "</style>\n",
       "<table border=\"1\" class=\"dataframe\">\n",
       "  <thead>\n",
       "    <tr style=\"text-align: right;\">\n",
       "      <th></th>\n",
       "      <th>제품기호</th>\n",
       "      <th>dates</th>\n",
       "      <th>HashTag</th>\n",
       "      <th>likes</th>\n",
       "      <th>num_review</th>\n",
       "      <th>num_photo</th>\n",
       "      <th>year</th>\n",
       "      <th>month</th>\n",
       "      <th>rank</th>\n",
       "      <th>weight</th>\n",
       "    </tr>\n",
       "  </thead>\n",
       "  <tbody>\n",
       "    <tr>\n",
       "      <th>3638</th>\n",
       "      <td>479번_제품</td>\n",
       "      <td>2020.11.</td>\n",
       "      <td>#보송보송한쿠션</td>\n",
       "      <td>164</td>\n",
       "      <td>2</td>\n",
       "      <td>2</td>\n",
       "      <td>2020</td>\n",
       "      <td>11</td>\n",
       "      <td>3.0</td>\n",
       "      <td>1</td>\n",
       "    </tr>\n",
       "    <tr>\n",
       "      <th>8070</th>\n",
       "      <td>939번_제품</td>\n",
       "      <td>2022.07.</td>\n",
       "      <td>#건강한피부</td>\n",
       "      <td>42</td>\n",
       "      <td>0</td>\n",
       "      <td>0</td>\n",
       "      <td>2022</td>\n",
       "      <td>7</td>\n",
       "      <td>1.0</td>\n",
       "      <td>1</td>\n",
       "    </tr>\n",
       "  </tbody>\n",
       "</table>\n",
       "</div>"
      ],
      "text/plain": [
       "         제품기호     dates   HashTag  likes  num_review  num_photo  year  month  \\\n",
       "3638  479번_제품  2020.11.  #보송보송한쿠션    164           2          2  2020     11   \n",
       "8070  939번_제품  2022.07.    #건강한피부     42           0          0  2022      7   \n",
       "\n",
       "      rank weight  \n",
       "3638   3.0      1  \n",
       "8070   1.0      1  "
      ]
     },
     "execution_count": 8,
     "metadata": {},
     "output_type": "execute_result"
    }
   ],
   "source": [
    "import numpy as np\n",
    "\n",
    "df_bsc_rslt['weight']=pd.cut(df_bsc_rslt['rank'], 10, labels=np.arange(1, 11))\n",
    "df_bsc_rslt.sample(2)"
   ]
  },
  {
   "cell_type": "code",
   "execution_count": 9,
   "metadata": {
    "executionInfo": {
     "elapsed": 332,
     "status": "ok",
     "timestamp": 1698371972334,
     "user": {
      "displayName": "안윤경",
      "userId": "08326209251813559422"
     },
     "user_tz": -540
    },
    "id": "1hYACYtLx9UR"
   },
   "outputs": [],
   "source": [
    "df_bsc_rslt['weight'] = df_bsc_rslt['weight'].astype('int')\n",
    "\n",
    "df_tag_2019  = df_bsc_rslt[df_bsc_rslt['year']==2019]\n",
    "df_tag_2020  = df_bsc_rslt[df_bsc_rslt['year']==2020]\n",
    "df_tag_2021  = df_bsc_rslt[df_bsc_rslt['year']==2021]"
   ]
  },
  {
   "cell_type": "code",
   "execution_count": 10,
   "metadata": {
    "executionInfo": {
     "elapsed": 317,
     "status": "ok",
     "timestamp": 1698371974433,
     "user": {
      "displayName": "안윤경",
      "userId": "08326209251813559422"
     },
     "user_tz": -540
    },
    "id": "A45E-K5Hx9LJ"
   },
   "outputs": [],
   "source": [
    "tag_2019 = list(df_tag_2019['HashTag']*df_tag_2019['weight'])\n",
    "tag_2019 = \"\".join(tag_2019).split('#')\n",
    "\n",
    "tag_2020 = list(df_tag_2020['HashTag']*df_tag_2020['weight'])\n",
    "tag_2020 = \"\".join(tag_2020).split('#')\n",
    "\n",
    "tag_2021 = list(df_tag_2021['HashTag']*df_tag_2021['weight'])\n",
    "tag_2021 = \"\".join(tag_2021).split('#')"
   ]
  },
  {
   "cell_type": "code",
   "execution_count": 11,
   "metadata": {
    "colab": {
     "base_uri": "https://localhost:8080/"
    },
    "executionInfo": {
     "elapsed": 302,
     "status": "ok",
     "timestamp": 1698371976586,
     "user": {
      "displayName": "안윤경",
      "userId": "08326209251813559422"
     },
     "user_tz": -540
    },
    "id": "w-D0cNa2ziFH",
    "outputId": "6454ce66-dda5-4cf0-d9bb-8db0cc0239b7"
   },
   "outputs": [
    {
     "data": {
      "text/plain": [
       "['앰플커버', '앰플커버', '앰플커버']"
      ]
     },
     "execution_count": 11,
     "metadata": {},
     "output_type": "execute_result"
    }
   ],
   "source": [
    "tag_2019[-3:]"
   ]
  },
  {
   "cell_type": "markdown",
   "metadata": {
    "id": "PJySZaN6GGnb"
   },
   "source": [
    "해시태그 빈도 및 기울기 구하기"
   ]
  },
  {
   "cell_type": "code",
   "execution_count": 12,
   "metadata": {
    "executionInfo": {
     "elapsed": 323,
     "status": "ok",
     "timestamp": 1698371978986,
     "user": {
      "displayName": "안윤경",
      "userId": "08326209251813559422"
     },
     "user_tz": -540
    },
    "id": "Vkcgg1D0yzfR"
   },
   "outputs": [],
   "source": [
    "from collections import Counter"
   ]
  },
  {
   "cell_type": "code",
   "execution_count": 13,
   "metadata": {
    "executionInfo": {
     "elapsed": 2,
     "status": "ok",
     "timestamp": 1698371980137,
     "user": {
      "displayName": "안윤경",
      "userId": "08326209251813559422"
     },
     "user_tz": -540
    },
    "id": "iCBOMVlPxcYM"
   },
   "outputs": [],
   "source": [
    "df_tag_2019 = pd.DataFrame(Counter(tag_2019).most_common(), columns=['해시태그','빈도_19년'])\n",
    "df_tag_2020 = pd.DataFrame(Counter(tag_2020).most_common(), columns=['해시태그','빈도_20년'])\n",
    "df_tag_2021 = pd.DataFrame(Counter(tag_2021).most_common(), columns=['해시태그','빈도_21년'])"
   ]
  },
  {
   "cell_type": "code",
   "execution_count": 14,
   "metadata": {
    "colab": {
     "base_uri": "https://localhost:8080/",
     "height": 676
    },
    "executionInfo": {
     "elapsed": 331,
     "status": "ok",
     "timestamp": 1698371982392,
     "user": {
      "displayName": "안윤경",
      "userId": "08326209251813559422"
     },
     "user_tz": -540
    },
    "id": "RfmnS-RD5ZQ9",
    "outputId": "8091b297-ec98-4b38-b0d9-3fb2ebc657e1"
   },
   "outputs": [
    {
     "data": {
      "text/html": [
       "<div>\n",
       "<style scoped>\n",
       "    .dataframe tbody tr th:only-of-type {\n",
       "        vertical-align: middle;\n",
       "    }\n",
       "\n",
       "    .dataframe tbody tr th {\n",
       "        vertical-align: top;\n",
       "    }\n",
       "\n",
       "    .dataframe thead th {\n",
       "        text-align: right;\n",
       "    }\n",
       "</style>\n",
       "<table border=\"1\" class=\"dataframe\">\n",
       "  <thead>\n",
       "    <tr style=\"text-align: right;\">\n",
       "      <th></th>\n",
       "      <th>해시태그</th>\n",
       "      <th>빈도(%)_19년</th>\n",
       "      <th>빈도(%)_20년</th>\n",
       "      <th>빈도(%)_21년</th>\n",
       "    </tr>\n",
       "  </thead>\n",
       "  <tbody>\n",
       "    <tr>\n",
       "      <th>6</th>\n",
       "      <td>지속력좋은</td>\n",
       "      <td>1.67</td>\n",
       "      <td>1.99</td>\n",
       "      <td>2.85</td>\n",
       "    </tr>\n",
       "    <tr>\n",
       "      <th>1</th>\n",
       "      <td>촉촉한쿠션</td>\n",
       "      <td>2.91</td>\n",
       "      <td>2.17</td>\n",
       "      <td>2.21</td>\n",
       "    </tr>\n",
       "    <tr>\n",
       "      <th>11</th>\n",
       "      <td>인생템</td>\n",
       "      <td>1.30</td>\n",
       "      <td>2.22</td>\n",
       "      <td>1.78</td>\n",
       "    </tr>\n",
       "    <tr>\n",
       "      <th>13</th>\n",
       "      <td>쿠션파운데이션</td>\n",
       "      <td>1.30</td>\n",
       "      <td>1.11</td>\n",
       "      <td>1.52</td>\n",
       "    </tr>\n",
       "    <tr>\n",
       "      <th>15</th>\n",
       "      <td>보송보송한메이크업</td>\n",
       "      <td>1.24</td>\n",
       "      <td>0.83</td>\n",
       "      <td>1.44</td>\n",
       "    </tr>\n",
       "    <tr>\n",
       "      <th>9</th>\n",
       "      <td>파운데이션인생템</td>\n",
       "      <td>1.36</td>\n",
       "      <td>1.67</td>\n",
       "      <td>1.40</td>\n",
       "    </tr>\n",
       "    <tr>\n",
       "      <th>0</th>\n",
       "      <td>커버력좋은쿠션</td>\n",
       "      <td>2.97</td>\n",
       "      <td>0.66</td>\n",
       "      <td>1.18</td>\n",
       "    </tr>\n",
       "    <tr>\n",
       "      <th>8</th>\n",
       "      <td>보송보송한쿠션</td>\n",
       "      <td>1.42</td>\n",
       "      <td>1.16</td>\n",
       "      <td>1.10</td>\n",
       "    </tr>\n",
       "    <tr>\n",
       "      <th>4</th>\n",
       "      <td>윤기커버</td>\n",
       "      <td>1.92</td>\n",
       "      <td>2.35</td>\n",
       "      <td>1.07</td>\n",
       "    </tr>\n",
       "    <tr>\n",
       "      <th>10</th>\n",
       "      <td>화사한파운데이션</td>\n",
       "      <td>1.30</td>\n",
       "      <td>0.33</td>\n",
       "      <td>1.00</td>\n",
       "    </tr>\n",
       "    <tr>\n",
       "      <th>17</th>\n",
       "      <td>자연스러운피부톤</td>\n",
       "      <td>1.24</td>\n",
       "      <td>1.04</td>\n",
       "      <td>0.97</td>\n",
       "    </tr>\n",
       "    <tr>\n",
       "      <th>5</th>\n",
       "      <td>화사한피부</td>\n",
       "      <td>1.73</td>\n",
       "      <td>0.53</td>\n",
       "      <td>0.93</td>\n",
       "    </tr>\n",
       "    <tr>\n",
       "      <th>12</th>\n",
       "      <td>지속력좋은쿠션</td>\n",
       "      <td>1.30</td>\n",
       "      <td>0.58</td>\n",
       "      <td>0.92</td>\n",
       "    </tr>\n",
       "    <tr>\n",
       "      <th>18</th>\n",
       "      <td>쿠션팩트</td>\n",
       "      <td>1.18</td>\n",
       "      <td>1.09</td>\n",
       "      <td>0.92</td>\n",
       "    </tr>\n",
       "    <tr>\n",
       "      <th>3</th>\n",
       "      <td>광채가빛나는</td>\n",
       "      <td>2.16</td>\n",
       "      <td>1.77</td>\n",
       "      <td>0.68</td>\n",
       "    </tr>\n",
       "    <tr>\n",
       "      <th>16</th>\n",
       "      <td>투명하게빛나는피부</td>\n",
       "      <td>1.24</td>\n",
       "      <td>1.34</td>\n",
       "      <td>0.64</td>\n",
       "    </tr>\n",
       "    <tr>\n",
       "      <th>7</th>\n",
       "      <td>30대여성</td>\n",
       "      <td>1.48</td>\n",
       "      <td>0.68</td>\n",
       "      <td>0.56</td>\n",
       "    </tr>\n",
       "    <tr>\n",
       "      <th>19</th>\n",
       "      <td>촉촉한에어쿠션</td>\n",
       "      <td>1.18</td>\n",
       "      <td>0.83</td>\n",
       "      <td>0.54</td>\n",
       "    </tr>\n",
       "    <tr>\n",
       "      <th>2</th>\n",
       "      <td>꿀피부</td>\n",
       "      <td>2.41</td>\n",
       "      <td>1.44</td>\n",
       "      <td>0.47</td>\n",
       "    </tr>\n",
       "    <tr>\n",
       "      <th>14</th>\n",
       "      <td>20대여성</td>\n",
       "      <td>1.30</td>\n",
       "      <td>0.98</td>\n",
       "      <td>0.34</td>\n",
       "    </tr>\n",
       "  </tbody>\n",
       "</table>\n",
       "</div>"
      ],
      "text/plain": [
       "         해시태그  빈도(%)_19년  빈도(%)_20년  빈도(%)_21년\n",
       "6       지속력좋은       1.67       1.99       2.85\n",
       "1       촉촉한쿠션       2.91       2.17       2.21\n",
       "11        인생템       1.30       2.22       1.78\n",
       "13    쿠션파운데이션       1.30       1.11       1.52\n",
       "15  보송보송한메이크업       1.24       0.83       1.44\n",
       "9    파운데이션인생템       1.36       1.67       1.40\n",
       "0     커버력좋은쿠션       2.97       0.66       1.18\n",
       "8     보송보송한쿠션       1.42       1.16       1.10\n",
       "4        윤기커버       1.92       2.35       1.07\n",
       "10   화사한파운데이션       1.30       0.33       1.00\n",
       "17   자연스러운피부톤       1.24       1.04       0.97\n",
       "5       화사한피부       1.73       0.53       0.93\n",
       "12    지속력좋은쿠션       1.30       0.58       0.92\n",
       "18       쿠션팩트       1.18       1.09       0.92\n",
       "3      광채가빛나는       2.16       1.77       0.68\n",
       "16  투명하게빛나는피부       1.24       1.34       0.64\n",
       "7       30대여성       1.48       0.68       0.56\n",
       "19    촉촉한에어쿠션       1.18       0.83       0.54\n",
       "2         꿀피부       2.41       1.44       0.47\n",
       "14      20대여성       1.30       0.98       0.34"
      ]
     },
     "execution_count": 14,
     "metadata": {},
     "output_type": "execute_result"
    }
   ],
   "source": [
    "prcnt_19y = (df_tag_2019['빈도_19년']/df_tag_2019['빈도_19년'].sum())*100\n",
    "prcnt_20y = (df_tag_2020['빈도_20년']/df_tag_2020['빈도_20년'].sum())*100\n",
    "prcnt_21y = (df_tag_2021['빈도_21년']/df_tag_2021['빈도_21년'].sum())*100\n",
    "df_tag_2019['빈도(%)_19년']=np.round(prcnt_19y, 2)\n",
    "df_tag_2020['빈도(%)_20년']=np.round(prcnt_20y, 2)\n",
    "df_tag_2021['빈도(%)_21년']=np.round(prcnt_21y, 2)\n",
    "df_tag_1920 = pd.merge(df_tag_2019, df_tag_2020, on='해시태그', how='outer')\n",
    "df_tag_1921 = pd.merge(df_tag_1920, df_tag_2021, on='해시태그', how='outer')\n",
    "\n",
    "df_tag_1921[['해시태그','빈도(%)_19년', '빈도(%)_20년', '빈도(%)_21년']][:20].sort_values(by='빈도(%)_21년', ascending=False)"
   ]
  },
  {
   "cell_type": "code",
   "execution_count": 15,
   "metadata": {
    "executionInfo": {
     "elapsed": 324,
     "status": "ok",
     "timestamp": 1698371985537,
     "user": {
      "displayName": "안윤경",
      "userId": "08326209251813559422"
     },
     "user_tz": -540
    },
    "id": "AxaZ7Fqn-A3p"
   },
   "outputs": [],
   "source": [
    "slopes =[]\n",
    "for i, j, k in zip(df_tag_1921['빈도(%)_19년'],df_tag_1921['빈도(%)_20년'],df_tag_1921['빈도(%)_21년']):\n",
    "    try:\n",
    "        slope = np.polyfit([i,j,k], [19,20,21], 1)\n",
    "        slopes.append(slope[0])\n",
    "    except:\n",
    "        slopes.append(0)\n",
    "\n",
    "\n",
    "df_tag_1921['기울기'] = slopes"
   ]
  },
  {
   "cell_type": "code",
   "execution_count": 16,
   "metadata": {
    "executionInfo": {
     "elapsed": 2,
     "status": "ok",
     "timestamp": 1698371987099,
     "user": {
      "displayName": "안윤경",
      "userId": "08326209251813559422"
     },
     "user_tz": -540
    },
    "id": "0ibNYXEw-A1S"
   },
   "outputs": [],
   "source": [
    "df_tag_1921['빈도합계'] = df_tag_1921['빈도_19년'] + df_tag_1921['빈도_20년'] + df_tag_1921['빈도_21년']"
   ]
  },
  {
   "cell_type": "code",
   "execution_count": 17,
   "metadata": {
    "colab": {
     "base_uri": "https://localhost:8080/",
     "height": 833
    },
    "executionInfo": {
     "elapsed": 324,
     "status": "ok",
     "timestamp": 1698371989041,
     "user": {
      "displayName": "안윤경",
      "userId": "08326209251813559422"
     },
     "user_tz": -540
    },
    "id": "2GlIHf0gBJ9w",
    "outputId": "7ce63b19-1137-4bab-a554-b8fcea92dfd5"
   },
   "outputs": [
    {
     "data": {
      "text/html": [
       "<div>\n",
       "<style scoped>\n",
       "    .dataframe tbody tr th:only-of-type {\n",
       "        vertical-align: middle;\n",
       "    }\n",
       "\n",
       "    .dataframe tbody tr th {\n",
       "        vertical-align: top;\n",
       "    }\n",
       "\n",
       "    .dataframe thead th {\n",
       "        text-align: right;\n",
       "    }\n",
       "</style>\n",
       "<table border=\"1\" class=\"dataframe\">\n",
       "  <thead>\n",
       "    <tr style=\"text-align: right;\">\n",
       "      <th></th>\n",
       "      <th>해시태그</th>\n",
       "      <th>빈도_19년</th>\n",
       "      <th>빈도(%)_19년</th>\n",
       "      <th>빈도_20년</th>\n",
       "      <th>빈도(%)_20년</th>\n",
       "      <th>빈도_21년</th>\n",
       "      <th>빈도(%)_21년</th>\n",
       "      <th>기울기</th>\n",
       "      <th>빈도합계</th>\n",
       "    </tr>\n",
       "  </thead>\n",
       "  <tbody>\n",
       "    <tr>\n",
       "      <th>114</th>\n",
       "      <td>광채피부</td>\n",
       "      <td>5.0</td>\n",
       "      <td>0.31</td>\n",
       "      <td>18.0</td>\n",
       "      <td>0.45</td>\n",
       "      <td>44.0</td>\n",
       "      <td>0.47</td>\n",
       "      <td>1.052632e+01</td>\n",
       "      <td>67.0</td>\n",
       "    </tr>\n",
       "    <tr>\n",
       "      <th>105</th>\n",
       "      <td>자연스러운</td>\n",
       "      <td>6.0</td>\n",
       "      <td>0.37</td>\n",
       "      <td>12.0</td>\n",
       "      <td>0.30</td>\n",
       "      <td>47.0</td>\n",
       "      <td>0.51</td>\n",
       "      <td>6.122449e+00</td>\n",
       "      <td>65.0</td>\n",
       "    </tr>\n",
       "    <tr>\n",
       "      <th>131</th>\n",
       "      <td>촉촉한선쿠션</td>\n",
       "      <td>3.0</td>\n",
       "      <td>0.19</td>\n",
       "      <td>13.0</td>\n",
       "      <td>0.33</td>\n",
       "      <td>48.0</td>\n",
       "      <td>0.52</td>\n",
       "      <td>6.014581e+00</td>\n",
       "      <td>64.0</td>\n",
       "    </tr>\n",
       "    <tr>\n",
       "      <th>55</th>\n",
       "      <td>보송보송한</td>\n",
       "      <td>9.0</td>\n",
       "      <td>0.56</td>\n",
       "      <td>27.0</td>\n",
       "      <td>0.68</td>\n",
       "      <td>87.0</td>\n",
       "      <td>0.94</td>\n",
       "      <td>5.035336e+00</td>\n",
       "      <td>123.0</td>\n",
       "    </tr>\n",
       "    <tr>\n",
       "      <th>51</th>\n",
       "      <td>파운데이션쿠션</td>\n",
       "      <td>10.0</td>\n",
       "      <td>0.62</td>\n",
       "      <td>20.0</td>\n",
       "      <td>0.51</td>\n",
       "      <td>71.0</td>\n",
       "      <td>0.76</td>\n",
       "      <td>4.458599e+00</td>\n",
       "      <td>101.0</td>\n",
       "    </tr>\n",
       "    <tr>\n",
       "      <th>118</th>\n",
       "      <td>드라마틱한</td>\n",
       "      <td>5.0</td>\n",
       "      <td>0.31</td>\n",
       "      <td>22.0</td>\n",
       "      <td>0.56</td>\n",
       "      <td>71.0</td>\n",
       "      <td>0.76</td>\n",
       "      <td>4.426230e+00</td>\n",
       "      <td>98.0</td>\n",
       "    </tr>\n",
       "    <tr>\n",
       "      <th>77</th>\n",
       "      <td>자연스런</td>\n",
       "      <td>8.0</td>\n",
       "      <td>0.49</td>\n",
       "      <td>33.0</td>\n",
       "      <td>0.83</td>\n",
       "      <td>71.0</td>\n",
       "      <td>0.76</td>\n",
       "      <td>4.188211e+00</td>\n",
       "      <td>112.0</td>\n",
       "    </tr>\n",
       "    <tr>\n",
       "      <th>113</th>\n",
       "      <td>화사한얼굴</td>\n",
       "      <td>5.0</td>\n",
       "      <td>0.31</td>\n",
       "      <td>31.0</td>\n",
       "      <td>0.78</td>\n",
       "      <td>80.0</td>\n",
       "      <td>0.86</td>\n",
       "      <td>3.114383e+00</td>\n",
       "      <td>116.0</td>\n",
       "    </tr>\n",
       "    <tr>\n",
       "      <th>124</th>\n",
       "      <td>생기있는</td>\n",
       "      <td>4.0</td>\n",
       "      <td>0.25</td>\n",
       "      <td>22.0</td>\n",
       "      <td>0.56</td>\n",
       "      <td>36.0</td>\n",
       "      <td>0.39</td>\n",
       "      <td>2.904564e+00</td>\n",
       "      <td>62.0</td>\n",
       "    </tr>\n",
       "    <tr>\n",
       "      <th>13</th>\n",
       "      <td>쿠션파운데이션</td>\n",
       "      <td>21.0</td>\n",
       "      <td>1.30</td>\n",
       "      <td>44.0</td>\n",
       "      <td>1.11</td>\n",
       "      <td>141.0</td>\n",
       "      <td>1.52</td>\n",
       "      <td>2.612827e+00</td>\n",
       "      <td>206.0</td>\n",
       "    </tr>\n",
       "    <tr>\n",
       "      <th>117</th>\n",
       "      <td>촉촉한수분감</td>\n",
       "      <td>5.0</td>\n",
       "      <td>0.31</td>\n",
       "      <td>32.0</td>\n",
       "      <td>0.81</td>\n",
       "      <td>60.0</td>\n",
       "      <td>0.65</td>\n",
       "      <td>2.607362e+00</td>\n",
       "      <td>97.0</td>\n",
       "    </tr>\n",
       "    <tr>\n",
       "      <th>44</th>\n",
       "      <td>커버력</td>\n",
       "      <td>12.0</td>\n",
       "      <td>0.74</td>\n",
       "      <td>20.0</td>\n",
       "      <td>0.51</td>\n",
       "      <td>93.0</td>\n",
       "      <td>1.00</td>\n",
       "      <td>2.163062e+00</td>\n",
       "      <td>125.0</td>\n",
       "    </tr>\n",
       "    <tr>\n",
       "      <th>6</th>\n",
       "      <td>지속력좋은</td>\n",
       "      <td>27.0</td>\n",
       "      <td>1.67</td>\n",
       "      <td>79.0</td>\n",
       "      <td>1.99</td>\n",
       "      <td>265.0</td>\n",
       "      <td>2.85</td>\n",
       "      <td>1.584318e+00</td>\n",
       "      <td>371.0</td>\n",
       "    </tr>\n",
       "    <tr>\n",
       "      <th>26</th>\n",
       "      <td>빛나는피부</td>\n",
       "      <td>17.0</td>\n",
       "      <td>1.05</td>\n",
       "      <td>69.0</td>\n",
       "      <td>1.74</td>\n",
       "      <td>129.0</td>\n",
       "      <td>1.39</td>\n",
       "      <td>1.428171e+00</td>\n",
       "      <td>215.0</td>\n",
       "    </tr>\n",
       "    <tr>\n",
       "      <th>27</th>\n",
       "      <td>지속력좋은파운데이션</td>\n",
       "      <td>17.0</td>\n",
       "      <td>1.05</td>\n",
       "      <td>34.0</td>\n",
       "      <td>0.86</td>\n",
       "      <td>183.0</td>\n",
       "      <td>1.97</td>\n",
       "      <td>1.305211e+00</td>\n",
       "      <td>234.0</td>\n",
       "    </tr>\n",
       "    <tr>\n",
       "      <th>65</th>\n",
       "      <td>매끈한</td>\n",
       "      <td>9.0</td>\n",
       "      <td>0.56</td>\n",
       "      <td>6.0</td>\n",
       "      <td>0.15</td>\n",
       "      <td>87.0</td>\n",
       "      <td>0.94</td>\n",
       "      <td>1.217168e+00</td>\n",
       "      <td>102.0</td>\n",
       "    </tr>\n",
       "    <tr>\n",
       "      <th>11</th>\n",
       "      <td>인생템</td>\n",
       "      <td>21.0</td>\n",
       "      <td>1.30</td>\n",
       "      <td>88.0</td>\n",
       "      <td>2.22</td>\n",
       "      <td>165.0</td>\n",
       "      <td>1.78</td>\n",
       "      <td>1.133501e+00</td>\n",
       "      <td>274.0</td>\n",
       "    </tr>\n",
       "    <tr>\n",
       "      <th>15</th>\n",
       "      <td>보송보송한메이크업</td>\n",
       "      <td>20.0</td>\n",
       "      <td>1.24</td>\n",
       "      <td>33.0</td>\n",
       "      <td>0.83</td>\n",
       "      <td>134.0</td>\n",
       "      <td>1.44</td>\n",
       "      <td>1.034126e+00</td>\n",
       "      <td>187.0</td>\n",
       "    </tr>\n",
       "    <tr>\n",
       "      <th>28</th>\n",
       "      <td>출근부터밤약속까지</td>\n",
       "      <td>16.0</td>\n",
       "      <td>0.99</td>\n",
       "      <td>30.0</td>\n",
       "      <td>0.76</td>\n",
       "      <td>217.0</td>\n",
       "      <td>2.34</td>\n",
       "      <td>9.263919e-01</td>\n",
       "      <td>263.0</td>\n",
       "    </tr>\n",
       "    <tr>\n",
       "      <th>127</th>\n",
       "      <td>머스트해브</td>\n",
       "      <td>4.0</td>\n",
       "      <td>0.25</td>\n",
       "      <td>26.0</td>\n",
       "      <td>0.66</td>\n",
       "      <td>31.0</td>\n",
       "      <td>0.33</td>\n",
       "      <td>8.468596e-01</td>\n",
       "      <td>61.0</td>\n",
       "    </tr>\n",
       "    <tr>\n",
       "      <th>100</th>\n",
       "      <td>수분감넘치는</td>\n",
       "      <td>7.0</td>\n",
       "      <td>0.43</td>\n",
       "      <td>27.0</td>\n",
       "      <td>0.68</td>\n",
       "      <td>43.0</td>\n",
       "      <td>0.46</td>\n",
       "      <td>8.050089e-01</td>\n",
       "      <td>77.0</td>\n",
       "    </tr>\n",
       "    <tr>\n",
       "      <th>9</th>\n",
       "      <td>파운데이션인생템</td>\n",
       "      <td>22.0</td>\n",
       "      <td>1.36</td>\n",
       "      <td>66.0</td>\n",
       "      <td>1.67</td>\n",
       "      <td>130.0</td>\n",
       "      <td>1.40</td>\n",
       "      <td>7.033998e-01</td>\n",
       "      <td>218.0</td>\n",
       "    </tr>\n",
       "    <tr>\n",
       "      <th>36</th>\n",
       "      <td>파우더리</td>\n",
       "      <td>13.0</td>\n",
       "      <td>0.80</td>\n",
       "      <td>12.0</td>\n",
       "      <td>0.30</td>\n",
       "      <td>85.0</td>\n",
       "      <td>0.92</td>\n",
       "      <td>5.548705e-01</td>\n",
       "      <td>110.0</td>\n",
       "    </tr>\n",
       "    <tr>\n",
       "      <th>130</th>\n",
       "      <td>화사한쿠션</td>\n",
       "      <td>3.0</td>\n",
       "      <td>0.19</td>\n",
       "      <td>81.0</td>\n",
       "      <td>2.05</td>\n",
       "      <td>105.0</td>\n",
       "      <td>1.13</td>\n",
       "      <td>5.433945e-01</td>\n",
       "      <td>189.0</td>\n",
       "    </tr>\n",
       "    <tr>\n",
       "      <th>20</th>\n",
       "      <td>커버쿠션</td>\n",
       "      <td>19.0</td>\n",
       "      <td>1.18</td>\n",
       "      <td>67.0</td>\n",
       "      <td>1.69</td>\n",
       "      <td>117.0</td>\n",
       "      <td>1.26</td>\n",
       "      <td>5.316792e-01</td>\n",
       "      <td>203.0</td>\n",
       "    </tr>\n",
       "    <tr>\n",
       "      <th>52</th>\n",
       "      <td>화사함</td>\n",
       "      <td>9.0</td>\n",
       "      <td>0.56</td>\n",
       "      <td>10.0</td>\n",
       "      <td>0.25</td>\n",
       "      <td>52.0</td>\n",
       "      <td>0.56</td>\n",
       "      <td>1.283368e-14</td>\n",
       "      <td>71.0</td>\n",
       "    </tr>\n",
       "  </tbody>\n",
       "</table>\n",
       "</div>"
      ],
      "text/plain": [
       "           해시태그  빈도_19년  빈도(%)_19년  빈도_20년  빈도(%)_20년  빈도_21년  빈도(%)_21년  \\\n",
       "114        광채피부     5.0       0.31    18.0       0.45    44.0       0.47   \n",
       "105       자연스러운     6.0       0.37    12.0       0.30    47.0       0.51   \n",
       "131      촉촉한선쿠션     3.0       0.19    13.0       0.33    48.0       0.52   \n",
       "55        보송보송한     9.0       0.56    27.0       0.68    87.0       0.94   \n",
       "51      파운데이션쿠션    10.0       0.62    20.0       0.51    71.0       0.76   \n",
       "118       드라마틱한     5.0       0.31    22.0       0.56    71.0       0.76   \n",
       "77         자연스런     8.0       0.49    33.0       0.83    71.0       0.76   \n",
       "113       화사한얼굴     5.0       0.31    31.0       0.78    80.0       0.86   \n",
       "124        생기있는     4.0       0.25    22.0       0.56    36.0       0.39   \n",
       "13      쿠션파운데이션    21.0       1.30    44.0       1.11   141.0       1.52   \n",
       "117      촉촉한수분감     5.0       0.31    32.0       0.81    60.0       0.65   \n",
       "44          커버력    12.0       0.74    20.0       0.51    93.0       1.00   \n",
       "6         지속력좋은    27.0       1.67    79.0       1.99   265.0       2.85   \n",
       "26        빛나는피부    17.0       1.05    69.0       1.74   129.0       1.39   \n",
       "27   지속력좋은파운데이션    17.0       1.05    34.0       0.86   183.0       1.97   \n",
       "65          매끈한     9.0       0.56     6.0       0.15    87.0       0.94   \n",
       "11          인생템    21.0       1.30    88.0       2.22   165.0       1.78   \n",
       "15    보송보송한메이크업    20.0       1.24    33.0       0.83   134.0       1.44   \n",
       "28    출근부터밤약속까지    16.0       0.99    30.0       0.76   217.0       2.34   \n",
       "127       머스트해브     4.0       0.25    26.0       0.66    31.0       0.33   \n",
       "100      수분감넘치는     7.0       0.43    27.0       0.68    43.0       0.46   \n",
       "9      파운데이션인생템    22.0       1.36    66.0       1.67   130.0       1.40   \n",
       "36         파우더리    13.0       0.80    12.0       0.30    85.0       0.92   \n",
       "130       화사한쿠션     3.0       0.19    81.0       2.05   105.0       1.13   \n",
       "20         커버쿠션    19.0       1.18    67.0       1.69   117.0       1.26   \n",
       "52          화사함     9.0       0.56    10.0       0.25    52.0       0.56   \n",
       "\n",
       "              기울기   빈도합계  \n",
       "114  1.052632e+01   67.0  \n",
       "105  6.122449e+00   65.0  \n",
       "131  6.014581e+00   64.0  \n",
       "55   5.035336e+00  123.0  \n",
       "51   4.458599e+00  101.0  \n",
       "118  4.426230e+00   98.0  \n",
       "77   4.188211e+00  112.0  \n",
       "113  3.114383e+00  116.0  \n",
       "124  2.904564e+00   62.0  \n",
       "13   2.612827e+00  206.0  \n",
       "117  2.607362e+00   97.0  \n",
       "44   2.163062e+00  125.0  \n",
       "6    1.584318e+00  371.0  \n",
       "26   1.428171e+00  215.0  \n",
       "27   1.305211e+00  234.0  \n",
       "65   1.217168e+00  102.0  \n",
       "11   1.133501e+00  274.0  \n",
       "15   1.034126e+00  187.0  \n",
       "28   9.263919e-01  263.0  \n",
       "127  8.468596e-01   61.0  \n",
       "100  8.050089e-01   77.0  \n",
       "9    7.033998e-01  218.0  \n",
       "36   5.548705e-01  110.0  \n",
       "130  5.433945e-01  189.0  \n",
       "20   5.316792e-01  203.0  \n",
       "52   1.283368e-14   71.0  "
      ]
     },
     "execution_count": 17,
     "metadata": {},
     "output_type": "execute_result"
    }
   ],
   "source": [
    "df_tag_1921[(df_tag_1921['빈도합계']>=50) & (df_tag_1921['기울기']>0)].sort_values(by='기울기', ascending=False)"
   ]
  },
  {
   "cell_type": "code",
   "execution_count": 18,
   "metadata": {
    "colab": {
     "base_uri": "https://localhost:8080/",
     "height": 363
    },
    "executionInfo": {
     "elapsed": 305,
     "status": "ok",
     "timestamp": 1698371991705,
     "user": {
      "displayName": "안윤경",
      "userId": "08326209251813559422"
     },
     "user_tz": -540
    },
    "id": "xdE-ird--Ast",
    "outputId": "00803f30-c3c7-4da1-a5b0-83dd87b6fe63"
   },
   "outputs": [
    {
     "data": {
      "text/html": [
       "<div>\n",
       "<style scoped>\n",
       "    .dataframe tbody tr th:only-of-type {\n",
       "        vertical-align: middle;\n",
       "    }\n",
       "\n",
       "    .dataframe tbody tr th {\n",
       "        vertical-align: top;\n",
       "    }\n",
       "\n",
       "    .dataframe thead th {\n",
       "        text-align: right;\n",
       "    }\n",
       "</style>\n",
       "<table border=\"1\" class=\"dataframe\">\n",
       "  <thead>\n",
       "    <tr style=\"text-align: right;\">\n",
       "      <th></th>\n",
       "      <th>제품기호</th>\n",
       "      <th>dates</th>\n",
       "      <th>HashTag</th>\n",
       "      <th>likes</th>\n",
       "      <th>num_review</th>\n",
       "      <th>num_photo</th>\n",
       "      <th>year</th>\n",
       "      <th>month</th>\n",
       "      <th>rank</th>\n",
       "      <th>weight</th>\n",
       "    </tr>\n",
       "  </thead>\n",
       "  <tbody>\n",
       "    <tr>\n",
       "      <th>7770</th>\n",
       "      <td>907번_제품</td>\n",
       "      <td>2021.03.</td>\n",
       "      <td>#커버쿠션</td>\n",
       "      <td>24698</td>\n",
       "      <td>50285</td>\n",
       "      <td>31668</td>\n",
       "      <td>2021</td>\n",
       "      <td>3</td>\n",
       "      <td>258.0</td>\n",
       "      <td>10</td>\n",
       "    </tr>\n",
       "    <tr>\n",
       "      <th>5069</th>\n",
       "      <td>63번_제품</td>\n",
       "      <td>2020.11.</td>\n",
       "      <td>#얼어죽어도매트</td>\n",
       "      <td>12792</td>\n",
       "      <td>18547</td>\n",
       "      <td>10981</td>\n",
       "      <td>2020</td>\n",
       "      <td>11</td>\n",
       "      <td>257.0</td>\n",
       "      <td>10</td>\n",
       "    </tr>\n",
       "    <tr>\n",
       "      <th>4395</th>\n",
       "      <td>564번_제품</td>\n",
       "      <td>2021.09.</td>\n",
       "      <td>#촉촉한팩트</td>\n",
       "      <td>86717</td>\n",
       "      <td>12804</td>\n",
       "      <td>6160</td>\n",
       "      <td>2021</td>\n",
       "      <td>9</td>\n",
       "      <td>256.0</td>\n",
       "      <td>10</td>\n",
       "    </tr>\n",
       "    <tr>\n",
       "      <th>5339</th>\n",
       "      <td>670번_제품</td>\n",
       "      <td>2017.05.</td>\n",
       "      <td>#수분팩트</td>\n",
       "      <td>11250</td>\n",
       "      <td>12239</td>\n",
       "      <td>1468</td>\n",
       "      <td>2017</td>\n",
       "      <td>5</td>\n",
       "      <td>255.0</td>\n",
       "      <td>10</td>\n",
       "    </tr>\n",
       "    <tr>\n",
       "      <th>5532</th>\n",
       "      <td>68번_제품</td>\n",
       "      <td>2021.03.</td>\n",
       "      <td>#쿠션추천</td>\n",
       "      <td>12792</td>\n",
       "      <td>6683</td>\n",
       "      <td>3687</td>\n",
       "      <td>2021</td>\n",
       "      <td>3</td>\n",
       "      <td>254.0</td>\n",
       "      <td>10</td>\n",
       "    </tr>\n",
       "    <tr>\n",
       "      <th>8175</th>\n",
       "      <td>94번_제품</td>\n",
       "      <td>2017.05.</td>\n",
       "      <td>#물광쿠션</td>\n",
       "      <td>10517</td>\n",
       "      <td>5822</td>\n",
       "      <td>281</td>\n",
       "      <td>2017</td>\n",
       "      <td>5</td>\n",
       "      <td>253.0</td>\n",
       "      <td>10</td>\n",
       "    </tr>\n",
       "    <tr>\n",
       "      <th>698</th>\n",
       "      <td>174번_제품</td>\n",
       "      <td>2017.12.</td>\n",
       "      <td>#건성쿠션</td>\n",
       "      <td>11250</td>\n",
       "      <td>5729</td>\n",
       "      <td>1131</td>\n",
       "      <td>2017</td>\n",
       "      <td>12</td>\n",
       "      <td>252.0</td>\n",
       "      <td>10</td>\n",
       "    </tr>\n",
       "    <tr>\n",
       "      <th>3475</th>\n",
       "      <td>460번_제품</td>\n",
       "      <td>2020.02.</td>\n",
       "      <td>#광채가빛나는</td>\n",
       "      <td>42085</td>\n",
       "      <td>5688</td>\n",
       "      <td>2967</td>\n",
       "      <td>2020</td>\n",
       "      <td>2</td>\n",
       "      <td>251.0</td>\n",
       "      <td>10</td>\n",
       "    </tr>\n",
       "    <tr>\n",
       "      <th>2306</th>\n",
       "      <td>337번_제품</td>\n",
       "      <td>2018.04.</td>\n",
       "      <td>#톤보정</td>\n",
       "      <td>26055</td>\n",
       "      <td>5595</td>\n",
       "      <td>516</td>\n",
       "      <td>2018</td>\n",
       "      <td>4</td>\n",
       "      <td>250.0</td>\n",
       "      <td>10</td>\n",
       "    </tr>\n",
       "    <tr>\n",
       "      <th>2073</th>\n",
       "      <td>312번_제품</td>\n",
       "      <td>2021.05.</td>\n",
       "      <td>#도자기피부</td>\n",
       "      <td>12722</td>\n",
       "      <td>5115</td>\n",
       "      <td>3012</td>\n",
       "      <td>2021</td>\n",
       "      <td>5</td>\n",
       "      <td>249.0</td>\n",
       "      <td>10</td>\n",
       "    </tr>\n",
       "  </tbody>\n",
       "</table>\n",
       "</div>"
      ],
      "text/plain": [
       "         제품기호     dates   HashTag  likes  num_review  num_photo  year  month  \\\n",
       "7770  907번_제품  2021.03.     #커버쿠션  24698       50285      31668  2021      3   \n",
       "5069   63번_제품  2020.11.  #얼어죽어도매트  12792       18547      10981  2020     11   \n",
       "4395  564번_제품  2021.09.    #촉촉한팩트  86717       12804       6160  2021      9   \n",
       "5339  670번_제품  2017.05.     #수분팩트  11250       12239       1468  2017      5   \n",
       "5532   68번_제품  2021.03.     #쿠션추천  12792        6683       3687  2021      3   \n",
       "8175   94번_제품  2017.05.     #물광쿠션  10517        5822        281  2017      5   \n",
       "698   174번_제품  2017.12.     #건성쿠션  11250        5729       1131  2017     12   \n",
       "3475  460번_제품  2020.02.   #광채가빛나는  42085        5688       2967  2020      2   \n",
       "2306  337번_제품  2018.04.      #톤보정  26055        5595        516  2018      4   \n",
       "2073  312번_제품  2021.05.    #도자기피부  12722        5115       3012  2021      5   \n",
       "\n",
       "       rank  weight  \n",
       "7770  258.0      10  \n",
       "5069  257.0      10  \n",
       "4395  256.0      10  \n",
       "5339  255.0      10  \n",
       "5532  254.0      10  \n",
       "8175  253.0      10  \n",
       "698   252.0      10  \n",
       "3475  251.0      10  \n",
       "2306  250.0      10  \n",
       "2073  249.0      10  "
      ]
     },
     "execution_count": 18,
     "metadata": {},
     "output_type": "execute_result"
    }
   ],
   "source": [
    "df_bsc_rslt.sort_values(by='rank', ascending=False).drop_duplicates(subset='제품기호')[:10]"
   ]
  },
  {
   "cell_type": "markdown",
   "metadata": {
    "id": "_SbLDkGJGSth"
   },
   "source": [
    "주요 제품 10개 찾아보기"
   ]
  },
  {
   "cell_type": "code",
   "execution_count": 19,
   "metadata": {
    "executionInfo": {
     "elapsed": 434,
     "status": "ok",
     "timestamp": 1698371994390,
     "user": {
      "displayName": "안윤경",
      "userId": "08326209251813559422"
     },
     "user_tz": -540
    },
    "id": "zNNUJv8hThUM"
   },
   "outputs": [],
   "source": [
    "df_top10 = df_bsc_rslt[df_bsc_rslt['제품기호'].str.contains('907번_제품') |\\\n",
    "                       df_bsc_rslt['제품기호'].str.contains('63번_제품')|\\\n",
    "                       df_bsc_rslt['제품기호'].str.contains('564번_제품') |\\\n",
    "                       df_bsc_rslt['제품기호'].str.contains('670번_제품')|\\\n",
    "                       df_bsc_rslt['제품기호'].str.contains('68번_제품') |\\\n",
    "                       df_bsc_rslt['제품기호'].str.contains('94번_제품')|\\\n",
    "                       df_bsc_rslt['제품기호'].str.contains('174번_제품') |\\\n",
    "                       df_bsc_rslt['제품기호'].str.contains('460번_제품')|\\\n",
    "                       df_bsc_rslt['제품기호'].str.contains('337번_제품') |\\\n",
    "                       df_bsc_rslt['제품기호'].str.contains('312번_제품')]"
   ]
  },
  {
   "cell_type": "code",
   "execution_count": 20,
   "metadata": {
    "colab": {
     "base_uri": "https://localhost:8080/"
    },
    "executionInfo": {
     "elapsed": 2,
     "status": "ok",
     "timestamp": 1698371996158,
     "user": {
      "displayName": "안윤경",
      "userId": "08326209251813559422"
     },
     "user_tz": -540
    },
    "id": "xkT4K8lrThRZ",
    "outputId": "850dd2f2-6f87-478a-f7bc-5c19960f5808"
   },
   "outputs": [
    {
     "data": {
      "text/plain": [
       "[('#촉촉한쿠션', 10),\n",
       " ('#지속력좋은', 8),\n",
       " ('#생기넘치는피부', 7),\n",
       " ('#지속력좋은파운데이션', 7),\n",
       " ('#광채가빛나는', 6),\n",
       " ('#출근부터밤약속까지', 6),\n",
       " ('#화사한쿠션', 6),\n",
       " ('#투명하게빛나는피부', 5),\n",
       " ('#빛나는피부', 5),\n",
       " ('#윤기나는얼굴', 5)]"
      ]
     },
     "execution_count": 20,
     "metadata": {},
     "output_type": "execute_result"
    }
   ],
   "source": [
    "Counter(df_top10['HashTag'].tolist()).most_common(10)"
   ]
  }
 ],
 "metadata": {
  "colab": {
   "provenance": [
    {
     "file_id": "14kMOrLAskX5JO3UNuWjGzx0Ka6_uKyPi",
     "timestamp": 1663807512925
    }
   ]
  },
  "kernelspec": {
   "display_name": "Python 3 (ipykernel)",
   "language": "python",
   "name": "python3"
  },
  "language_info": {
   "codemirror_mode": {
    "name": "ipython",
    "version": 3
   },
   "file_extension": ".py",
   "mimetype": "text/x-python",
   "name": "python",
   "nbconvert_exporter": "python",
   "pygments_lexer": "ipython3",
   "version": "3.11.5"
  }
 },
 "nbformat": 4,
 "nbformat_minor": 1
}
