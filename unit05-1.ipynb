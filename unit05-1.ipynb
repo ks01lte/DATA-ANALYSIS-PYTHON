{
 "cells": [
  {
   "cell_type": "code",
   "execution_count": null,
   "metadata": {},
   "outputs": [],
   "source": [
    "import csv\n",
    "f=open('seoul.csv')\n",
    "data=csv.reader(f)\n",
    "next(data)\n",
    "result=[] #최고 기온 데이터를 저장할 리스트 생성\n",
    "\n",
    "for row in data :\n",
    "    if row[-1] != '' :\n",
    "        result.append(float(row[-1])) # result 리스트에 최고 기온 값 추가\n",
    "print(result)"
   ]
  },
  {
   "cell_type": "code",
   "execution_count": null,
   "metadata": {},
   "outputs": [],
   "source": [
    "import csv\n",
    "f=open('seoul.csv')\n",
    "data=csv.reader(f)\n",
    "next(data)\n",
    "result=[] #최고 기온 데이터를 저장할 리스트 생성\n",
    "\n",
    "for row in data :\n",
    "    if row[-1] != '' :\n",
    "        result.append(float(row[-1])) # result 리스트에 최고 기온 값 추가\n",
    "print(len(result))"
   ]
  },
  {
   "cell_type": "code",
   "execution_count": null,
   "metadata": {},
   "outputs": [],
   "source": [
    "import csv\n",
    "import matplotlib.pyplot as plt\n",
    "f=open('seoul.csv')\n",
    "data=csv.reader(f)\n",
    "next(data)\n",
    "result=[] #최고 기온 데이터를 저장할 리스트 생성\n",
    "\n",
    "for row in data :\n",
    "    if row[-1] != '' :\n",
    "        result.append(float(row[-1])) # result 리스트에 최고 기온 값 추가\n",
    "\n",
    "plt.plot(result,'r')\n",
    "plt.show()"
   ]
  },
  {
   "cell_type": "code",
   "execution_count": null,
   "metadata": {},
   "outputs": [],
   "source": [
    "import csv\n",
    "import matplotlib.pyplot as plt\n",
    "f=open('seoul.csv')\n",
    "data=csv.reader(f)\n",
    "next(data)\n",
    "result=[]\n",
    "\n",
    "for row in data :\n",
    "    if row[-1] != '' :\n",
    "        result.append(float(row[-1]))\n",
    "\n",
    "plt.figure(figsize = (10,2)) #가로로 10인치, 세로로 2인치로 설정\n",
    "plt.plot(result,'r')\n",
    "plt.show()"
   ]
  },
  {
   "cell_type": "code",
   "execution_count": null,
   "metadata": {},
   "outputs": [],
   "source": [
    "s='hello python'\n",
    "print(s.split())\n",
    "\n",
    "date='1970-10-01'\n",
    "print(date.split('-'))\n",
    "\n",
    "print(date.split('-')[0])\n",
    "print(date.split('-')[1])\n",
    "print(date.split('-')[2])"
   ]
  },
  {
   "cell_type": "code",
   "execution_count": null,
   "metadata": {},
   "outputs": [],
   "source": [
    "import csv\n",
    "import matplotlib.pyplot as plt\n",
    "f=open('seoul.csv')\n",
    "data=csv.reader(f)\n",
    "next(data)\n",
    "result=[] #최고 기온 데이터를 저장할 리스트 생성\n",
    "\n",
    "for row in data :\n",
    "    if row[-1] != '' :\n",
    "        if row[0].split('-')[1] == '08' : # 8월에 해당하는 값이라면\n",
    "            result.append(float(row[-1])) # result 리스트에 최고 기온 값 추가\n",
    "plt.plot(result,'hotpink')\n",
    "plt.show()"
   ]
  },
  {
   "cell_type": "code",
   "execution_count": null,
   "metadata": {},
   "outputs": [],
   "source": [
    "#매년 2월 14일의 최고 기온의 데이터를 추출한다면?\n",
    "\n",
    "import csv\n",
    "import matplotlib.pyplot as plt\n",
    "f=open('seoul.csv')\n",
    "data=csv.reader(f)\n",
    "next(data)\n",
    "result=[] #최고 기온 데이터를 저장할 리스트 생성\n",
    "\n",
    "for row in data :\n",
    "    if row[-1] != '' :\n",
    "        if row[0].split('-')[1] == '02' and row[0].split('-')[2] == '14' : # 2/14 해당하는 값이라면\n",
    "            result.append(float(row[-1])) # result 리스트에 최고 기온 값 추가\n",
    "plt.plot(result,'hotpink')\n",
    "plt.show()"
   ]
  },
  {
   "cell_type": "code",
   "execution_count": null,
   "metadata": {},
   "outputs": [],
   "source": [
    "# 1983년 이후 데이터 추출, 2/14의 최고 기온과 최저 기온 출력\n",
    "\n",
    "import matplotlib.pyplot as plt\n",
    "f=open('seoul.csv')\n",
    "data=csv.reader(f)\n",
    "next(data)\n",
    "high=[]\n",
    "low=[]\n",
    "\n",
    "for row in data:\n",
    "    if row[-1] != '' and row[-2] != '':\n",
    "        date = row[0].split('-') # 날짜 값을 -문자를 기준으로 구분하여 date 리스트에 저장\n",
    "        if 1983 <= int(date[0]) : #1983년 이후 데이터 중\n",
    "            if date[1] == '02' and date[2] ==  '14' : # 2월 14일일 데이터라면\n",
    "                high.append(float(row[-1])) #최고 기온 값을 high 리스트에 저장\n",
    "                low.append(float(row[-2])) #최저 기온 값을 low 리스트에 저장\n",
    "\n",
    "plt.rc('font',family='Malgun Gothic') #글꼴지정\n",
    "plt.title('내 생일의 기온 변화 그래프') #제목설정\n",
    "plt.rcParams['axes.unicode_minus'] = False # 마이너스 기호(-) 꺠지지 않도록 한다.\n",
    "plt.plot(high,'hotpink',label='high')\n",
    "plt.plot(low,'skyblue',label='low')\n",
    "plt.legend()\n",
    "plt.show()"
   ]
  },
  {
   "cell_type": "code",
   "execution_count": null,
   "metadata": {},
   "outputs": [],
   "source": [
    "import matplotlib.pyplot as plt\n",
    "f=open('seoul.csv')\n",
    "data=csv.reader(f)\n",
    "next(data)\n",
    "year=[]\n",
    "average=[]\n",
    "\n",
    "for row in data:\n",
    "    if row[-3] != '':\n",
    "        date = row[0].split('-')\n",
    "        if date[1] == '02' and date[2] ==  '14' :\n",
    "            year.append(float(date[0])) #년도 값을 year 리스트에 저장\n",
    "            average.append(float(row[-3])) #평균 기온 값을 average 리스트에 저장\n",
    "\n",
    "#plt.rc('font',family='Malgun Gothic') #글꼴지정\n",
    "plt.rcParams['axes.unicode_minus'] = False # 마이너스 기호(-) 꺠지지 않도록\n",
    "plt.plot([year],[average],'hotpink')\n",
    "plt.show()"
   ]
  }
 ],
 "metadata": {
  "kernelspec": {
   "display_name": "Python 3",
   "language": "python",
   "name": "python3"
  },
  "language_info": {
   "codemirror_mode": {
    "name": "ipython",
    "version": 3
   },
   "file_extension": ".py",
   "mimetype": "text/x-python",
   "name": "python",
   "nbconvert_exporter": "python",
   "pygments_lexer": "ipython3",
   "version": "3.8.3"
  }
 },
 "nbformat": 4,
 "nbformat_minor": 4
}
