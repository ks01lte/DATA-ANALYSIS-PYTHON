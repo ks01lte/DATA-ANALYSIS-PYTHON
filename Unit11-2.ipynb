{
 "cells": [
  {
   "cell_type": "code",
   "execution_count": 2,
   "metadata": {},
   "outputs": [
    {
     "name": "stdout",
     "output_type": "stream",
     "text": [
      "유임승차 : 강남 2호선 3153418\n",
      "유임하차 : 강남 2호선 3210437\n",
      "무임승차 : 종로3가 1호선 387062\n",
      "무임하차 : 제기동 1호선 400607\n"
     ]
    }
   ],
   "source": [
    "# 유무임 승하차 인원이 가장 많은 역은 각각 어디일까?\n",
    "\n",
    "import csv\n",
    "f = open('subwayfree.csv', encoding='UTF8') \n",
    "data = csv.reader(f)\n",
    "\n",
    "next(data)\n",
    "mx = [0] * 4\n",
    "mx_station = [''] * 4\n",
    "label = ['유임승차','유임하차','무임승차','무임하차']\n",
    "\n",
    "for row in data :\n",
    "    for i in range(4,8) :\n",
    "        row[i] = int(row[i])\n",
    "        if row[i] > mx[i-4] :\n",
    "            mx[i-4] = row[i]\n",
    "            mx_station[i-4] = row[3] + ' ' + row[1]\n",
    "            \n",
    "for i in range(4) :\n",
    "    print(label[i]+' : '+mx_station[i], mx[i])"
   ]
  },
  {
   "cell_type": "code",
   "execution_count": null,
   "metadata": {},
   "outputs": [],
   "source": []
  }
 ],
 "metadata": {
  "kernelspec": {
   "display_name": "Python 3",
   "language": "python",
   "name": "python3"
  },
  "language_info": {
   "codemirror_mode": {
    "name": "ipython",
    "version": 3
   },
   "file_extension": ".py",
   "mimetype": "text/x-python",
   "name": "python",
   "nbconvert_exporter": "python",
   "pygments_lexer": "ipython3",
   "version": "3.8.3"
  }
 },
 "nbformat": 4,
 "nbformat_minor": 4
}
